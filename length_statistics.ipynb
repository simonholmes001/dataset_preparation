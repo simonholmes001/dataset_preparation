{
 "cells": [
  {
   "cell_type": "code",
   "execution_count": 3,
   "metadata": {},
   "outputs": [],
   "source": [
    "import os\n",
    "import pandas as pd\n",
    "from tqdm import tqdm"
   ]
  },
  {
   "cell_type": "code",
   "execution_count": 56,
   "metadata": {},
   "outputs": [],
   "source": [
    "input_path = '/media/kovan_ai_tor_the_beast/hard_drive_1/DATA/amino_acid_tags/'"
   ]
  },
  {
   "cell_type": "code",
   "execution_count": 59,
   "metadata": {},
   "outputs": [
    {
     "name": "stderr",
     "output_type": "stream",
     "text": [
      "100%|██████████| 145103/145103 [00:00<00:00, 2012812.60it/s]"
     ]
    },
    {
     "name": "stdout",
     "output_type": "stream",
     "text": [
      "145103\n"
     ]
    },
    {
     "name": "stderr",
     "output_type": "stream",
     "text": [
      "\n"
     ]
    }
   ],
   "source": [
    "main_record = []\n",
    "for root, dirs, files in os.walk(source_path, topdown=False): # See below for details of source path\n",
    "    for name in tqdm(files):\n",
    "        main_record.append(name.split('_')[0])\n",
    "print(len(main_record))"
   ]
  },
  {
   "cell_type": "code",
   "execution_count": 60,
   "metadata": {},
   "outputs": [
    {
     "name": "stderr",
     "output_type": "stream",
     "text": [
      "100%|██████████| 149271/149271 [00:29<00:00, 5145.82it/s]\n"
     ]
    }
   ],
   "source": [
    "# General Statistics on Entire PDB Population\n",
    "size = []\n",
    "zeros = []\n",
    "for root, dirs, files in os.walk(input_path, topdown=False):\n",
    "    for name in tqdm(files):\n",
    "        with open(input_path + name) as f:\n",
    "            count = sum(1 for line in f)\n",
    "            if count != 0:\n",
    "                size.append(count)\n",
    "            else:\n",
    "                 zeros.append(name.split('_')[0])"
   ]
  },
  {
   "cell_type": "code",
   "execution_count": 61,
   "metadata": {},
   "outputs": [
    {
     "name": "stdout",
     "output_type": "stream",
     "text": [
      "148821\n",
      "450\n",
      "148371\n"
     ]
    }
   ],
   "source": [
    "print(len(size))\n",
    "print(len(zeros))\n",
    "print(len(size) - len(zeros))"
   ]
  },
  {
   "cell_type": "code",
   "execution_count": 62,
   "metadata": {},
   "outputs": [],
   "source": [
    "df = pd.DataFrame(data=size, columns=['length'])"
   ]
  },
  {
   "cell_type": "code",
   "execution_count": 63,
   "metadata": {},
   "outputs": [
    {
     "name": "stdout",
     "output_type": "stream",
     "text": [
      "   length\n",
      "0     696\n",
      "1    1737\n",
      "2     137\n",
      "3     702\n",
      "4     427\n",
      "(148821, 1)\n",
      "              length\n",
      "count  148821.000000\n",
      "mean      917.211758\n",
      "std      2514.449808\n",
      "min         1.000000\n",
      "25%       271.000000\n",
      "50%       473.000000\n",
      "75%       924.000000\n",
      "max    357168.000000\n"
     ]
    }
   ],
   "source": [
    "print(df.head())\n",
    "print(df.shape)\n",
    "print(df.describe())"
   ]
  },
  {
   "cell_type": "markdown",
   "metadata": {},
   "source": [
    "## Create dataset of proteins < 300 amino acids in length for message-parsing neural network"
   ]
  },
  {
   "cell_type": "code",
   "execution_count": 64,
   "metadata": {},
   "outputs": [
    {
     "name": "stderr",
     "output_type": "stream",
     "text": [
      "  0%|          | 185/149271 [00:00<02:41, 923.44it/s]"
     ]
    },
    {
     "name": "stdout",
     "output_type": "stream",
     "text": [
      "6ajw 137\n",
      "1foy 76\n",
      "4jyq 291\n",
      "5fc4 144\n",
      "1kok 294\n",
      "4gv5 127\n",
      "5nvb 300\n",
      "2yv7 235\n",
      "2rb8 93\n",
      "5i12 162\n",
      "3n38 290\n",
      "1p4b 234\n",
      "3uaf 117\n",
      "4tt6 132\n",
      "1rc4 159\n",
      "5zrp 132\n",
      "4h55 233\n",
      "1i5r 285\n",
      "3tof 202\n",
      "1kwj 68\n",
      "4p9v 102\n",
      "5jdm 296\n",
      "2q1m 119\n",
      "4m7i 247\n",
      "5cn3 237\n",
      "3cfm 253\n",
      "4nqu 208\n",
      "3dju 121\n",
      "3bii 222\n",
      "4fob 295\n",
      "4n6q 178\n",
      "1yzk 168\n",
      "1tj4 244\n",
      "4qxo 186\n",
      "1gjn 153\n",
      "1dfu 94\n",
      "1kvy 123\n",
      "1eos 248\n",
      "5i5n 272\n",
      "1a6g 153\n",
      "6gnc 288\n",
      "1kve 280\n",
      "4go5 167\n",
      "1kc3 299\n",
      "2mie 120\n",
      "4ifn 285\n",
      "2p7s 113\n",
      "2fbd 245\n",
      "3bgp 272\n",
      "3f9e 297\n",
      "5efm 16\n",
      "6ohk 172\n",
      "3sa4 206\n",
      "1ix4 212\n",
      "2r48 105\n",
      "4c44 150\n",
      "6gjl 172\n",
      "5o7r 193\n",
      "1b4l 153\n",
      "2pry 215\n",
      "3mo9 266\n",
      "4c9g 265\n",
      "2ler 220\n",
      "5m9y 140\n",
      "3c5l 221\n"
     ]
    },
    {
     "name": "stderr",
     "output_type": "stream",
     "text": [
      "  0%|          | 361/149271 [00:00<02:43, 911.76it/s]"
     ]
    },
    {
     "name": "stdout",
     "output_type": "stream",
     "text": [
      "6gr4 227\n",
      "2bd8 241\n",
      "1b6j 198\n",
      "1kn5 102\n",
      "5xuq 241\n",
      "5puu 255\n",
      "5cfe 252\n",
      "5psj 255\n",
      "2hip 142\n",
      "5fnd 209\n",
      "1ub0 246\n",
      "3cri 283\n",
      "2lr2 152\n",
      "6eik 214\n",
      "4zj2 270\n",
      "3uec 141\n",
      "2zo0 210\n",
      "3q3j 278\n",
      "6gpd 254\n",
      "1bic 258\n",
      "3lru 300\n",
      "1p1n 258\n",
      "6gd6 129\n",
      "2r4x 290\n",
      "1ek3 228\n",
      "4fxc 98\n",
      "1epi 53\n",
      "5b4i 260\n",
      "1uak 243\n",
      "5iph 170\n",
      "3ret 188\n",
      "5usv 51\n",
      "5j0m 130\n",
      "1aal 115\n",
      "5tzp 167\n"
     ]
    },
    {
     "name": "stderr",
     "output_type": "stream",
     "text": [
      "\n"
     ]
    }
   ],
   "source": [
    "counter = []\n",
    "tag = []\n",
    "for root, dirs, files in os.walk(input_path, topdown=False):\n",
    "    for name in tqdm(files):\n",
    "        if name.split('_')[0] in main_record:\n",
    "            with open(input_path + name) as f:\n",
    "                count2 = sum(1 for line in f)\n",
    "                if count2 != 0:\n",
    "                    if len(counter) > 99:\n",
    "                        break\n",
    "                    else:\n",
    "                        if count2 <= 300:\n",
    "                            counter.append(count2)\n",
    "                            tag.append(name.split('_')[0])\n",
    "                            print(\"{} {}\".format(name.split('_')[0], count2))"
   ]
  },
  {
   "cell_type": "code",
   "execution_count": 65,
   "metadata": {},
   "outputs": [
    {
     "name": "stdout",
     "output_type": "stream",
     "text": [
      "[137, 76, 291, 144, 294, 127, 300, 235, 93, 162, 290, 234, 117, 132, 159, 132, 233, 285, 202, 68, 102, 296, 119, 247, 237, 253, 208, 121, 222, 295, 178, 168, 244, 186, 153, 94, 123, 248, 272, 153, 288, 280, 167, 299, 120, 285, 113, 245, 272, 297, 16, 172, 206, 212, 105, 150, 172, 193, 153, 215, 266, 265, 220, 140, 221, 227, 241, 198, 102, 241, 255, 252, 255, 142, 209, 246, 283, 152, 214, 270, 141, 210, 278, 254, 258, 300, 258, 129, 290, 228, 98, 53, 260, 243, 170, 188, 51, 130, 115, 167]\n",
      "['6ajw', '1foy', '4jyq', '5fc4', '1kok', '4gv5', '5nvb', '2yv7', '2rb8', '5i12', '3n38', '1p4b', '3uaf', '4tt6', '1rc4', '5zrp', '4h55', '1i5r', '3tof', '1kwj', '4p9v', '5jdm', '2q1m', '4m7i', '5cn3', '3cfm', '4nqu', '3dju', '3bii', '4fob', '4n6q', '1yzk', '1tj4', '4qxo', '1gjn', '1dfu', '1kvy', '1eos', '5i5n', '1a6g', '6gnc', '1kve', '4go5', '1kc3', '2mie', '4ifn', '2p7s', '2fbd', '3bgp', '3f9e', '5efm', '6ohk', '3sa4', '1ix4', '2r48', '4c44', '6gjl', '5o7r', '1b4l', '2pry', '3mo9', '4c9g', '2ler', '5m9y', '3c5l', '6gr4', '2bd8', '1b6j', '1kn5', '5xuq', '5puu', '5cfe', '5psj', '2hip', '5fnd', '1ub0', '3cri', '2lr2', '6eik', '4zj2', '3uec', '2zo0', '3q3j', '6gpd', '1bic', '3lru', '1p1n', '6gd6', '2r4x', '1ek3', '4fxc', '1epi', '5b4i', '1uak', '5iph', '3ret', '5usv', '5j0m', '1aal', '5tzp']\n",
      "100\n",
      "100\n"
     ]
    }
   ],
   "source": [
    "print(counter)\n",
    "print(tag)\n",
    "print(len(counter))\n",
    "print(len(tag))"
   ]
  },
  {
   "cell_type": "code",
   "execution_count": 66,
   "metadata": {},
   "outputs": [
    {
     "name": "stdout",
     "output_type": "stream",
     "text": [
      "   name  length\n",
      "0  6ajw     137\n",
      "1  1foy      76\n",
      "2  4jyq     291\n",
      "3  5fc4     144\n",
      "4  1kok     294\n",
      "(100, 2)\n",
      "count    100.000000\n",
      "mean     198.100000\n",
      "std       70.117578\n",
      "min       16.000000\n",
      "25%      140.750000\n",
      "50%      209.500000\n",
      "75%      255.000000\n",
      "max      300.000000\n",
      "Name: length, dtype: float64\n"
     ]
    }
   ],
   "source": [
    "df2 = pd.DataFrame(data=counter, columns=['length'])\n",
    "df3 = pd.DataFrame(data=tag, columns=['name'])\n",
    "df4 = pd.concat([df3, df2], axis=1)\n",
    "print(df4.head())\n",
    "print(df4.shape)\n",
    "print(df4['length'].describe())"
   ]
  },
  {
   "cell_type": "code",
   "execution_count": 67,
   "metadata": {},
   "outputs": [
    {
     "name": "stdout",
     "output_type": "stream",
     "text": [
      "['6ajw', '1foy', '4jyq', '5fc4', '1kok', '4gv5', '5nvb', '2yv7', '2rb8', '5i12', '3n38', '1p4b', '3uaf', '4tt6', '1rc4', '5zrp', '4h55', '1i5r', '3tof', '1kwj', '4p9v', '5jdm', '2q1m', '4m7i', '5cn3', '3cfm', '4nqu', '3dju', '3bii', '4fob', '4n6q', '1yzk', '1tj4', '4qxo', '1gjn', '1dfu', '1kvy', '1eos', '5i5n', '1a6g', '6gnc', '1kve', '4go5', '1kc3', '2mie', '4ifn', '2p7s', '2fbd', '3bgp', '3f9e', '5efm', '6ohk', '3sa4', '1ix4', '2r48', '4c44', '6gjl', '5o7r', '1b4l', '2pry', '3mo9', '4c9g', '2ler', '5m9y', '3c5l', '6gr4', '2bd8', '1b6j', '1kn5', '5xuq', '5puu', '5cfe', '5psj', '2hip', '5fnd', '1ub0', '3cri', '2lr2', '6eik', '4zj2', '3uec', '2zo0', '3q3j', '6gpd', '1bic', '3lru', '1p1n', '6gd6', '2r4x', '1ek3', '4fxc', '1epi', '5b4i', '1uak', '5iph', '3ret', '5usv', '5j0m', '1aal', '5tzp']\n"
     ]
    }
   ],
   "source": [
    "print(tag)"
   ]
  },
  {
   "cell_type": "code",
   "execution_count": 68,
   "metadata": {},
   "outputs": [],
   "source": [
    "import shutil "
   ]
  },
  {
   "cell_type": "code",
   "execution_count": null,
   "metadata": {},
   "outputs": [],
   "source": []
  },
  {
   "cell_type": "markdown",
   "metadata": {},
   "source": [
    "## Move amino acid test dataset tags to TEST_DATA"
   ]
  },
  {
   "cell_type": "markdown",
   "metadata": {},
   "source": [
    "destination_path = '/media/kovan_ai_tor_the_beast/hard_drive_2/TEST_DATA/tags/'"
   ]
  },
  {
   "cell_type": "code",
   "execution_count": 84,
   "metadata": {},
   "outputs": [],
   "source": [
    "for t in tag:\n",
    "    shutil.copy(input_path + t + '_amino_acid_tag_.csv', destination_path)"
   ]
  },
  {
   "cell_type": "code",
   "execution_count": null,
   "metadata": {},
   "outputs": [],
   "source": []
  },
  {
   "cell_type": "markdown",
   "metadata": {},
   "source": [
    "## Move adjacency matrix test dataset to TEST_DATA"
   ]
  },
  {
   "cell_type": "code",
   "execution_count": 58,
   "metadata": {},
   "outputs": [],
   "source": [
    "source_path = '/media/kovan_ai_tor_the_beast/disk/protein_folding/pickle_files/pickle_label_gz/'\n",
    "destination_path_2 = '/media/kovan_ai_tor_the_beast/hard_drive_2/TEST_DATA/adjacency/dataset_gz/'"
   ]
  },
  {
   "cell_type": "code",
   "execution_count": 86,
   "metadata": {},
   "outputs": [],
   "source": [
    "for t in tag:\n",
    "    shutil.copy(source_path + t + '_label.pickle.gz', destination_path_2)"
   ]
  },
  {
   "cell_type": "markdown",
   "metadata": {},
   "source": [
    "## Move adjacency matrix test dataset to TEST_DATA"
   ]
  },
  {
   "cell_type": "code",
   "execution_count": 71,
   "metadata": {},
   "outputs": [],
   "source": [
    "source_path_2 = '/media/kovan_ai_tor_the_beast/disk/protein_folding/pickle_files/pickle_features_gz/'\n",
    "destination_path_3 = '/media/kovan_ai_tor_the_beast/hard_drive_2/TEST_DATA/features/'"
   ]
  },
  {
   "cell_type": "code",
   "execution_count": 73,
   "metadata": {},
   "outputs": [],
   "source": [
    "for t in tag:\n",
    "    shutil.copy(source_path_2 + t + '_feature.pickle.gz', destination_path_3)"
   ]
  },
  {
   "cell_type": "code",
   "execution_count": null,
   "metadata": {},
   "outputs": [],
   "source": []
  },
  {
   "cell_type": "code",
   "execution_count": null,
   "metadata": {},
   "outputs": [],
   "source": []
  },
  {
   "cell_type": "code",
   "execution_count": null,
   "metadata": {},
   "outputs": [],
   "source": []
  },
  {
   "cell_type": "code",
   "execution_count": null,
   "metadata": {},
   "outputs": [],
   "source": []
  },
  {
   "cell_type": "code",
   "execution_count": 2,
   "metadata": {},
   "outputs": [],
   "source": [
    "# Investigate creation of different adjacency matricies - fully connected, direct neighbours only"
   ]
  },
  {
   "cell_type": "code",
   "execution_count": 2,
   "metadata": {},
   "outputs": [],
   "source": [
    "import numpy as np"
   ]
  },
  {
   "cell_type": "code",
   "execution_count": 3,
   "metadata": {},
   "outputs": [],
   "source": [
    "source_path_2 = '/media/kovan_ai_tor_the_beast/hard_drive_2/TEST_DATA/tags/'"
   ]
  },
  {
   "cell_type": "code",
   "execution_count": 4,
   "metadata": {},
   "outputs": [
    {
     "name": "stderr",
     "output_type": "stream",
     "text": [
      "100%|██████████| 100/100 [00:00<00:00, 5010.28it/s]"
     ]
    },
    {
     "name": "stdout",
     "output_type": "stream",
     "text": [
      "5xuq 241\n",
      "4c44 150\n",
      "1dfu 94\n",
      "1i5r 285\n",
      "2lr2 152\n",
      "1ek3 228\n",
      "1ix4 212\n",
      "5efm 16\n",
      "5i5n 272\n",
      "5o7r 193\n",
      "5b4i 260\n",
      "1b6j 198\n",
      "1kc3 299\n",
      "4nqu 208\n",
      "6eik 214\n",
      "3sa4 206\n",
      "4ifn 285\n",
      "2zo0 210\n",
      "1a6g 153\n",
      "4m7i 247\n",
      "4zj2 270\n",
      "4fob 295\n",
      "6gr4 227\n",
      "1epi 53\n",
      "3n38 290\n",
      "5cn3 237\n",
      "1yzk 168\n",
      "2fbd 245\n",
      "5puu 255\n",
      "6gd6 129\n",
      "3bgp 272\n",
      "2mie 120\n",
      "4tt6 132\n",
      "5psj 255\n",
      "2r48 105\n",
      "3cfm 253\n",
      "2p7s 113\n",
      "1eos 248\n",
      "4jyq 291\n",
      "3tof 202\n",
      "6ajw 137\n",
      "5iph 170\n",
      "1b4l 153\n",
      "5tzp 167\n",
      "1kvy 123\n",
      "6ohk 172\n",
      "5usv 51\n",
      "5zrp 132\n",
      "5j0m 130\n",
      "1bic 258\n",
      "3q3j 278\n",
      "1rc4 159\n",
      "6gpd 254\n",
      "3bii 222\n",
      "2pry 215\n",
      "6gjl 172\n",
      "2bd8 241\n",
      "5nvb 300\n",
      "5fc4 144\n",
      "4go5 167\n",
      "3lru 300\n",
      "4fxc 98\n",
      "1kve 280\n",
      "1kok 294\n",
      "5fnd 209\n",
      "4gv5 127\n",
      "1tj4 244\n",
      "1kwj 68\n",
      "1foy 76\n",
      "3f9e 297\n",
      "2yv7 235\n",
      "2ler 220\n",
      "1ub0 246\n",
      "2hip 142\n",
      "1uak 243\n",
      "1aal 115\n",
      "2r4x 290\n",
      "3c5l 221\n",
      "5jdm 296\n",
      "4p9v 102\n",
      "4h55 233\n",
      "1p4b 234\n",
      "1p1n 258\n",
      "4c9g 265\n",
      "5cfe 252\n",
      "3ret 188\n",
      "2rb8 93\n",
      "3uaf 117\n",
      "3dju 121\n",
      "1kn5 102\n",
      "1gjn 153\n",
      "6gnc 288\n",
      "5m9y 140\n",
      "3cri 283\n",
      "4n6q 178\n",
      "3uec 141\n",
      "3mo9 266\n",
      "5i12 162\n",
      "2q1m 119\n",
      "4qxo 186\n"
     ]
    },
    {
     "name": "stderr",
     "output_type": "stream",
     "text": [
      "\n"
     ]
    }
   ],
   "source": [
    "counter = []\n",
    "tag = []\n",
    "for root, dirs, files in os.walk(source_path_2, topdown=False):\n",
    "    for name in tqdm(files):\n",
    "        with open(source_path_2 + name) as f:\n",
    "            count2 = sum(1 for line in f)\n",
    "            if count2 != 0:\n",
    "                if len(counter) > 99:\n",
    "                    break\n",
    "                else:\n",
    "                    if count2 <= 300:\n",
    "                        counter.append(count2)\n",
    "                        tag.append(name.split('_')[0])\n",
    "                        print(\"{} {}\".format(name.split('_')[0], count2))"
   ]
  },
  {
   "cell_type": "code",
   "execution_count": 14,
   "metadata": {},
   "outputs": [
    {
     "name": "stdout",
     "output_type": "stream",
     "text": [
      "[[1 2 3]\n",
      " [0 5 6]\n",
      " [0 0 9]]\n"
     ]
    }
   ],
   "source": [
    "x = np.triu([[1,2,3],[4,5,6],[7,8,9]])\n",
    "print(x)"
   ]
  },
  {
   "cell_type": "code",
   "execution_count": 16,
   "metadata": {},
   "outputs": [
    {
     "name": "stdout",
     "output_type": "stream",
     "text": [
      "[[0. 0. 0.]\n",
      " [0. 0. 0.]\n",
      " [0. 0. 0.]]\n"
     ]
    }
   ],
   "source": [
    "y = np.zeros((3,3))\n",
    "print(y)"
   ]
  },
  {
   "cell_type": "code",
   "execution_count": 23,
   "metadata": {},
   "outputs": [
    {
     "name": "stdout",
     "output_type": "stream",
     "text": [
      "[[0. 2. 3.]\n",
      " [0. 0. 6.]\n",
      " [0. 0. 0.]]\n"
     ]
    }
   ],
   "source": [
    "z = np.add(x,y)\n",
    "z = np.triu(z, k=1)\n",
    "print(z)"
   ]
  },
  {
   "cell_type": "code",
   "execution_count": 30,
   "metadata": {},
   "outputs": [
    {
     "name": "stdout",
     "output_type": "stream",
     "text": [
      "[[0. 1. 1. 1. 1. 1. 1. 1. 1. 1.]\n",
      " [0. 0. 1. 1. 1. 1. 1. 1. 1. 1.]\n",
      " [0. 0. 0. 1. 1. 1. 1. 1. 1. 1.]\n",
      " [0. 0. 0. 0. 1. 1. 1. 1. 1. 1.]\n",
      " [0. 0. 0. 0. 0. 1. 1. 1. 1. 1.]\n",
      " [0. 0. 0. 0. 0. 0. 1. 1. 1. 1.]\n",
      " [0. 0. 0. 0. 0. 0. 0. 1. 1. 1.]\n",
      " [0. 0. 0. 0. 0. 0. 0. 0. 1. 1.]\n",
      " [0. 0. 0. 0. 0. 0. 0. 0. 0. 1.]\n",
      " [0. 0. 0. 0. 0. 0. 0. 0. 0. 0.]]\n"
     ]
    }
   ],
   "source": [
    "c = 10\n",
    "x = np.zeros((c,c))\n",
    "y = np.ones((c,c))\n",
    "z = np.add(x,y)\n",
    "z = np.triu(z, k=1)\n",
    "print(z)"
   ]
  },
  {
   "cell_type": "code",
   "execution_count": 2,
   "metadata": {},
   "outputs": [],
   "source": [
    "import torch"
   ]
  },
  {
   "cell_type": "code",
   "execution_count": 51,
   "metadata": {},
   "outputs": [
    {
     "name": "stdout",
     "output_type": "stream",
     "text": [
      "tensor([[0., 1., 1., 1., 1., 1., 1., 1., 1., 1.],\n",
      "        [1., 0., 1., 1., 1., 1., 1., 1., 1., 1.],\n",
      "        [1., 1., 0., 1., 1., 1., 1., 1., 1., 1.],\n",
      "        [1., 1., 1., 0., 1., 1., 1., 1., 1., 1.],\n",
      "        [1., 1., 1., 1., 0., 1., 1., 1., 1., 1.],\n",
      "        [1., 1., 1., 1., 1., 0., 1., 1., 1., 1.],\n",
      "        [1., 1., 1., 1., 1., 1., 0., 1., 1., 1.],\n",
      "        [1., 1., 1., 1., 1., 1., 1., 0., 1., 1.],\n",
      "        [1., 1., 1., 1., 1., 1., 1., 1., 0., 1.],\n",
      "        [1., 1., 1., 1., 1., 1., 1., 1., 1., 0.]], device='cuda:0')\n",
      "torch.Size([10, 10])\n"
     ]
    }
   ],
   "source": [
    "torch.cuda.empty_cache()\n",
    "device = torch.device('cuda')\n",
    "c = 10\n",
    "#x = torch.zeros((c,c), device=device)\n",
    "x = torch.eye(c, device=device)\n",
    "y = torch.ones((c,c), device=device)\n",
    "z = torch.sub(y,x)\n",
    "#z = torch.triu(z, diagonal=1)\n",
    "print(z)\n",
    "print(z.shape)\n",
    "#y = torch.flatten(y)\n",
    "#print(y)\n",
    "#print(y.shape)"
   ]
  },
  {
   "cell_type": "code",
   "execution_count": 98,
   "metadata": {},
   "outputs": [
    {
     "name": "stdout",
     "output_type": "stream",
     "text": [
      "tensor([[0., 1., 1., 1., 1., 1., 1., 1., 1.],\n",
      "        [0., 0., 1., 1., 1., 1., 1., 1., 1.],\n",
      "        [0., 0., 0., 1., 1., 1., 1., 1., 1.],\n",
      "        [0., 0., 0., 0., 1., 1., 1., 1., 1.],\n",
      "        [0., 0., 0., 0., 0., 1., 1., 1., 1.],\n",
      "        [0., 0., 0., 0., 0., 0., 1., 1., 1.],\n",
      "        [0., 0., 0., 0., 0., 0., 0., 1., 1.],\n",
      "        [0., 0., 0., 0., 0., 0., 0., 0., 1.],\n",
      "        [0., 0., 0., 0., 0., 0., 0., 0., 0.]])\n",
      "torch.Size([9, 9])\n"
     ]
    }
   ],
   "source": [
    "c = 9\n",
    "x = torch.zeros((c,c))\n",
    "y = torch.ones((c,c))\n",
    "z = torch.add(x,y)\n",
    "z = torch.triu(z, diagonal=1)\n",
    "print(z)\n",
    "print(z.shape)"
   ]
  },
  {
   "cell_type": "code",
   "execution_count": 105,
   "metadata": {},
   "outputs": [
    {
     "name": "stdout",
     "output_type": "stream",
     "text": [
      "tensor([0., 1., 1.,  ..., 0., 0., 0.])\n",
      "torch.Size([100000000])\n"
     ]
    }
   ],
   "source": [
    "aa = torch.flatten(z)\n",
    "print(aa)\n",
    "print(aa.shape)"
   ]
  },
  {
   "cell_type": "code",
   "execution_count": 25,
   "metadata": {},
   "outputs": [
    {
     "name": "stdout",
     "output_type": "stream",
     "text": [
      "torch.Size([10, 10])\n"
     ]
    }
   ],
   "source": [
    "c = torch.zeros((10,10))\n",
    "print(c.shape)"
   ]
  },
  {
   "cell_type": "code",
   "execution_count": 44,
   "metadata": {},
   "outputs": [],
   "source": [
    "m = torch.nn.ZeroPad2d(5)"
   ]
  },
  {
   "cell_type": "code",
   "execution_count": 42,
   "metadata": {},
   "outputs": [
    {
     "name": "stdout",
     "output_type": "stream",
     "text": [
      "tensor([[0., 0., 0., 0., 0., 0., 0., 0., 0., 0., 0., 0., 0., 0., 0.],\n",
      "        [0., 0., 0., 0., 0., 0., 0., 0., 0., 0., 0., 0., 0., 0., 0.],\n",
      "        [0., 0., 0., 0., 0., 0., 0., 0., 0., 0., 0., 0., 0., 0., 0.],\n",
      "        [0., 0., 0., 0., 0., 0., 0., 0., 0., 0., 0., 0., 0., 0., 0.],\n",
      "        [0., 0., 0., 0., 0., 0., 0., 0., 0., 0., 0., 0., 0., 0., 0.],\n",
      "        [0., 0., 0., 0., 0., 0., 1., 1., 1., 1., 0., 0., 0., 0., 0.],\n",
      "        [0., 0., 0., 0., 0., 0., 0., 1., 1., 1., 0., 0., 0., 0., 0.],\n",
      "        [0., 0., 0., 0., 0., 0., 0., 0., 1., 1., 0., 0., 0., 0., 0.],\n",
      "        [0., 0., 0., 0., 0., 0., 0., 0., 0., 1., 0., 0., 0., 0., 0.],\n",
      "        [0., 0., 0., 0., 0., 0., 0., 0., 0., 0., 0., 0., 0., 0., 0.],\n",
      "        [0., 0., 0., 0., 0., 0., 0., 0., 0., 0., 0., 0., 0., 0., 0.],\n",
      "        [0., 0., 0., 0., 0., 0., 0., 0., 0., 0., 0., 0., 0., 0., 0.],\n",
      "        [0., 0., 0., 0., 0., 0., 0., 0., 0., 0., 0., 0., 0., 0., 0.],\n",
      "        [0., 0., 0., 0., 0., 0., 0., 0., 0., 0., 0., 0., 0., 0., 0.],\n",
      "        [0., 0., 0., 0., 0., 0., 0., 0., 0., 0., 0., 0., 0., 0., 0.]])\n",
      "torch.Size([15, 15])\n"
     ]
    }
   ],
   "source": [
    "x = m(z)\n",
    "print(x)\n",
    "print(x.shape)"
   ]
  },
  {
   "cell_type": "code",
   "execution_count": 45,
   "metadata": {},
   "outputs": [],
   "source": [
    "source = '/media/kovan_ai_tor_the_beast/hard_drive_2/TEST_DATA/adjacency/fully_connected/6ajw_adjacency-matrix.pickle'"
   ]
  },
  {
   "cell_type": "code",
   "execution_count": 51,
   "metadata": {},
   "outputs": [
    {
     "name": "stdout",
     "output_type": "stream",
     "text": [
      "tensor([[0., 1., 1.,  ..., 1., 1., 1.],\n",
      "        [1., 0., 1.,  ..., 1., 1., 1.],\n",
      "        [1., 1., 0.,  ..., 1., 1., 1.],\n",
      "        ...,\n",
      "        [1., 1., 1.,  ..., 0., 1., 1.],\n",
      "        [1., 1., 1.,  ..., 1., 0., 1.],\n",
      "        [1., 1., 1.,  ..., 1., 1., 0.]])\n"
     ]
    }
   ],
   "source": [
    "with open(source, 'rb') as labels_file:\n",
    "    df = pd.read_pickle(labels_file)\n",
    "print(df)"
   ]
  },
  {
   "cell_type": "code",
   "execution_count": 119,
   "metadata": {},
   "outputs": [
    {
     "name": "stdout",
     "output_type": "stream",
     "text": [
      "tensor([[0., 1., 1., 1., 1.],\n",
      "        [0., 0., 1., 1., 1.],\n",
      "        [0., 0., 0., 1., 1.],\n",
      "        [0., 0., 0., 0., 1.],\n",
      "        [0., 0., 0., 0., 0.]])\n",
      "torch.Size([5, 5])\n"
     ]
    }
   ],
   "source": [
    "c = 5\n",
    "x = torch.zeros((c,c))\n",
    "y = torch.ones((c,c))\n",
    "z = torch.add(x,y)\n",
    "z = torch.triu(z, diagonal=1)\n",
    "print(z)\n",
    "print(z.shape)"
   ]
  },
  {
   "cell_type": "code",
   "execution_count": 160,
   "metadata": {},
   "outputs": [
    {
     "name": "stdout",
     "output_type": "stream",
     "text": [
      "The shape of q is 5 by 5\n",
      "The down pad is: 5\n",
      "The right pad is: 5\n"
     ]
    }
   ],
   "source": [
    "dimension = 10\n",
    "q = z.shape\n",
    "print(\"The shape of q is {} by {}\".format(q[0], q[1]))\n",
    "down_pad = dimension - q[0]\n",
    "right_pad = dimension - q[1]\n",
    "print(\"The down pad is: {}\".format(down_pad))\n",
    "print(\"The right pad is: {}\".format(right_pad))"
   ]
  },
  {
   "cell_type": "code",
   "execution_count": 161,
   "metadata": {},
   "outputs": [],
   "source": [
    "m = torch.nn.ZeroPad2d((0,right_pad,0,down_pad))"
   ]
  },
  {
   "cell_type": "code",
   "execution_count": 162,
   "metadata": {},
   "outputs": [
    {
     "name": "stdout",
     "output_type": "stream",
     "text": [
      "tensor([[0., 1., 1., 1., 1., 0., 0., 0., 0., 0.],\n",
      "        [0., 0., 1., 1., 1., 0., 0., 0., 0., 0.],\n",
      "        [0., 0., 0., 1., 1., 0., 0., 0., 0., 0.],\n",
      "        [0., 0., 0., 0., 1., 0., 0., 0., 0., 0.],\n",
      "        [0., 0., 0., 0., 0., 0., 0., 0., 0., 0.],\n",
      "        [0., 0., 0., 0., 0., 0., 0., 0., 0., 0.],\n",
      "        [0., 0., 0., 0., 0., 0., 0., 0., 0., 0.],\n",
      "        [0., 0., 0., 0., 0., 0., 0., 0., 0., 0.],\n",
      "        [0., 0., 0., 0., 0., 0., 0., 0., 0., 0.],\n",
      "        [0., 0., 0., 0., 0., 0., 0., 0., 0., 0.]])\n",
      "torch.Size([10, 10])\n"
     ]
    }
   ],
   "source": [
    "x = m(z)\n",
    "print(x)\n",
    "print(x.shape)"
   ]
  },
  {
   "cell_type": "code",
   "execution_count": 147,
   "metadata": {},
   "outputs": [
    {
     "name": "stdout",
     "output_type": "stream",
     "text": [
      "tensor([[0., 1., 1., 1., 1.],\n",
      "        [0., 0., 1., 1., 1.],\n",
      "        [0., 0., 0., 1., 1.],\n",
      "        [0., 0., 0., 0., 1.],\n",
      "        [0., 0., 0., 0., 0.]])\n"
     ]
    }
   ],
   "source": [
    "print(z)"
   ]
  },
  {
   "cell_type": "code",
   "execution_count": 85,
   "metadata": {},
   "outputs": [],
   "source": [
    "source3 = '/media/kovan_ai_tor_the_beast/hard_drive_2/TEST_DATA/adjacency/dataset_gz/4fob_label.pickle'"
   ]
  },
  {
   "cell_type": "code",
   "execution_count": 86,
   "metadata": {},
   "outputs": [
    {
     "name": "stdout",
     "output_type": "stream",
     "text": [
      "tensor([[ 0.0000,  3.8130,  6.3698,  ..., 51.6755, 54.5117, 54.1919],\n",
      "        [ 3.8130,  0.0000,  3.8142,  ..., 49.5547, 52.4936, 52.4054],\n",
      "        [ 6.3698,  3.8142,  0.0000,  ..., 49.2851, 52.3872, 52.4674],\n",
      "        ...,\n",
      "        [51.6755, 49.5547, 49.2851,  ...,  0.0000,  3.7926,  6.4889],\n",
      "        [54.5117, 52.4936, 52.3872,  ...,  3.7926,  0.0000,  3.8312],\n",
      "        [54.1919, 52.4054, 52.4674,  ...,  6.4889,  3.8312,  0.0000]],\n",
      "       dtype=torch.float64)\n"
     ]
    }
   ],
   "source": [
    "with open(source3, 'rb') as labels_file:\n",
    "    df2 = pd.read_pickle(labels_file)\n",
    "print(df2)"
   ]
  },
  {
   "cell_type": "code",
   "execution_count": 88,
   "metadata": {},
   "outputs": [
    {
     "name": "stdout",
     "output_type": "stream",
     "text": [
      "tensor([[ 0.0000,  3.8130,  6.3698,  ..., 51.6755, 54.5117, 54.1919],\n",
      "        [ 0.0000,  0.0000,  3.8142,  ..., 49.5547, 52.4936, 52.4054],\n",
      "        [ 0.0000,  0.0000,  0.0000,  ..., 49.2851, 52.3872, 52.4674],\n",
      "        ...,\n",
      "        [ 0.0000,  0.0000,  0.0000,  ...,  0.0000,  3.7926,  6.4889],\n",
      "        [ 0.0000,  0.0000,  0.0000,  ...,  0.0000,  0.0000,  3.8312],\n",
      "        [ 0.0000,  0.0000,  0.0000,  ...,  0.0000,  0.0000,  0.0000]],\n",
      "       dtype=torch.float64)\n",
      "torch.Size([295, 295])\n"
     ]
    }
   ],
   "source": [
    "z = torch.triu(df2, diagonal=1)\n",
    "print(z)\n",
    "print(z.shape)"
   ]
  },
  {
   "cell_type": "code",
   "execution_count": 89,
   "metadata": {},
   "outputs": [
    {
     "data": {
      "text/plain": [
       "87025"
      ]
     },
     "execution_count": 89,
     "metadata": {},
     "output_type": "execute_result"
    }
   ],
   "source": [
    "295**2"
   ]
  },
  {
   "cell_type": "code",
   "execution_count": 90,
   "metadata": {},
   "outputs": [
    {
     "name": "stdout",
     "output_type": "stream",
     "text": [
      "tensor([0.0000, 3.8130, 6.3698,  ..., 0.0000, 0.0000, 0.0000],\n",
      "       dtype=torch.float64)\n",
      "torch.Size([87025])\n"
     ]
    }
   ],
   "source": [
    "a = torch.flatten(z)\n",
    "print(a)\n",
    "print(a.shape)"
   ]
  },
  {
   "cell_type": "code",
   "execution_count": 12,
   "metadata": {},
   "outputs": [],
   "source": [
    "source4 = '/media/kovan_ai_tor_the_beast/hard_drive_2/TEST_DATA/adjacency/fully_connected/3bgp_labels.pickle'"
   ]
  },
  {
   "cell_type": "code",
   "execution_count": 13,
   "metadata": {},
   "outputs": [
    {
     "name": "stdout",
     "output_type": "stream",
     "text": [
      "tensor([0.0000, 3.8035, 6.3977,  ..., 0.0000, 0.0000, 0.0000],\n",
      "       dtype=torch.float64)\n",
      "torch.Size([73984])\n"
     ]
    }
   ],
   "source": [
    "with open(source4, 'rb') as labels_file:\n",
    "    df4 = pd.read_pickle(labels_file)\n",
    "print(df4)\n",
    "print(df4.shape)"
   ]
  },
  {
   "cell_type": "code",
   "execution_count": 8,
   "metadata": {},
   "outputs": [],
   "source": [
    "source5 = '/media/kovan_ai_tor_the_beast/hard_drive_1/DATA/psi_angles/1a18_amino_psi_.pickle'"
   ]
  },
  {
   "cell_type": "code",
   "execution_count": 9,
   "metadata": {},
   "outputs": [
    {
     "name": "stdout",
     "output_type": "stream",
     "text": [
      "[[4.00000000e+00 5.18340597e-01]\n",
      " [3.00000000e+00 1.48655387e-01]\n",
      " [0.00000000e+00 3.13328151e-01]\n",
      " [1.30000000e+01 3.19600291e-01]\n",
      " [1.90000000e+01 2.31740201e+00]\n",
      " [7.00000000e+00 3.04136862e+00]\n",
      " [1.60000000e+01 2.31826643e+00]\n",
      " [1.70000000e+01 2.47015785e+00]\n",
      " [1.10000000e+01 2.47453387e+00]\n",
      " [1.00000000e+01 2.44823541e+00]\n",
      " [1.90000000e+01 4.13120111e-01]\n",
      " [1.50000000e+01 2.74847604e+00]\n",
      " [1.50000000e+01 2.24154909e+00]\n",
      " [6.00000000e+00 2.31000573e+00]\n",
      " [2.00000000e+00 4.22294661e-01]\n",
      " [1.30000000e+01 7.81765182e-01]\n",
      " [3.00000000e+00 7.38071676e-01]\n",
      " [3.00000000e+00 7.22775786e-01]\n",
      " [1.80000000e+01 8.95011471e-01]\n",
      " [1.20000000e+01 7.37489588e-01]\n",
      " [1.10000000e+01 7.36985441e-01]\n",
      " [6.00000000e+00 7.39899715e-01]\n",
      " [1.90000000e+01 1.98997511e-01]\n",
      " [7.00000000e+00 5.31598400e-01]\n",
      " [1.90000000e+01 2.32980916e+00]\n",
      " [7.00000000e+00 2.49524390e+00]\n",
      " [1.30000000e+01 9.76208746e-01]\n",
      " [0.00000000e+00 9.90051970e-01]\n",
      " [1.60000000e+01 5.23706444e-01]\n",
      " [1.00000000e+00 6.21852973e-01]\n",
      " [1.10000000e+01 6.99562511e-01]\n",
      " [1.90000000e+01 5.85560692e-01]\n",
      " [0.00000000e+00 7.30460896e-01]\n",
      " [7.00000000e+00 4.76292603e-01]\n",
      " [1.20000000e+01 7.66365119e-02]\n",
      " [0.00000000e+00 2.47352881e+00]\n",
      " [1.10000000e+01 1.43178646e+00]\n",
      " [1.40000000e+01 2.83567007e+00]\n",
      " [2.00000000e+00 1.57871366e+00]\n",
      " [1.20000000e+01 2.12797175e+00]\n",
      " [9.00000000e+00 1.79917973e+00]\n",
      " [9.00000000e+00 2.42900386e+00]\n",
      " [1.50000000e+01 2.78325353e+00]\n",
      " [1.90000000e+01 2.51775469e+00]\n",
      " [2.00000000e+00 1.66127506e+00]\n",
      " [7.00000000e+00 2.33575285e+00]\n",
      " [3.00000000e+00 1.24236886e-01]\n",
      " [1.00000000e+01 2.08612835e+00]\n",
      " [1.90000000e+01 2.36289332e+00]\n",
      " [1.60000000e+01 2.16469065e+00]\n",
      " [9.00000000e+00 1.89204162e+00]\n",
      " [1.00000000e+00 2.15024415e+00]\n",
      " [1.50000000e+01 2.23341528e+00]\n",
      " [6.00000000e+00 2.07391433e+00]\n",
      " [1.50000000e+01 2.91651101e+00]\n",
      " [1.60000000e+01 2.91637739e-01]\n",
      " [1.30000000e+01 9.97038276e-01]\n",
      " [1.10000000e+01 2.32972727e+00]\n",
      " [2.00000000e+00 2.05927091e+00]\n",
      " [1.60000000e+01 2.67747502e+00]\n",
      " [6.00000000e+00 2.21625859e+00]\n",
      " [9.00000000e+00 2.32581292e+00]\n",
      " [1.50000000e+01 2.38447638e+00]\n",
      " [1.30000000e+01 2.95551713e+00]\n",
      " [1.10000000e+01 2.56586028e+00]\n",
      " [1.00000000e+01 2.54501962e+00]\n",
      " [7.00000000e+00 8.65705615e-02]\n",
      " [1.90000000e+01 2.03241963e+00]\n",
      " [6.00000000e+00 2.41711768e+00]\n",
      " [1.30000000e+01 2.85225121e+00]\n",
      " [3.00000000e+00 2.40992759e+00]\n",
      " [6.00000000e+00 2.46859144e+00]\n",
      " [9.00000000e+00 1.83234989e+00]\n",
      " [1.60000000e+01 2.94710652e+00]\n",
      " [0.00000000e+00 6.79868317e-01]\n",
      " [3.00000000e+00 3.36892470e-01]\n",
      " [3.00000000e+00 4.60126476e-01]\n",
      " [1.00000000e+00 2.50359905e+00]\n",
      " [1.10000000e+01 1.92948133e+00]\n",
      " [1.90000000e+01 2.94844368e+00]\n",
      " [1.10000000e+01 2.08191421e+00]\n",
      " [1.50000000e+01 2.69280646e+00]\n",
      " [9.00000000e+00 2.13794211e+00]\n",
      " [9.00000000e+00 2.28596304e+00]\n",
      " [1.60000000e+01 2.79823978e+00]\n",
      " [1.00000000e+01 1.52258642e+00]\n",
      " [3.00000000e+00 2.15017420e+00]\n",
      " [7.00000000e+00 6.73891329e-01]\n",
      " [7.00000000e+00 8.60004486e-03]\n",
      " [0.00000000e+00 2.51688281e+00]\n",
      " [1.00000000e+01 1.85868217e+00]\n",
      " [1.90000000e+01 1.94850249e+00]\n",
      " [5.00000000e+00 2.27033004e+00]\n",
      " [1.90000000e+01 2.22878266e+00]\n",
      " [5.00000000e+00 2.10375077e+00]\n",
      " [1.10000000e+01 2.32116310e+00]\n",
      " [1.70000000e+01 2.40510826e+00]\n",
      " [3.00000000e+00 7.73656829e-01]\n",
      " [7.00000000e+00 2.41281225e-01]\n",
      " [1.10000000e+01 2.93649634e+00]\n",
      " [1.50000000e+01 2.21074596e+00]\n",
      " [1.60000000e+01 2.62790309e+00]\n",
      " [1.60000000e+01 2.41992467e+00]\n",
      " [9.00000000e+00 1.94113805e+00]\n",
      " [1.10000000e+01 2.32201122e+00]\n",
      " [1.00000000e+00 1.92706057e+00]\n",
      " [1.10000000e+01 2.64070802e+00]\n",
      " [1.00000000e+00 2.33529090e+00]\n",
      " [3.00000000e+00 1.52397441e+00]\n",
      " [7.00000000e+00 2.24502761e+00]\n",
      " [3.00000000e+00 1.70384284e-01]\n",
      " [1.10000000e+01 2.81627264e+00]\n",
      " [1.00000000e+01 1.82038233e+00]\n",
      " [1.90000000e+01 2.15971200e+00]\n",
      " [1.90000000e+01 2.03050168e+00]\n",
      " [6.00000000e+00 3.11482253e+00]\n",
      " [1.90000000e+01 2.41405469e+00]\n",
      " [1.20000000e+01 1.77231483e+00]\n",
      " [1.10000000e+01 1.04621405e+00]\n",
      " [7.00000000e+00 8.32630845e-01]\n",
      " [1.90000000e+01 2.33103962e+00]\n",
      " [1.60000000e+01 2.23679146e+00]\n",
      " [1.50000000e+01 2.37907608e+00]\n",
      " [1.60000000e+01 2.08560924e+00]\n",
      " [1.00000000e+00 2.16360116e+00]\n",
      " [1.90000000e+01 2.40626436e+00]\n",
      " [1.80000000e+01 2.90143630e+00]\n",
      " [6.00000000e+00 2.56724961e+00]\n",
      " [1.00000000e+00 2.23381765e+00]]\n",
      "(129, 2)\n"
     ]
    }
   ],
   "source": [
    "with open(source5, 'rb') as labels_file:\n",
    "    df5 = pd.read_pickle(labels_file)\n",
    "print(df5)\n",
    "print(df5.shape)"
   ]
  },
  {
   "cell_type": "code",
   "execution_count": 14,
   "metadata": {},
   "outputs": [],
   "source": [
    "source6 = '/media/kovan_ai_tor_the_beast/hard_drive_2/TEST_DATA/adjacency/fully_connected/3bgp_adjacency-matrix.pickle'"
   ]
  },
  {
   "cell_type": "code",
   "execution_count": 15,
   "metadata": {},
   "outputs": [
    {
     "name": "stdout",
     "output_type": "stream",
     "text": [
      "tensor([[0., 1., 1.,  ..., 1., 1., 1.],\n",
      "        [1., 0., 1.,  ..., 1., 1., 1.],\n",
      "        [1., 1., 0.,  ..., 1., 1., 1.],\n",
      "        ...,\n",
      "        [1., 1., 1.,  ..., 0., 1., 1.],\n",
      "        [1., 1., 1.,  ..., 1., 0., 1.],\n",
      "        [1., 1., 1.,  ..., 1., 1., 0.]])\n",
      "torch.Size([272, 272])\n"
     ]
    }
   ],
   "source": [
    "with open(source6, 'rb') as labels_file:\n",
    "    df6 = pd.read_pickle(labels_file)\n",
    "print(df6)\n",
    "print(df6.shape)"
   ]
  },
  {
   "cell_type": "code",
   "execution_count": 174,
   "metadata": {},
   "outputs": [],
   "source": [
    "source7 = '/media/kovan_ai_tor_the_beast/hard_drive_2/TEST_DATA/adjacency/dataset_gz/1a6g_label.pickle'"
   ]
  },
  {
   "cell_type": "code",
   "execution_count": 175,
   "metadata": {},
   "outputs": [
    {
     "name": "stdout",
     "output_type": "stream",
     "text": [
      "tensor([[ 0.0000,     nan,     nan,  ...,     nan,     nan,     nan],\n",
      "        [    nan,  0.0000,  3.8146,  ..., 24.1562, 25.4203, 24.3430],\n",
      "        [    nan,  3.8146,  0.0000,  ..., 26.5096, 27.8419, 26.3822],\n",
      "        ...,\n",
      "        [    nan, 24.1562, 26.5096,  ...,  0.0000,  3.7471,  5.7867],\n",
      "        [    nan, 25.4203, 27.8419,  ...,  3.7471,  0.0000,  3.8469],\n",
      "        [    nan, 24.3430, 26.3822,  ...,  5.7867,  3.8469,  0.0000]],\n",
      "       dtype=torch.float64)\n",
      "torch.Size([153, 153])\n"
     ]
    }
   ],
   "source": [
    "with open(source7, 'rb') as labels_file:\n",
    "    df7 = pd.read_pickle(labels_file)\n",
    "print(df7)\n",
    "print(df7.shape)"
   ]
  },
  {
   "cell_type": "code",
   "execution_count": 22,
   "metadata": {},
   "outputs": [],
   "source": [
    "source8 = '/media/kovan_ai_tor_the_beast/hard_drive_2/TEST_DATA/adjacency/dataset_gz/1a6g_label.pickle'"
   ]
  },
  {
   "cell_type": "code",
   "execution_count": 23,
   "metadata": {},
   "outputs": [
    {
     "name": "stdout",
     "output_type": "stream",
     "text": [
      "tensor([[ 0.0000,     nan,     nan,  ...,     nan,     nan,     nan],\n",
      "        [    nan,  0.0000,  3.8146,  ..., 24.1562, 25.4203, 24.3430],\n",
      "        [    nan,  3.8146,  0.0000,  ..., 26.5096, 27.8419, 26.3822],\n",
      "        ...,\n",
      "        [    nan, 24.1562, 26.5096,  ...,  0.0000,  3.7471,  5.7867],\n",
      "        [    nan, 25.4203, 27.8419,  ...,  3.7471,  0.0000,  3.8469],\n",
      "        [    nan, 24.3430, 26.3822,  ...,  5.7867,  3.8469,  0.0000]],\n",
      "       dtype=torch.float64)\n",
      "torch.Size([153, 153])\n"
     ]
    }
   ],
   "source": [
    "with open(source8, 'rb') as labels_file:\n",
    "    df8 = pd.read_pickle(labels_file)\n",
    "print(df8)\n",
    "print(df8.shape)"
   ]
  },
  {
   "cell_type": "code",
   "execution_count": 176,
   "metadata": {},
   "outputs": [
    {
     "data": {
      "text/plain": [
       "23409"
      ]
     },
     "execution_count": 176,
     "metadata": {},
     "output_type": "execute_result"
    }
   ],
   "source": [
    "153**2"
   ]
  },
  {
   "cell_type": "code",
   "execution_count": 173,
   "metadata": {},
   "outputs": [
    {
     "data": {
      "text/plain": [
       "90000"
      ]
     },
     "execution_count": 173,
     "metadata": {},
     "output_type": "execute_result"
    }
   ],
   "source": [
    "300**2"
   ]
  },
  {
   "cell_type": "code",
   "execution_count": null,
   "metadata": {},
   "outputs": [],
   "source": []
  },
  {
   "cell_type": "code",
   "execution_count": null,
   "metadata": {},
   "outputs": [],
   "source": []
  },
  {
   "cell_type": "code",
   "execution_count": null,
   "metadata": {},
   "outputs": [],
   "source": []
  },
  {
   "cell_type": "code",
   "execution_count": null,
   "metadata": {},
   "outputs": [],
   "source": []
  },
  {
   "cell_type": "code",
   "execution_count": null,
   "metadata": {},
   "outputs": [],
   "source": []
  }
 ],
 "metadata": {
  "kernelspec": {
   "display_name": "Python 3",
   "language": "python",
   "name": "python3"
  },
  "language_info": {
   "codemirror_mode": {
    "name": "ipython",
    "version": 3
   },
   "file_extension": ".py",
   "mimetype": "text/x-python",
   "name": "python",
   "nbconvert_exporter": "python",
   "pygments_lexer": "ipython3",
   "version": "3.7.7"
  }
 },
 "nbformat": 4,
 "nbformat_minor": 4
}
