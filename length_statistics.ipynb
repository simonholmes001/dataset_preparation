{
 "cells": [
  {
   "cell_type": "code",
   "execution_count": 1,
   "metadata": {},
   "outputs": [],
   "source": [
    "import os\n",
    "import pandas as pd\n",
    "from tqdm import tqdm"
   ]
  },
  {
   "cell_type": "code",
   "execution_count": 2,
   "metadata": {},
   "outputs": [],
   "source": [
    "input_path = '/media/the_beast/disk/protein_folding/amino_acid_tags/'\n",
    "# source_path = '/media/kovan_ai_tor_the_beast/disk/protein_folding/pickle_files/pickle_label_gz/'"
   ]
  },
  {
   "cell_type": "code",
   "execution_count": 4,
   "metadata": {},
   "outputs": [
    {
     "name": "stderr",
     "output_type": "stream",
     "text": [
      "100%|██████████| 149271/149271 [00:00<00:00, 1944070.65it/s]"
     ]
    },
    {
     "name": "stdout",
     "output_type": "stream",
     "text": [
      "149271\n"
     ]
    },
    {
     "name": "stderr",
     "output_type": "stream",
     "text": [
      "\n"
     ]
    }
   ],
   "source": [
    "main_record = []\n",
    "for root, dirs, files in os.walk(input_path, topdown=False): # See below for details of source path\n",
    "    for name in tqdm(files):\n",
    "        main_record.append(name.split('_')[0])\n",
    "print(len(main_record))"
   ]
  },
  {
   "cell_type": "code",
   "execution_count": 6,
   "metadata": {},
   "outputs": [
    {
     "name": "stderr",
     "output_type": "stream",
     "text": [
      "100%|██████████| 149271/149271 [47:52<00:00, 51.96it/s]  \n"
     ]
    }
   ],
   "source": [
    "# General Statistics on Entire PDB Population\n",
    "size = []\n",
    "zeros = []\n",
    "for root, dirs, files in os.walk(input_path, topdown=False):\n",
    "    for name in tqdm(files):\n",
    "        with open(input_path + name) as f:\n",
    "            count = sum(1 for line in f)\n",
    "            if count != 0:\n",
    "                size.append(count)\n",
    "            else:\n",
    "                 zeros.append(name.split('_')[0])"
   ]
  },
  {
   "cell_type": "code",
   "execution_count": 5,
   "metadata": {},
   "outputs": [
    {
     "name": "stdout",
     "output_type": "stream",
     "text": [
      "148821\n",
      "450\n",
      "148371\n"
     ]
    }
   ],
   "source": [
    "print(len(size))\n",
    "print(len(zeros))\n",
    "print(len(size) - len(zeros))"
   ]
  },
  {
   "cell_type": "code",
   "execution_count": 6,
   "metadata": {},
   "outputs": [
    {
     "name": "stdout",
     "output_type": "stream",
     "text": [
      "['4wxy', '5wzp', '5wux', '2wze', '1wyj', '3wx1', '3wv5', '3wt7', '3wt0', '3wyc', '1wt2', '2wxp', '4wu9', '4wul', '2wt9', '2wwf', '3wz3', '1wxh', '1wzi', '2wva', '4wv9', '1wuw', '3wur', '5wyq', '2wxb', '1wtn', '3wwo', '1wte', '5wxb', '5wu4', '1wy0', '1wzf', '2wwy', '5wz2', '4wxg', '1wxq', '4wxl', '4wzx', '2wv7', '5wup', '1wyk', '2wv1', '2wwj', '3wwy', '1wy2', '4wuz', '5ww0', '5wxg', '3wuy', '1wzy', '1wvp', '3wy4', '5wxm', '4wua', '2wvb', '2wtg', '3wxr', '2wvi', '5wt2', '3wy3', '3wx8', '3wwq', '1wvq', '1wvj', '1wxy', '2wxq', '3wub', '4wx1', '4wtz', '4wvf', '2wtu', '2wzf', '2wvh', '4wto', '1wwg', '3wtm', '1wzo', '5wz3', '1wvl', '4wtl', '1wvi', '2wt8', '2wy2', '5wtn', '1wtv', '4wtm', '5wyd', '3wxl', '2wxu', '5wu5', '5wwm', '3wvg', '5wve', '4wyf', '1ww1', '2wve', '1wwz', '1wxp', '1wy1', '3wzq', '4wzw', '5wt3', '3wvx', '4ww3', '1wyo', '4wx6', '1wv9', '4wt3', '3wtk', '2wu3', '1wvx', '2wyf', '1wz8', '5wwc', '3wz5', '1wtf', '4wx5', '4wu7', '1wtp', '1wt5', '3wt2', '3wwz', '3wyp', '4wx4', '4wxv', '1wwi', '2wz0', '2wuq', '5wuj', '1wtg', '5wtd', '4wws', '1wvm', '5wvp', '3wxs', '5wxz', '1ww3', '1wuv', '3wxa', '4wv4', '4wuo', '2wzc', '5ww4', '4wwj', '1wzm', '4wt9', '5wxk', '5wtq', '1wxj', '1wuu', '1wyi', '5wun', '1wxm', '1wyb', '3wwf', '5wvg', '3wu3', '1wvu', '2wz1', '1wuk', '2wzx', '5wzs', '1wy9', '4wzi', '4wva', '1wyd', '2wx2', '5wws', '4wtb', '2wyy', '5wu6', '4wty', '1ww4', '5wud', '4wwd', '4wxc', '1wx0', '1wuz', '5wzn', '4wz3', '3wwr', '1wyh', '2wvg', '1wvf', '2wzj', '1wtr', '4wwh', '4wv6', '3ww0', '4wt5', '1wuj', '1wyr', '4wx3', '1wwm', '1wu8', '2ww5', '3wxo', '3wwi', '2wvm', '5wwk', '4wyw', '1wuf', '4wu5', '4wys', '3wx7', '2wvz', '5wzf', '2wtf', '4wxt', '5wxq', '5wva', '1wuq', '2wuk', '5wy3', '2wvp', '4wx0', '1wwb', '4wyp', '2wuh', '5wwq', '1wxe', '2ww0', '3wv8', '2wtk', '2wzw', '3wz1', '3wzy', '5wzj', '4wzy', '3wyg', '3wtl', '1wwu', '1wx8', '2wx3', '3wv1', '5wye', '5wut', '3wux', '1wtm', '2wus', '4wwq', '5wxd', '2wyj', '5wtl', '1wt7', '1wy5', '3wwd', '1wxv', '2wvo', '5wtp', '2wxi', '1wvn', '5wvo', '2wxy', '3wyi', '5wyi', '3wti', '2wuv', '1wub', '2wye', '1wvr', '3wyf', '5wwu', '4wwx', '1wxo', '1wty', '4wvt', '5www', '4wvp', '4wvb', '5wxe', '4wv8', '5wx5', '1wue', '4wwz', '3ww3', '4wt1', '1wtb', '5wz4', '1ww8', '2ww4', '2wwo', '4wxa', '3wyb', '3wuc', '1wwn', '3wzk', '3wwk', '4wvl', '3wvk', '2wuf', '5wvr', '1wug', '1wvg', '3wz7', '4wy6', '1wvc', '5wxh', '2wzn', '3wue', '2wxj', '4wyj', '5wx2', '3wtq', '5wti', '5wxu', '3wzt', '2wv5', '3wvr', '1wtj', '1wxc', '2wvf', '2wui', '5wxi', '2wx5', '2wyb', '5ww7', '1ww5', '1wy8', '3wul', '3wwg', '2wwm', '2wxt', '3wzl', '4wtq', '4www', '4wu4', '1wu9', '5wuz', '4wup', '4wuq', '4wun', '4wyc', '1wwy', '5wy0', '2ww7', '2wwx', '4wxm', '2wyw', '5wtr', '5wxp', '3wxe', '5wue', '4wuh', '4wvi', '5wty', '5wzh', '5wzt', '4wxu', '2wy3', '1wyw', '4wv1', '2wtp', '4wuc', '3wyd', '3wvo', '4wy7', '3wxw', '5ww6', '1wx9', '5wv4', '5ww9', '3wyz', '2wzb', '4wvu', '4wzd', '4wu1', '1wx2', '5wzm', '3ww9', '1wx1', '2wu0', '3wt4', '1wye', '4wx2', '2wxz', '1wxz', '2wy6', '2wt2', '5wxt', '1wyl', '3wvn', '2wyr', '4ww7', '1wu4', '3wz2', '3wve', '2wwh', '2wt1', '2wx9', '2wvd', '1wym', '2wzo', '3wx0', '3wt6', '1wxw', '4wyh', '3wya', '3wtv', '5wuk', '2wzk', '3ww1', '1wvy', '4wt0', '4ww1', '3wy1', '3wv9', '5wtx', '2wut', '4ww8', '3wv6', '3wx2', '4wym', '5wt9', '4wvw', '1wzl', '1wxr', '2wzd', '3wu6', '1wu3', '3wy2', '4wwn', '2wwr', '5wvd', '3wvm', '2wts', '1wxx', '4wtp', '3wxc', '3wt5', '1wxb', '1wz2', '5wwr', '4wxh', '5wxn', '4wtg', '2wyu', '3wy6', '1wuo', '3ww5', '1wvb', '4wyu', '1wve', '1wzk', '2wxh', '5wt7', '3wus', '3wvy', '5wvh', '5wvb']\n"
     ]
    }
   ],
   "source": [
    "print(zeros)"
   ]
  },
  {
   "cell_type": "code",
   "execution_count": 6,
   "metadata": {},
   "outputs": [],
   "source": [
    "df = pd.DataFrame(data=size, columns=['length'])"
   ]
  },
  {
   "cell_type": "code",
   "execution_count": 7,
   "metadata": {},
   "outputs": [
    {
     "name": "stdout",
     "output_type": "stream",
     "text": [
      "   length\n",
      "0     328\n",
      "1     340\n",
      "2     983\n",
      "3     215\n",
      "4     287\n",
      "(148821, 1)\n",
      "              length\n",
      "count  148821.000000\n",
      "mean      917.211758\n",
      "std      2514.449808\n",
      "min         1.000000\n",
      "25%       271.000000\n",
      "50%       473.000000\n",
      "75%       924.000000\n",
      "max    357168.000000\n"
     ]
    }
   ],
   "source": [
    "print(df.head())\n",
    "print(df.shape)\n",
    "print(df.describe())"
   ]
  },
  {
   "cell_type": "markdown",
   "metadata": {},
   "source": [
    "## Create dataset of proteins < x amino acids in length for message-parsing neural network (from amin_acid_tags files)"
   ]
  },
  {
   "cell_type": "code",
   "execution_count": 7,
   "metadata": {},
   "outputs": [
    {
     "name": "stderr",
     "output_type": "stream",
     "text": [
      "  1%|▏         | 2091/149271 [00:00<00:13, 10801.15it/s]"
     ]
    },
    {
     "name": "stdout",
     "output_type": "stream",
     "text": [
      "4qkl 31\n",
      "3oq7 99\n",
      "1z21 96\n",
      "3nit 89\n",
      "5dkn 91\n",
      "4zey 82\n",
      "2d8e 88\n",
      "2ccf 63\n",
      "6evl 99\n",
      "6o6d 68\n",
      "6kzf 65\n",
      "3gk2 88\n",
      "1g2z 61\n",
      "3gk4 90\n",
      "1nmg 67\n",
      "3t4g 20\n",
      "3trg 95\n",
      "1hbk 89\n",
      "3l37 46\n",
      "7rxn 52\n",
      "2rna 64\n",
      "1odq 100\n",
      "4g4m 44\n",
      "3u4n 51\n",
      "1j5m 28\n",
      "3m0p 56\n",
      "3wmj 94\n",
      "5f53 84\n",
      "6eex 6\n",
      "4up5 85\n",
      "1b2f 51\n",
      "1ae2 86\n",
      "1d9a 85\n",
      "1bdk 5\n",
      "2ccb 64\n",
      "3cmh 14\n",
      "1byp 99\n",
      "3zzo 95\n",
      "1kth 58\n",
      "2axi 100\n",
      "2u2f 85\n",
      "1gcc 63\n",
      "3brl 100\n",
      "6nxz 57\n",
      "1mhn 59\n",
      "2rbf 89\n",
      "3ny3 74\n",
      "3iwl 66\n",
      "5dli 89\n",
      "5x3n 77\n",
      "1heg 99\n"
     ]
    },
    {
     "name": "stderr",
     "output_type": "stream",
     "text": [
      "  2%|▏         | 3704/149271 [00:00<00:15, 9204.99it/s] "
     ]
    },
    {
     "name": "stdout",
     "output_type": "stream",
     "text": [
      "1mbe 52\n",
      "6c4o 14\n",
      "1sp2 31\n",
      "3eg3 65\n",
      "1cka 66\n",
      "1b3i 97\n",
      "2r1c 92\n",
      "1w5u 34\n",
      "2cgz 100\n",
      "1abq 56\n",
      "5kl5 89\n",
      "1cq0 28\n",
      "5k2e 6\n",
      "1xv4 77\n",
      "1fac 21\n",
      "2fgg 83\n",
      "4ckv 100\n",
      "3g7l 61\n",
      "5w4j 78\n",
      "5xqv 68\n",
      "2ot5 67\n",
      "2ox2 60\n",
      "3hz7 71\n",
      "4he6 89\n",
      "1jxt 58\n",
      "5cgo 51\n",
      "1csq 67\n",
      "2c8r 51\n",
      "1k48 29\n",
      "5laz 100\n",
      "1a56 81\n",
      "3ms6 87\n",
      "1ptr 50\n",
      "2m6h 70\n",
      "1bc7 93\n",
      "6mha 62\n",
      "5ol9 90\n",
      "1idg 92\n",
      "2rkn 94\n",
      "1ifm 46\n",
      "3wcq 97\n",
      "3fgh 74\n",
      "4uig 93\n",
      "1rwj 81\n",
      "2ovg 66\n",
      "6rgi 92\n"
     ]
    },
    {
     "name": "stderr",
     "output_type": "stream",
     "text": [
      "\r",
      "  3%|▎         | 4371/149271 [00:00<00:17, 8170.67it/s]"
     ]
    },
    {
     "name": "stdout",
     "output_type": "stream",
     "text": [
      "1dxs 57\n",
      "1dk1 82\n",
      "6ay8 40\n",
      "1bx7 51\n",
      "3q1d 48\n",
      "4j3h 78\n",
      "6egl 42\n",
      "4r2a 88\n",
      "4u9e 91\n",
      "1b01 87\n",
      "5goh 80\n",
      "6gq5 22\n",
      "3e9f 99\n",
      "5fx0 98\n",
      "6bes 80\n",
      "4npx 78\n",
      "4xxl 93\n",
      "2fq5 18\n",
      "1dg0 80\n",
      "4i1l 62\n",
      "3k6d 99\n",
      "1mog 67\n",
      "3r68 96\n",
      "4g14 5\n",
      "6dj0 14\n",
      "3ju0 95\n",
      "1hgz 46\n",
      "3ftr 6\n",
      "5nv1 61\n",
      "5z41 99\n",
      "4rcc 66\n",
      "1fwp 69\n",
      "1aqr 40\n",
      "6nfr 100\n",
      "1egp 61\n",
      "4xof 87\n",
      "1fow 76\n"
     ]
    },
    {
     "name": "stderr",
     "output_type": "stream",
     "text": [
      "  4%|▍         | 5651/149271 [00:00<00:23, 6119.77it/s]"
     ]
    },
    {
     "name": "stdout",
     "output_type": "stream",
     "text": [
      "3dmw 87\n",
      "2ame 66\n",
      "1kdu 85\n",
      "2xf6 53\n",
      "3lo1 30\n",
      "4agh 80\n",
      "1pfi 92\n",
      "1gcm 96\n",
      "4nag 32\n",
      "4unh 49\n",
      "3nzl 70\n",
      "6iie 88\n",
      "3onj 97\n",
      "5ly5 77\n",
      "3hfe 80\n",
      "6ako 97\n",
      "2j6o 67\n",
      "3znf 30\n",
      "4il7 99\n",
      "4p3v 74\n",
      "1qd8 2\n",
      "5yp8 100\n",
      "2q9v 90\n",
      "3ifm 46\n",
      "1l9l 74\n",
      "1sne 35\n",
      "1cag 58\n",
      "2f2x 56\n",
      "2cc7 64\n",
      "1egt 51\n",
      "5l8z 95\n",
      "6cmn 92\n",
      "6c3s 6\n",
      "2oqk 93\n",
      "2r2z 92\n",
      "4zyf 94\n",
      "3m0r 59\n",
      "3q9i 48\n"
     ]
    },
    {
     "name": "stderr",
     "output_type": "stream",
     "text": [
      "  5%|▍         | 6801/149271 [00:00<00:24, 5883.15it/s]"
     ]
    },
    {
     "name": "stdout",
     "output_type": "stream",
     "text": [
      "1bcg 76\n",
      "3ipn 36\n",
      "1szt 68\n",
      "4aqo 96\n",
      "2xbd 87\n",
      "1wd1 64\n",
      "1sdb 44\n",
      "3dso 69\n",
      "3pmt 56\n",
      "2q79 74\n",
      "2bs5 90\n",
      "4y1h 79\n",
      "2rll 7\n",
      "2drt 57\n",
      "6edf 81\n",
      "4c3l 90\n",
      "5mxz 84\n",
      "2fbu 60\n",
      "1pdr 96\n",
      "1fp0 88\n",
      "2xs7 88\n",
      "3zzp 74\n",
      "6ekb 62\n",
      "1l4w 99\n",
      "3b1l 76\n",
      "6qyw 75\n",
      "2md3 80\n"
     ]
    },
    {
     "name": "stderr",
     "output_type": "stream",
     "text": [
      "  5%|▌         | 7937/149271 [00:01<00:27, 5181.21it/s]"
     ]
    },
    {
     "name": "stdout",
     "output_type": "stream",
     "text": [
      "2iwn 94\n",
      "1gkh 86\n",
      "3l8l 34\n",
      "4kiv 79\n",
      "1oav 48\n",
      "3md5 14\n",
      "2hh7 85\n",
      "6g8e 12\n",
      "3ds0 94\n",
      "6uhg 75\n",
      "2ovo 56\n",
      "4lbb 60\n",
      "4hti 89\n",
      "1rop 56\n",
      "1kp6 79\n",
      "1fas 61\n",
      "2ws4 47\n",
      "1onj 65\n",
      "2hvf 51\n",
      "2gts 76\n",
      "1yo5 88\n",
      "5aui 97\n",
      "3fdt 60\n",
      "1fw4 66\n",
      "1a1k 85\n",
      "4kmf 62\n",
      "4xqm 94\n",
      "1ale 90\n",
      "4o9f 94\n",
      "6f3w 90\n",
      "1fk4 93\n"
     ]
    },
    {
     "name": "stderr",
     "output_type": "stream",
     "text": [
      "  6%|▌         | 8945/149271 [00:01<00:29, 4805.32it/s]"
     ]
    },
    {
     "name": "stdout",
     "output_type": "stream",
     "text": [
      "3hms 96\n",
      "3kp8 94\n",
      "1b7d 61\n",
      "4icv 97\n",
      "1ad7 12\n",
      "2hts 88\n",
      "3h31 87\n",
      "2ns0 86\n",
      "6h9q 84\n",
      "2o71 91\n",
      "2oei 48\n",
      "4jcg 83\n",
      "1fre 39\n",
      "6niv 23\n",
      "4ncu 27\n",
      "3rjp 96\n",
      "5d52 54\n",
      "4xyo 99\n",
      "5yvx 66\n",
      "5d5u 100\n",
      "4xfn 12\n",
      "4u12 80\n",
      "1ncg 99\n"
     ]
    },
    {
     "name": "stderr",
     "output_type": "stream",
     "text": [
      "  7%|▋         | 9903/149271 [00:01<00:31, 4435.83it/s]"
     ]
    },
    {
     "name": "stdout",
     "output_type": "stream",
     "text": [
      "3c0f 80\n",
      "6h4l 98\n",
      "6a2h 57\n",
      "3hrl 91\n",
      "6ber 80\n",
      "1qld 50\n",
      "4eo1 69\n",
      "4hrs 67\n",
      "1ceu 51\n",
      "1tif 76\n",
      "5n35 61\n",
      "1ju8 37\n",
      "3lwh 59\n",
      "1t4f 97\n",
      "2on8 56\n"
     ]
    },
    {
     "name": "stderr",
     "output_type": "stream",
     "text": [
      "  7%|▋         | 10792/149271 [00:01<00:33, 4109.54it/s]"
     ]
    },
    {
     "name": "stdout",
     "output_type": "stream",
     "text": [
      "1pga 56\n",
      "5e9p 94\n",
      "3ous 82\n",
      "3lo4 60\n",
      "6f64 97\n",
      "1rdv 52\n",
      "2b3c 64\n",
      "6pti 58\n",
      "5hpp 12\n",
      "1r1g 50\n",
      "6h83 84\n",
      "1k9p 89\n",
      "1ir0 81\n",
      "1c7w 68\n",
      "1b9w 91\n",
      "1jb6 58\n",
      "1b7v 71\n",
      "3ra6 98\n",
      "2x6p 87\n",
      "3twe 51\n",
      "3g9y 30\n",
      "1aqa 84\n",
      "2b6g 81\n",
      "1mbj 52\n"
     ]
    },
    {
     "name": "stderr",
     "output_type": "stream",
     "text": [
      "  8%|▊         | 11673/149271 [00:02<00:32, 4258.83it/s]"
     ]
    },
    {
     "name": "stdout",
     "output_type": "stream",
     "text": [
      "1c56 40\n",
      "4z1r 54\n",
      "3asl 77\n",
      "6rxn 45\n",
      "3kyw 55\n",
      "1m8l 96\n",
      "4h33 91\n",
      "1txa 73\n",
      "6cll 7\n",
      "5jjz 62\n",
      "6q5q 33\n",
      "1j8e 44\n",
      "2g6f 59\n",
      "4w5y 15\n",
      "4akj 100\n",
      "2p2r 77\n",
      "2era 62\n",
      "1r7c 31\n",
      "1qx8 98\n",
      "3gnb 69\n",
      "3mut 90\n",
      "1j2n 99\n",
      "1qsu 62\n",
      "1av2 32\n"
     ]
    },
    {
     "name": "stderr",
     "output_type": "stream",
     "text": [
      "  8%|▊         | 12539/149271 [00:02<00:33, 4119.52it/s]"
     ]
    },
    {
     "name": "stdout",
     "output_type": "stream",
     "text": [
      "3q8j 36\n",
      "6i0a 83\n",
      "1jzp 20\n",
      "3tz1 95\n",
      "1sf0 68\n",
      "5ome 60\n",
      "1uti 73\n",
      "1uo3 60\n",
      "1ten 89\n",
      "3co6 91\n",
      "2msi 66\n",
      "6pcy 99\n",
      "1pht 83\n",
      "1jy9 19\n",
      "3rm1 98\n",
      "1kfm 50\n",
      "4z59 72\n",
      "1cc8 72\n",
      "4l58 71\n",
      "1iuz 98\n",
      "2mue 20\n",
      "4uby 27\n",
      "4itq 90\n",
      "4i67 76\n",
      "6qjj 89\n"
     ]
    },
    {
     "name": "stderr",
     "output_type": "stream",
     "text": [
      "  9%|▉         | 13372/149271 [00:02<00:33, 4092.41it/s]"
     ]
    },
    {
     "name": "stdout",
     "output_type": "stream",
     "text": [
      "1zim 96\n",
      "4jve 92\n",
      "3khq 93\n",
      "6d8j 82\n",
      "4es2 84\n",
      "1nag 56\n",
      "2onq 56\n",
      "2jvh 72\n",
      "3ov8 93\n",
      "1zmk 56\n",
      "3zq8 34\n",
      "1hcr 52\n",
      "1an2 86\n",
      "1xy2 8\n",
      "6ff1 71\n",
      "5bmi 56\n",
      "5m4v 67\n",
      "1qlq 59\n"
     ]
    },
    {
     "name": "stderr",
     "output_type": "stream",
     "text": [
      "  9%|▉         | 14175/149271 [00:02<00:35, 3834.86it/s]"
     ]
    },
    {
     "name": "stdout",
     "output_type": "stream",
     "text": [
      "1u3j 99\n",
      "6i6w 100\n",
      "2ers 66\n",
      "1dfu 94\n",
      "3p49 92\n",
      "2iwq 93\n",
      "4pbd 100\n",
      "4bv7 81\n",
      "1pij 73\n",
      "2wbu 85\n",
      "2cjn 97\n",
      "2iji 56\n",
      "3rcp 96\n",
      "5efm 16\n",
      "5yph 100\n",
      "2e3i 78\n",
      "3hjd 58\n",
      "6hg7 86\n",
      "6cfh 22\n"
     ]
    },
    {
     "name": "stderr",
     "output_type": "stream",
     "text": [
      " 10%|▉         | 14922/149271 [00:02<00:37, 3544.62it/s]"
     ]
    },
    {
     "name": "stdout",
     "output_type": "stream",
     "text": [
      "1df5 68\n",
      "2j97 100\n",
      "4wjo 92\n",
      "1myk 92\n",
      "5sus 48\n",
      "6csl 72\n",
      "1odd 100\n",
      "5en9 59\n",
      "4lmm 97\n",
      "5nnx 74\n",
      "1tpg 91\n",
      "4qo4 89\n",
      "1ub9 100\n",
      "1ff4 65\n",
      "1dsc 4\n",
      "3gl6 59\n",
      "6mw1 2\n",
      "1ybz 76\n",
      "3o3z 62\n",
      "2ho2 45\n",
      "3t5s 97\n",
      "1yk4 59\n",
      "2hl7 82\n"
     ]
    },
    {
     "name": "stderr",
     "output_type": "stream",
     "text": [
      "\r",
      " 10%|█         | 15282/149271 [00:03<00:39, 3378.44it/s]"
     ]
    },
    {
     "name": "stdout",
     "output_type": "stream",
     "text": [
      "2jku 38\n",
      "6at0 61\n",
      "3g19 87\n",
      "4ttl 25\n",
      "2ckx 83\n",
      "4mno 97\n",
      "2ezk 93\n",
      "6qm1 60\n",
      "1e6h 61\n",
      "1qr9 68\n",
      "1emz 21\n",
      "2ezh 65\n"
     ]
    },
    {
     "name": "stderr",
     "output_type": "stream",
     "text": [
      " 11%|█         | 15942/149271 [00:03<00:47, 2811.85it/s]"
     ]
    },
    {
     "name": "stdout",
     "output_type": "stream",
     "text": [
      "5z25 96\n",
      "5z0w 65\n",
      "1mag 16\n",
      "4f26 77\n",
      "3lfp 96\n",
      "2nls 36\n",
      "1hhu 4\n",
      "6cg5 36\n",
      "1zyw 66\n"
     ]
    },
    {
     "name": "stderr",
     "output_type": "stream",
     "text": [
      " 11%|█         | 16592/149271 [00:03<00:43, 3017.48it/s]"
     ]
    },
    {
     "name": "stdout",
     "output_type": "stream",
     "text": [
      "1wja 94\n",
      "1cta 68\n",
      "4ypc 90\n",
      "2eyx 67\n",
      "6bew 40\n",
      "2o1k 90\n",
      "3hrn 68\n",
      "3cp0 71\n",
      "2knt 58\n",
      "5ytx 78\n",
      "1heh 88\n",
      "5hkn 60\n",
      "6akm 97\n"
     ]
    },
    {
     "name": "stderr",
     "output_type": "stream",
     "text": [
      " 12%|█▏        | 17223/149271 [00:03<00:43, 3015.02it/s]"
     ]
    },
    {
     "name": "stdout",
     "output_type": "stream",
     "text": [
      "2eaq 89\n",
      "1bti 58\n",
      "3eb5 68\n",
      "4cgq 99\n",
      "4hiv 8\n",
      "6e6n 40\n",
      "3wit 63\n",
      "5go7 77\n",
      "4eif 87\n",
      "6a6c 84\n",
      "3twf 46\n",
      "2kk9 55\n",
      "2ldj 19\n",
      "1go9 39\n"
     ]
    },
    {
     "name": "stderr",
     "output_type": "stream",
     "text": [
      " 12%|█▏        | 17883/149271 [00:03<00:42, 3110.09it/s]"
     ]
    },
    {
     "name": "stdout",
     "output_type": "stream",
     "text": [
      "6odg 12\n",
      "3h8y 95\n",
      "1i3w 16\n",
      "1d1l 61\n",
      "1qkx 58\n",
      "2soc 10\n",
      "1uo0 62\n",
      "1ob4 5\n",
      "3k7z 91\n"
     ]
    },
    {
     "name": "stderr",
     "output_type": "stream",
     "text": [
      " 12%|█▏        | 18493/149271 [00:04<00:45, 2888.83it/s]"
     ]
    },
    {
     "name": "stdout",
     "output_type": "stream",
     "text": [
      "5omd 62\n",
      "3mx7 90\n",
      "1u84 81\n",
      "1nk3 63\n",
      "1nct 98\n",
      "3o3k 90\n",
      "1b0y 85\n",
      "3svi 80\n",
      "2z0w 72\n",
      "4tut 6\n",
      "1jl9 87\n",
      "2j52 56\n",
      "6fc6 86\n"
     ]
    },
    {
     "name": "stderr",
     "output_type": "stream",
     "text": [
      " 13%|█▎        | 19104/149271 [00:04<00:45, 2866.32it/s]"
     ]
    },
    {
     "name": "stdout",
     "output_type": "stream",
     "text": [
      "4aqi 97\n",
      "1ku3 61\n",
      "3ngg 97\n",
      "1l1v 24\n",
      "5bpo 99\n",
      "1k76 60\n",
      "1lcc 51\n",
      "5ytz 4\n",
      "3lt8 69\n",
      "1pi8 76\n",
      "6maa 78\n",
      "1bdd 60\n",
      "1bxm 99\n",
      "5afg 97\n",
      "3ai6 71\n"
     ]
    },
    {
     "name": "stderr",
     "output_type": "stream",
     "text": [
      " 13%|█▎        | 19711/149271 [00:04<00:44, 2913.19it/s]"
     ]
    },
    {
     "name": "stdout",
     "output_type": "stream",
     "text": [
      "2zqe 80\n",
      "1w5l 65\n",
      "2g4m 51\n",
      "1j2m 99\n",
      "1brf 53\n",
      "5usv 51\n",
      "6bwz 6\n",
      "2g66 49\n",
      "6dr5 67\n",
      "1ynv 96\n",
      "4k7t 8\n",
      "5hqi 53\n",
      "3sgo 11\n",
      "1mn3 52\n",
      "4o7q 94\n",
      "4i5z 51\n",
      "2m6e 70\n",
      "1f7m 46\n",
      "9ins 51\n",
      "2pp6 84\n",
      "6h84 83\n",
      "2wbs 89\n",
      "3ppd 6\n"
     ]
    },
    {
     "name": "stderr",
     "output_type": "stream",
     "text": [
      " 14%|█▎        | 20333/149271 [00:04<00:43, 2990.66it/s]"
     ]
    },
    {
     "name": "stdout",
     "output_type": "stream",
     "text": [
      "6b35 48\n",
      "3dgo 69\n",
      "3ngk 90\n",
      "5w0j 57\n",
      "5d77 83\n",
      "1f9p 81\n",
      "1djf 15\n",
      "1emn 82\n",
      "1use 47\n",
      "5jn0 99\n",
      "6m7m 6\n",
      "3l32 94\n",
      "6d8i 78\n",
      "5nnm 70\n",
      "6asd 47\n",
      "6d42 76\n",
      "4jjd 59\n",
      "5cuk 95\n"
     ]
    },
    {
     "name": "stderr",
     "output_type": "stream",
     "text": [
      " 14%|█▍        | 20919/149271 [00:05<00:47, 2718.97it/s]"
     ]
    },
    {
     "name": "stdout",
     "output_type": "stream",
     "text": [
      "1bc8 93\n",
      "1azg 72\n",
      "1qkf 73\n",
      "4rex 49\n",
      "2gus 42\n",
      "5xdp 78\n",
      "4lwu 85\n",
      "6a0c 71\n",
      "2ezd 21\n",
      "4iyl 85\n"
     ]
    },
    {
     "name": "stderr",
     "output_type": "stream",
     "text": [
      " 15%|█▍        | 21753/149271 [00:05<00:46, 2720.52it/s]"
     ]
    },
    {
     "name": "stdout",
     "output_type": "stream",
     "text": [
      "3zi3 41\n",
      "4le9 60\n",
      "4dzm 62\n",
      "1o06 22\n",
      "6h8g 87\n",
      "2f2w 56\n",
      "5xpk 81\n",
      "2xzz 98\n",
      "6s34 57\n",
      "1a1z 83\n",
      "1cxn 60\n",
      "1ptx 66\n",
      "1hsq 71\n",
      "1ixu 12\n",
      "2eyw 78\n",
      "8rxn 52\n",
      "1m20 82\n"
     ]
    },
    {
     "name": "stderr",
     "output_type": "stream",
     "text": [
      " 15%|█▍        | 22299/149271 [00:05<00:47, 2675.67it/s]"
     ]
    },
    {
     "name": "stdout",
     "output_type": "stream",
     "text": [
      "1j5d 98\n",
      "1esx 96\n",
      "6cle 7\n",
      "1bk2 57\n",
      "3dhm 100\n",
      "3adg 72\n",
      "1wd0 66\n",
      "1ji9 37\n",
      "5yj8 63\n",
      "6gpm 92\n",
      "3hro 37\n",
      "3off 87\n",
      "1itt 21\n",
      "1a1f 84\n"
     ]
    },
    {
     "name": "stderr",
     "output_type": "stream",
     "text": [
      " 15%|█▌        | 22836/149271 [00:05<00:47, 2670.74it/s]"
     ]
    },
    {
     "name": "stdout",
     "output_type": "stream",
     "text": [
      "3x0g 94\n",
      "5x2e 80\n",
      "1hoe 74\n",
      "6dny 40\n",
      "5zx1 84\n",
      "1g9o 91\n",
      "3cr4 90\n",
      "3nir 62\n",
      "4y92 56\n"
     ]
    },
    {
     "name": "stderr",
     "output_type": "stream",
     "text": [
      " 16%|█▌        | 23364/149271 [00:06<00:53, 2345.63it/s]"
     ]
    },
    {
     "name": "stdout",
     "output_type": "stream",
     "text": [
      "5xqu 70\n",
      "4lfq 38\n",
      "1mny 94\n",
      "3a39 99\n",
      "1nyh 76\n",
      "1j5j 36\n",
      "5txh 26\n",
      "3mpy 96\n",
      "6f3x 90\n",
      "3u91 30\n",
      "5dea 28\n",
      "1r0f 53\n",
      "3w8v 96\n",
      "1gw3 46\n",
      "6gat 66\n",
      "3md4 13\n"
     ]
    },
    {
     "name": "stderr",
     "output_type": "stream",
     "text": [
      " 16%|█▌        | 23895/149271 [00:06<00:50, 2494.57it/s]"
     ]
    },
    {
     "name": "stdout",
     "output_type": "stream",
     "text": [
      "3nij 82\n",
      "2gn5 87\n",
      "2zgg 88\n",
      "4e83 62\n",
      "4a4j 70\n",
      "6ha2 84\n",
      "4gwt 33\n",
      "1zgx 96\n",
      "1j47 85\n",
      "3q9g 6\n",
      "1lvq 9\n",
      "5wlf 62\n",
      "2ffm 79\n",
      "4qnd 97\n",
      "1dph 52\n",
      "5w52 11\n",
      "1whp 94\n",
      "1cbn 51\n"
     ]
    },
    {
     "name": "stderr",
     "output_type": "stream",
     "text": [
      " 16%|█▋        | 24408/149271 [00:06<00:49, 2528.47it/s]"
     ]
    },
    {
     "name": "stdout",
     "output_type": "stream",
     "text": [
      "3dgn 70\n",
      "4rik 9\n",
      "1ij3 96\n",
      "6mj7 58\n",
      "4e82 62\n",
      "1ifp 44\n",
      "3cr5 91\n",
      "1a8c 81\n",
      "1jic 62\n",
      "5o0u 30\n"
     ]
    },
    {
     "name": "stderr",
     "output_type": "stream",
     "text": [
      " 17%|█▋        | 24909/149271 [00:06<00:50, 2440.65it/s]"
     ]
    },
    {
     "name": "stdout",
     "output_type": "stream",
     "text": [
      "1q8h 34\n",
      "1cod 62\n",
      "5c11 58\n",
      "5y4u 99\n",
      "4zai 80\n",
      "4nj0 64\n",
      "3g7a 66\n",
      "2y1b 86\n",
      "3fea 91\n",
      "2qbv 78\n",
      "1qh2 46\n",
      "4r24 85\n",
      "1uj0 67\n",
      "4hc3 71\n",
      "4x0s 13\n"
     ]
    },
    {
     "name": "stderr",
     "output_type": "stream",
     "text": [
      " 17%|█▋        | 25410/149271 [00:06<00:50, 2440.46it/s]"
     ]
    },
    {
     "name": "stdout",
     "output_type": "stream",
     "text": [
      "1rpb 21\n",
      "3rfi 81\n",
      "4wsp 83\n",
      "1gxu 89\n",
      "4hhf 65\n",
      "1bf4 63\n",
      "1w41 99\n",
      "5b09 96\n",
      "4r2q 92\n",
      "1g2b 65\n",
      "5w9s 44\n",
      "3e8v 82\n",
      "4hqx 96\n",
      "2p6v 89\n",
      "6o5k 95\n",
      "1zzn 95\n"
     ]
    },
    {
     "name": "stderr",
     "output_type": "stream",
     "text": [
      " 18%|█▊        | 26140/149271 [00:07<00:51, 2378.61it/s]"
     ]
    },
    {
     "name": "stdout",
     "output_type": "stream",
     "text": [
      "2cwy 92\n",
      "1chz 64\n",
      "5o5i 94\n",
      "3hey 20\n",
      "4iej 85\n",
      "4he5 81\n",
      "5tdd 77\n",
      "1mhx 67\n",
      "3g26 83\n",
      "1dfs 31\n",
      "3ovj 24\n",
      "1rdg 52\n",
      "4fe6 100\n",
      "2ahp 63\n"
     ]
    },
    {
     "name": "stderr",
     "output_type": "stream",
     "text": [
      "\r",
      " 18%|█▊        | 26379/149271 [00:07<00:51, 2367.83it/s]"
     ]
    },
    {
     "name": "stdout",
     "output_type": "stream",
     "text": [
      "2ds7 39\n",
      "3i40 51\n",
      "5hj1 100\n",
      "1ls9 91\n",
      "2ofs 75\n",
      "2bqq 96\n",
      "2p5k 63\n",
      "6sid 93\n",
      "2y3l 32\n"
     ]
    },
    {
     "name": "stderr",
     "output_type": "stream",
     "text": [
      " 18%|█▊        | 27113/149271 [00:07<00:51, 2366.30it/s]"
     ]
    },
    {
     "name": "stdout",
     "output_type": "stream",
     "text": [
      "2sxl 88\n",
      "1oks 50\n",
      "1qwe 68\n",
      "1zx6 56\n",
      "3h36 82\n",
      "4k59 66\n",
      "1uw1 67\n",
      "5lav 94\n",
      "1pks 76\n",
      "2xen 92\n",
      "6uyy 89\n",
      "5m0w 69\n",
      "3gk5 100\n",
      "9pti 59\n",
      "4bph 86\n",
      "5b0g 100\n",
      "6j0h 4\n",
      "1sip 99\n",
      "2wfu 46\n",
      "6uyt 88\n",
      "2rh2 70\n"
     ]
    },
    {
     "name": "stderr",
     "output_type": "stream",
     "text": [
      " 18%|█▊        | 27588/149271 [00:07<00:52, 2325.18it/s]"
     ]
    },
    {
     "name": "stdout",
     "output_type": "stream",
     "text": [
      "5wqr 94\n",
      "1lqx 82\n",
      "6i1j 30\n",
      "5ngn 99\n",
      "6h8d 84\n",
      "3a02 51\n",
      "5tww 60\n",
      "5w7v 88\n",
      "6dga 97\n",
      "5k86 48\n"
     ]
    },
    {
     "name": "stderr",
     "output_type": "stream",
     "text": [
      " 19%|█▉        | 28052/149271 [00:07<00:54, 2219.71it/s]"
     ]
    },
    {
     "name": "stdout",
     "output_type": "stream",
     "text": [
      "1hje 13\n",
      "6shk 48\n",
      "2na5 33\n",
      "4f14 71\n",
      "2g4s 86\n",
      "3kyv 57\n",
      "5ytv 75\n",
      "1u9h 58\n"
     ]
    },
    {
     "name": "stderr",
     "output_type": "stream",
     "text": [
      " 19%|█▉        | 28487/149271 [00:08<00:58, 2076.13it/s]"
     ]
    },
    {
     "name": "stdout",
     "output_type": "stream",
     "text": [
      "4l9u 99\n",
      "3efg 53\n",
      "4hu5 57\n",
      "4rtu 57\n",
      "1zve 66\n",
      "3sfm 59\n",
      "1eod 100\n",
      "5zck 4\n",
      "3f87 97\n"
     ]
    },
    {
     "name": "stderr",
     "output_type": "stream",
     "text": [
      " 19%|█▉        | 28903/149271 [00:08<00:59, 2023.05it/s]"
     ]
    },
    {
     "name": "stdout",
     "output_type": "stream",
     "text": [
      "6ny0 59\n",
      "3n4y 98\n",
      "1bxu 91\n",
      "1dur 55\n",
      "6p4z 98\n",
      "4hg7 100\n",
      "3f2e 87\n",
      "3dgj 8\n",
      "2drx 58\n",
      "3sgn 20\n",
      "6qyr 60\n",
      "6cg3 11\n",
      "4np8 7\n",
      "1qjk 36\n"
     ]
    },
    {
     "name": "stderr",
     "output_type": "stream",
     "text": [
      " 20%|█▉        | 29337/149271 [00:08<00:57, 2094.60it/s]"
     ]
    },
    {
     "name": "stdout",
     "output_type": "stream",
     "text": [
      "5lhw 29\n",
      "1wit 93\n",
      "5zxf 87\n",
      "1aba 87\n",
      "1r1b 56\n",
      "4iri 94\n",
      "4fiw 77\n",
      "2ab7 29\n",
      "3gwo 94\n",
      "5t1g 71\n",
      "4y2i 66\n",
      "2p7r 55\n",
      "6g5e 85\n",
      "4lg7 63\n"
     ]
    },
    {
     "name": "stderr",
     "output_type": "stream",
     "text": [
      " 20%|█▉        | 29771/149271 [00:08<00:57, 2079.75it/s]"
     ]
    },
    {
     "name": "stdout",
     "output_type": "stream",
     "text": [
      "3qmc 54\n",
      "4ifm 46\n",
      "3q1j 67\n",
      "4r0p 7\n",
      "2qmt 56\n",
      "1ab1 49\n",
      "2psr 96\n",
      "1tcg 19\n",
      "1s9z 16\n",
      "5goc 77\n"
     ]
    },
    {
     "name": "stderr",
     "output_type": "stream",
     "text": [
      " 20%|██        | 30211/149271 [00:09<00:55, 2138.73it/s]"
     ]
    },
    {
     "name": "stdout",
     "output_type": "stream",
     "text": [
      "2ewh 92\n",
      "1d7t 100\n",
      "1bds 43\n",
      "4ivh 12\n",
      "2ygi 18\n",
      "5ihk 56\n",
      "4e71 90\n",
      "2n7t 60\n",
      "6bhr 91\n",
      "4lnp 78\n",
      "1zyv 66\n",
      "3l36 45\n"
     ]
    },
    {
     "name": "stderr",
     "output_type": "stream",
     "text": [
      " 21%|██        | 30857/149271 [00:09<00:56, 2099.59it/s]"
     ]
    },
    {
     "name": "stdout",
     "output_type": "stream",
     "text": [
      "2pxb 61\n",
      "1qkw 57\n",
      "6qlc 84\n",
      "1hcc 59\n",
      "1xvk 2\n",
      "1j75 57\n",
      "4wfw 84\n",
      "1y0n 71\n",
      "1hmj 68\n",
      "1uny 56\n",
      "1prb 53\n",
      "3l1g 95\n",
      "4hvv 69\n"
     ]
    },
    {
     "name": "stderr",
     "output_type": "stream",
     "text": [
      " 21%|██        | 31278/149271 [00:09<00:56, 2074.01it/s]"
     ]
    },
    {
     "name": "stdout",
     "output_type": "stream",
     "text": [
      "1zik 60\n",
      "2qnw 86\n",
      "4oh8 89\n",
      "1qwf 68\n",
      "6ir8 69\n",
      "6b79 20\n",
      "2okz 12\n",
      "4yud 96\n",
      "1kuq 84\n",
      "6n2u 69\n",
      "5urt 51\n"
     ]
    },
    {
     "name": "stderr",
     "output_type": "stream",
     "text": [
      " 21%|██        | 31693/149271 [00:09<00:58, 2027.18it/s]"
     ]
    },
    {
     "name": "stdout",
     "output_type": "stream",
     "text": [
      "1cti 29\n",
      "1cch 82\n",
      "3trw 69\n",
      "5rxn 54\n",
      "3hzq 94\n",
      "1hhp 99\n",
      "4ozc 50\n",
      "4jpr 76\n",
      "1hrq 85\n",
      "1tig 88\n",
      "1mzl 93\n",
      "6kj4 6\n"
     ]
    },
    {
     "name": "stderr",
     "output_type": "stream",
     "text": [
      " 22%|██▏       | 32124/149271 [00:09<00:55, 2094.05it/s]"
     ]
    },
    {
     "name": "stdout",
     "output_type": "stream",
     "text": [
      "1pnn 12\n",
      "2bzf 88\n",
      "2jxg 90\n",
      "4irh 99\n",
      "1awx 67\n",
      "2q3i 48\n",
      "2rjy 64\n",
      "1bts 21\n",
      "6cum 56\n",
      "1haa 87\n",
      "1hme 77\n"
     ]
    },
    {
     "name": "stderr",
     "output_type": "stream",
     "text": [
      " 22%|██▏       | 32545/149271 [00:10<00:55, 2085.12it/s]"
     ]
    },
    {
     "name": "stdout",
     "output_type": "stream",
     "text": [
      "2esx 19\n",
      "1hzs 4\n",
      "1omy 64\n",
      "5h0o 92\n",
      "1km7 100\n",
      "1awj 77\n",
      "4zc3 59\n",
      "2cc8 64\n",
      "6clg 7\n",
      "5nfk 82\n"
     ]
    },
    {
     "name": "stderr",
     "output_type": "stream",
     "text": [
      " 22%|██▏       | 32963/149271 [00:10<00:56, 2049.26it/s]"
     ]
    },
    {
     "name": "stdout",
     "output_type": "stream",
     "text": [
      "3msi 66\n",
      "5zk1 90\n",
      "4id8 65\n",
      "3fia 95\n",
      "3pyj 96\n",
      "1uue 57\n",
      "3pz7 84\n",
      "1res 43\n",
      "4hdl 71\n",
      "1nlp 62\n",
      "3o7a 57\n",
      "2ifn 46\n",
      "1hd3 58\n",
      "1foy 76\n",
      "5jyq 39\n"
     ]
    },
    {
     "name": "stderr",
     "output_type": "stream",
     "text": [
      " 22%|██▏       | 33379/149271 [00:10<00:56, 2037.33it/s]"
     ]
    },
    {
     "name": "stdout",
     "output_type": "stream",
     "text": [
      "1l0i 77\n",
      "1i0u 82\n",
      "4i2l 82\n",
      "1k34 60\n",
      "2d55 4\n",
      "5cyb 92\n",
      "4r2c 88\n",
      "4w5m 14\n",
      "4ikg 81\n",
      "1h59 99\n",
      "6gto 62\n",
      "2ccn 65\n",
      "2jp8 70\n",
      "1u9u 82\n",
      "4jl7 91\n",
      "2c3g 99\n"
     ]
    },
    {
     "name": "stderr",
     "output_type": "stream",
     "text": [
      " 23%|██▎       | 33785/149271 [00:10<00:58, 1967.06it/s]"
     ]
    },
    {
     "name": "stdout",
     "output_type": "stream",
     "text": [
      "1fk3 93\n",
      "2egn 88\n",
      "1s29 89\n",
      "6c3t 12\n",
      "1sj4 95\n",
      "2aqf 90\n",
      "4cgc 81\n"
     ]
    },
    {
     "name": "stderr",
     "output_type": "stream",
     "text": [
      " 23%|██▎       | 34166/149271 [00:11<01:08, 1684.62it/s]"
     ]
    },
    {
     "name": "stdout",
     "output_type": "stream",
     "text": [
      "1zdd 34\n",
      "2zta 62\n",
      "2yv4 100\n",
      "4wk1 94\n",
      "1xvn 2\n",
      "1meq 23\n",
      "4r22 82\n"
     ]
    },
    {
     "name": "stderr",
     "output_type": "stream",
     "text": [
      " 23%|██▎       | 34553/149271 [00:11<01:03, 1803.63it/s]"
     ]
    },
    {
     "name": "stdout",
     "output_type": "stream",
     "text": [
      "1wy4 37\n",
      "2buo 98\n",
      "5o0z 16\n",
      "4bsp 91\n",
      "1eof 100\n",
      "5yty 4\n",
      "2y90 64\n",
      "5los 89\n",
      "5um3 75\n",
      "1aik 70\n",
      "5e5x 6\n",
      "1bi6 52\n",
      "2mlt 52\n",
      "5gzb 89\n",
      "1bqx 77\n",
      "6gzj 98\n",
      "1avv 99\n",
      "4rcb 67\n",
      "3ldd 82\n",
      "1a7i 60\n",
      "1pan 17\n",
      "1bbi 71\n",
      "3u97 85\n",
      "1crn 46\n",
      "1mb1 98\n",
      "1go6 15\n",
      "1g2s 71\n"
     ]
    },
    {
     "name": "stderr",
     "output_type": "stream",
     "text": [
      " 23%|██▎       | 34922/149271 [00:11<01:04, 1766.75it/s]"
     ]
    },
    {
     "name": "stdout",
     "output_type": "stream",
     "text": [
      "1dfn 60\n",
      "1et1 68\n",
      "1swi 91\n",
      "3dkm 80\n",
      "1imx 56\n",
      "5gua 73\n"
     ]
    },
    {
     "name": "stderr",
     "output_type": "stream",
     "text": [
      " 24%|██▍       | 35526/149271 [00:11<00:59, 1916.46it/s]"
     ]
    },
    {
     "name": "stdout",
     "output_type": "stream",
     "text": [
      "5w0g 89\n",
      "3t7l 86\n",
      "5a7l 80\n",
      "1nra 63\n",
      "2nml 100\n",
      "2m6f 70\n",
      "6clk 7\n",
      "5zjl 62\n",
      "5nmn 38\n",
      "1pak 17\n",
      "185d 10\n",
      "1cc7 72\n",
      "6ha4 59\n",
      "1t9q 53\n",
      "1sap 66\n",
      "1az5 95\n"
     ]
    },
    {
     "name": "stderr",
     "output_type": "stream",
     "text": [
      " 24%|██▍       | 35910/149271 [00:11<01:01, 1854.73it/s]"
     ]
    },
    {
     "name": "stdout",
     "output_type": "stream",
     "text": [
      "1msi 66\n",
      "1hgv 46\n",
      "6mrs 84\n",
      "5h0m 92\n",
      "5tab 54\n",
      "6fbk 100\n",
      "5fo5 92\n",
      "4pww 85\n",
      "4hdd 67\n",
      "1kfn 53\n",
      "5u9t 84\n"
     ]
    },
    {
     "name": "stderr",
     "output_type": "stream",
     "text": [
      "\r",
      " 24%|██▍       | 36106/149271 [00:12<01:00, 1883.78it/s]"
     ]
    },
    {
     "name": "stdout",
     "output_type": "stream",
     "text": [
      "2gyz 97\n",
      "4e0l 44\n",
      "3o70 55\n",
      "5er4 90\n",
      "4n6j 88\n",
      "4jv9 85\n",
      "6atl 74\n",
      "2k38 35\n",
      "1ij1 93\n"
     ]
    },
    {
     "name": "stderr",
     "output_type": "stream",
     "text": [
      " 25%|██▍       | 36663/149271 [00:12<01:04, 1755.07it/s]"
     ]
    },
    {
     "name": "stdout",
     "output_type": "stream",
     "text": [
      "2hvp 94\n",
      "3hvp 97\n",
      "5cum 96\n",
      "1bw6 56\n",
      "1j7r 77\n",
      "4w71 17\n",
      "6q6r 69\n",
      "4zlx 94\n",
      "2pk8 94\n"
     ]
    },
    {
     "name": "stderr",
     "output_type": "stream",
     "text": [
      " 25%|██▍       | 37044/149271 [00:12<01:01, 1812.92it/s]"
     ]
    },
    {
     "name": "stdout",
     "output_type": "stream",
     "text": [
      "3pkn 91\n",
      "3f27 74\n",
      "1jv9 58\n",
      "1soc 5\n",
      "6bxx 6\n",
      "3heu 21\n",
      "2es9 97\n",
      "5t7r 100\n",
      "1gd3 98\n"
     ]
    },
    {
     "name": "stderr",
     "output_type": "stream",
     "text": [
      " 25%|██▌       | 37604/149271 [00:12<01:02, 1787.19it/s]"
     ]
    },
    {
     "name": "stdout",
     "output_type": "stream",
     "text": [
      "1f7y 82\n",
      "3t2a 51\n",
      "3tys 78\n",
      "6cro 60\n",
      "4oix 92\n",
      "5wkb 6\n",
      "3r3k 90\n",
      "3gv3 62\n",
      "3qj6 94\n",
      "2w9q 87\n",
      "1jru 89\n",
      "5kl6 88\n"
     ]
    },
    {
     "name": "stderr",
     "output_type": "stream",
     "text": [
      " 25%|██▌       | 37963/149271 [00:13<01:02, 1781.71it/s]"
     ]
    },
    {
     "name": "stdout",
     "output_type": "stream",
     "text": [
      "4b2h 64\n",
      "5my7 93\n",
      "4mml 67\n",
      "1xy4 100\n",
      "3ce7 96\n",
      "6atm 39\n",
      "2mtx 20\n",
      "2qyw 92\n",
      "1yod 55\n",
      "1eoe 100\n"
     ]
    },
    {
     "name": "stderr",
     "output_type": "stream",
     "text": [
      " 26%|██▌       | 38322/149271 [00:13<01:02, 1778.33it/s]"
     ]
    },
    {
     "name": "stdout",
     "output_type": "stream",
     "text": [
      "2cce 62\n",
      "5gok 78\n",
      "1ynz 57\n",
      "1cs9 63\n",
      "3snz 87\n",
      "1ijv 80\n",
      "6qyt 75\n",
      "3e56 75\n",
      "1iua 85\n",
      "2o2w 67\n",
      "4ytv 69\n"
     ]
    },
    {
     "name": "stderr",
     "output_type": "stream",
     "text": [
      " 26%|██▌       | 38679/149271 [00:13<01:02, 1758.53it/s]"
     ]
    },
    {
     "name": "stdout",
     "output_type": "stream",
     "text": [
      "2y3k 64\n",
      "1b2e 51\n",
      "2ozf 96\n",
      "4jzp 100\n",
      "1lou 97\n",
      "1ubq 76\n",
      "1q9b 44\n",
      "3czc 91\n",
      "2cmp 62\n",
      "3d2w 72\n",
      "5um1 25\n"
     ]
    },
    {
     "name": "stderr",
     "output_type": "stream",
     "text": [
      " 26%|██▌       | 39030/149271 [00:13<01:08, 1609.98it/s]"
     ]
    },
    {
     "name": "stdout",
     "output_type": "stream",
     "text": [
      "1q4v 100\n",
      "4pti 58\n",
      "2f4k 33\n",
      "2poi 78\n",
      "3rzt 51\n",
      "3sel 71\n",
      "2qg1 95\n"
     ]
    },
    {
     "name": "stderr",
     "output_type": "stream",
     "text": [
      " 26%|██▋       | 39336/149271 [00:14<01:25, 1278.47it/s]"
     ]
    },
    {
     "name": "stdout",
     "output_type": "stream",
     "text": [
      "2fht 68\n",
      "1w5h 62\n",
      "5jbv 80\n",
      "1b5a 94\n",
      "3cq1 98\n",
      "1frd 98\n",
      "1zx3 83\n"
     ]
    },
    {
     "name": "stderr",
     "output_type": "stream",
     "text": [
      " 27%|██▋       | 39614/149271 [00:14<01:24, 1299.51it/s]"
     ]
    },
    {
     "name": "stdout",
     "output_type": "stream",
     "text": [
      "1g1i 85\n",
      "1etf 23\n",
      "2wkd 77\n",
      "4yb1 92\n",
      "5wiq 14\n",
      "1rrb 76\n",
      "2ifo 46\n",
      "2oxo 94\n",
      "5kue 96\n"
     ]
    },
    {
     "name": "stderr",
     "output_type": "stream",
     "text": [
      " 27%|██▋       | 39942/149271 [00:14<01:15, 1456.95it/s]"
     ]
    },
    {
     "name": "stdout",
     "output_type": "stream",
     "text": [
      "3ftk 7\n",
      "2brz 53\n",
      "2kql 40\n",
      "4lbp 96\n",
      "3tbo 54\n",
      "3ghf 100\n",
      "1bnz 64\n"
     ]
    },
    {
     "name": "stderr",
     "output_type": "stream",
     "text": [
      " 27%|██▋       | 40453/149271 [00:14<01:08, 1599.86it/s]"
     ]
    },
    {
     "name": "stdout",
     "output_type": "stream",
     "text": [
      "4msi 66\n",
      "5xsl 85\n",
      "2lk9 24\n",
      "1sn1 64\n",
      "3i3z 53\n",
      "1j7a 98\n",
      "1xmk 83\n"
     ]
    },
    {
     "name": "stderr",
     "output_type": "stream",
     "text": [
      "\r",
      " 27%|██▋       | 40616/149271 [00:14<01:16, 1425.68it/s]"
     ]
    },
    {
     "name": "stdout",
     "output_type": "stream",
     "text": [
      "6ego 37\n",
      "3kui 94\n",
      "3m0u 59\n",
      "2j6z 87\n",
      "1t3j 62\n",
      "1amb 28\n",
      "2jsb 21\n",
      "2m7y 71\n",
      "1nlo 62\n",
      "6h5k 93\n",
      "5whp 6\n"
     ]
    },
    {
     "name": "stderr",
     "output_type": "stream",
     "text": [
      " 28%|██▊       | 41095/149271 [00:15<01:10, 1534.39it/s]"
     ]
    },
    {
     "name": "stdout",
     "output_type": "stream",
     "text": [
      "4npd 100\n",
      "1srl 56\n",
      "4ihn 51\n",
      "1cvq 28\n",
      "5n41 70\n",
      "1mea 28\n",
      "5g25 82\n"
     ]
    },
    {
     "name": "stderr",
     "output_type": "stream",
     "text": [
      " 28%|██▊       | 41402/149271 [00:15<01:19, 1351.88it/s]"
     ]
    },
    {
     "name": "stdout",
     "output_type": "stream",
     "text": [
      "4zhp 99\n",
      "2pxl 61\n",
      "6che 55\n",
      "2oo2 76\n",
      "3ph2 85\n",
      "3dmi 87\n"
     ]
    },
    {
     "name": "stderr",
     "output_type": "stream",
     "text": [
      " 28%|██▊       | 41704/149271 [00:15<01:16, 1410.18it/s]"
     ]
    },
    {
     "name": "stdout",
     "output_type": "stream",
     "text": [
      "1cor 81\n",
      "3ud4 87\n",
      "5sze 72\n",
      "1czq 46\n",
      "2fma 61\n",
      "2afe 88\n",
      "3ga8 74\n",
      "4rp6 8\n",
      "1cfw 72\n",
      "1zpa 99\n",
      "5y20 58\n",
      "1pcn 93\n",
      "2zeq 78\n",
      "6clh 7\n"
     ]
    },
    {
     "name": "stderr",
     "output_type": "stream",
     "text": [
      " 28%|██▊       | 42023/149271 [00:15<01:12, 1486.32it/s]"
     ]
    },
    {
     "name": "stdout",
     "output_type": "stream",
     "text": [
      "3gbl 97\n",
      "2nrg 82\n",
      "1k33 62\n",
      "4hp1 51\n",
      "4gb0 91\n",
      "5fwz 98\n",
      "2yvi 89\n",
      "3mur 90\n"
     ]
    },
    {
     "name": "stderr",
     "output_type": "stream",
     "text": [
      " 29%|██▊       | 42673/149271 [00:16<01:07, 1570.79it/s]"
     ]
    },
    {
     "name": "stdout",
     "output_type": "stream",
     "text": [
      "2sam 99\n",
      "3het 41\n",
      "5ebx 62\n",
      "1mnv 8\n",
      "2n7n 60\n",
      "1hfg 71\n",
      "6gq2 22\n",
      "3orc 65\n",
      "1riy 71\n",
      "5w50 12\n",
      "3ngp 58\n",
      "4u3h 100\n"
     ]
    },
    {
     "name": "stderr",
     "output_type": "stream",
     "text": [
      " 29%|██▉       | 42994/149271 [00:16<01:07, 1578.43it/s]"
     ]
    },
    {
     "name": "stdout",
     "output_type": "stream",
     "text": [
      "1ts9 93\n",
      "2he4 90\n",
      "1aw3 94\n",
      "4zzd 98\n",
      "3oiz 95\n",
      "1enm 91\n",
      "2xs2 93\n",
      "6ipz 64\n",
      "4iyf 51\n",
      "3e21 40\n",
      "6mrr 71\n",
      "1ca5 65\n",
      "2bn1 56\n",
      "1bbl 37\n"
     ]
    },
    {
     "name": "stderr",
     "output_type": "stream",
     "text": [
      " 29%|██▉       | 43316/149271 [00:16<01:09, 1526.22it/s]"
     ]
    },
    {
     "name": "stdout",
     "output_type": "stream",
     "text": [
      "2d9r 84\n",
      "3gny 60\n",
      "2odc 47\n",
      "6av8 29\n",
      "2ymy 84\n"
     ]
    },
    {
     "name": "stderr",
     "output_type": "stream",
     "text": [
      " 29%|██▉       | 43620/149271 [00:16<01:11, 1471.28it/s]"
     ]
    },
    {
     "name": "stdout",
     "output_type": "stream",
     "text": [
      "2qvo 87\n",
      "1hhz 6\n",
      "1ttz 74\n",
      "1k96 89\n",
      "1btq 20\n"
     ]
    },
    {
     "name": "stderr",
     "output_type": "stream",
     "text": [
      " 29%|██▉       | 43929/149271 [00:17<01:12, 1448.19it/s]"
     ]
    },
    {
     "name": "stdout",
     "output_type": "stream",
     "text": [
      "3lo9 58\n",
      "3g0v 79\n",
      "5mxy 83\n",
      "1tc3 51\n",
      "4cny 95\n",
      "4mjb 100\n",
      "1skl 40\n",
      "4a7e 50\n",
      "6nmw 66\n"
     ]
    },
    {
     "name": "stderr",
     "output_type": "stream",
     "text": [
      " 30%|██▉       | 44237/149271 [00:17<01:10, 1490.47it/s]"
     ]
    },
    {
     "name": "stdout",
     "output_type": "stream",
     "text": [
      "3m1e 90\n",
      "5w0h 94\n",
      "1eis 87\n",
      "2izx 98\n",
      "2h41 95\n",
      "3m9a 93\n",
      "1sna 79\n",
      "1lpl 95\n",
      "2htj 81\n",
      "3lt9 69\n"
     ]
    },
    {
     "name": "stderr",
     "output_type": "stream",
     "text": [
      " 30%|██▉       | 44553/149271 [00:17<01:09, 1512.52it/s]"
     ]
    },
    {
     "name": "stdout",
     "output_type": "stream",
     "text": [
      "3tjy 80\n",
      "1orc 64\n",
      "2rjv 67\n",
      "2f60 62\n",
      "6dk5 42\n",
      "1ypa 64\n",
      "6c3g 12\n",
      "1u2h 96\n",
      "1ncp 35\n",
      "1wzb 29\n",
      "1ckt 71\n"
     ]
    },
    {
     "name": "stderr",
     "output_type": "stream",
     "text": [
      " 30%|███       | 45018/149271 [00:17<01:08, 1519.93it/s]"
     ]
    },
    {
     "name": "stdout",
     "output_type": "stream",
     "text": [
      "1w3e 98\n",
      "4ttn 37\n"
     ]
    },
    {
     "name": "stderr",
     "output_type": "stream",
     "text": [
      " 30%|███       | 45320/149271 [00:18<01:11, 1453.11it/s]"
     ]
    },
    {
     "name": "stdout",
     "output_type": "stream",
     "text": [
      "2xnr 75\n",
      "4q2m 69\n",
      "1kwj 68\n"
     ]
    },
    {
     "name": "stderr",
     "output_type": "stream",
     "text": [
      " 31%|███       | 45628/149271 [00:18<01:09, 1492.62it/s]"
     ]
    },
    {
     "name": "stdout",
     "output_type": "stream",
     "text": [
      "2xjh 17\n",
      "1hre 67\n",
      "1w40 98\n",
      "1nte 82\n",
      "1xy8 90\n",
      "1hhf 4\n",
      "3hyd 8\n",
      "1bpi 61\n",
      "6n4p 12\n",
      "6bdg 63\n",
      "1etl 12\n",
      "1mrt 31\n",
      "6a2q 100\n",
      "1wjc 94\n"
     ]
    },
    {
     "name": "stderr",
     "output_type": "stream",
     "text": [
      " 31%|███       | 45940/149271 [00:18<01:08, 1515.08it/s]"
     ]
    },
    {
     "name": "stdout",
     "output_type": "stream",
     "text": [
      "4mhg 93\n",
      "1j2x 88\n",
      "1tch 19\n",
      "3k0x 99\n",
      "1psf 69\n",
      "5et3 60\n",
      "2kv6 4\n",
      "3fdr 90\n",
      "2pko 100\n",
      "3pzz 12\n",
      "1alx 17\n",
      "3h01 100\n"
     ]
    },
    {
     "name": "stderr",
     "output_type": "stream",
     "text": [
      " 31%|███       | 46250/149271 [00:18<01:07, 1521.70it/s]"
     ]
    },
    {
     "name": "stdout",
     "output_type": "stream",
     "text": [
      "2ip6 87\n",
      "1t2y 25\n",
      "3lbj 83\n",
      "4bvd 80\n",
      "1lfb 77\n",
      "5k2l 54\n",
      "4icb 79\n",
      "1kx2 81\n",
      "4pqw 92\n",
      "5x3m 84\n",
      "6q5i 52\n",
      "3qmi 52\n",
      "2zga 99\n",
      "1fvm 6\n",
      "1mfl 100\n"
     ]
    },
    {
     "name": "stderr",
     "output_type": "stream",
     "text": [
      " 31%|███▏      | 46715/149271 [00:19<01:09, 1475.49it/s]"
     ]
    },
    {
     "name": "stdout",
     "output_type": "stream",
     "text": [
      "3lnq 58\n",
      "1wri 93\n",
      "5bt2 71\n",
      "6fg4 8\n",
      "6mgn 99\n",
      "2nqc 97\n",
      "6c3f 12\n",
      "1g1j 88\n",
      "1xy1 16\n",
      "3q2c 96\n",
      "1ywo 65\n"
     ]
    },
    {
     "name": "stderr",
     "output_type": "stream",
     "text": [
      " 32%|███▏      | 47022/149271 [00:19<01:08, 1503.45it/s]"
     ]
    },
    {
     "name": "stdout",
     "output_type": "stream",
     "text": [
      "3p46 39\n",
      "1alz 18\n",
      "6dce 91\n",
      "4hs2 71\n",
      "1i92 95\n",
      "5hkr 60\n",
      "1fxd 57\n",
      "5zds 91\n",
      "1q3l 57\n"
     ]
    },
    {
     "name": "stderr",
     "output_type": "stream",
     "text": [
      " 32%|███▏      | 47324/149271 [00:19<01:09, 1462.02it/s]"
     ]
    },
    {
     "name": "stdout",
     "output_type": "stream",
     "text": [
      "3ss2 51\n",
      "1w5g 65\n",
      "6a2t 93\n",
      "5mj1 88\n",
      "5ax2 80\n",
      "1wk2 82\n",
      "1tos 30\n",
      "1fyn 72\n"
     ]
    },
    {
     "name": "stderr",
     "output_type": "stream",
     "text": [
      " 32%|███▏      | 47769/149271 [00:19<01:09, 1459.48it/s]"
     ]
    },
    {
     "name": "stdout",
     "output_type": "stream",
     "text": [
      "3jsd 100\n",
      "3rdy 67\n",
      "1a3i 21\n",
      "4x9z 96\n",
      "3eun 81\n",
      "4hjk 77\n"
     ]
    },
    {
     "name": "stderr",
     "output_type": "stream",
     "text": [
      " 32%|███▏      | 48065/149271 [00:19<01:09, 1461.70it/s]"
     ]
    },
    {
     "name": "stdout",
     "output_type": "stream",
     "text": [
      "1drz 94\n",
      "2mc5 73\n",
      "3dgl 70\n",
      "1yn4 99\n",
      "1hh0 46\n",
      "3zr8 77\n"
     ]
    },
    {
     "name": "stderr",
     "output_type": "stream",
     "text": [
      " 32%|███▏      | 48369/149271 [00:20<01:07, 1485.58it/s]"
     ]
    },
    {
     "name": "stdout",
     "output_type": "stream",
     "text": [
      "2y5m 49\n",
      "1pfp 87\n",
      "6a6l 78\n",
      "1csa 36\n",
      "1ksm 75\n",
      "3mth 100\n",
      "3uw4 88\n",
      "1tg0 76\n"
     ]
    },
    {
     "name": "stderr",
     "output_type": "stream",
     "text": [
      "\r",
      " 33%|███▎      | 48518/149271 [00:20<01:11, 1400.05it/s]"
     ]
    },
    {
     "name": "stdout",
     "output_type": "stream",
     "text": [
      "1b0q 9\n",
      "1csp 67\n",
      "3i18 94\n",
      "2nsn 95\n",
      "1ng8 16\n"
     ]
    },
    {
     "name": "stderr",
     "output_type": "stream",
     "text": [
      " 33%|███▎      | 48790/149271 [00:20<01:20, 1245.97it/s]"
     ]
    },
    {
     "name": "stdout",
     "output_type": "stream",
     "text": [
      "1a7y 12\n",
      "5ytt 82\n",
      "1rgv 80\n",
      "5uzn 81\n"
     ]
    },
    {
     "name": "stderr",
     "output_type": "stream",
     "text": [
      " 33%|███▎      | 49063/149271 [00:20<01:24, 1187.83it/s]"
     ]
    },
    {
     "name": "stdout",
     "output_type": "stream",
     "text": [
      "1ypb 64\n",
      "5o3j 80\n",
      "6cew 13\n",
      "1b4o 62\n",
      "3kyx 54\n",
      "1jxu 52\n",
      "2jk7 96\n"
     ]
    },
    {
     "name": "stderr",
     "output_type": "stream",
     "text": [
      " 33%|███▎      | 49493/149271 [00:21<01:14, 1334.28it/s]"
     ]
    },
    {
     "name": "stdout",
     "output_type": "stream",
     "text": [
      "4e6s 85\n",
      "1gw4 46\n",
      "2fcf 90\n",
      "5yuh 90\n",
      "1k9b 58\n",
      "1dfy 100\n",
      "2fq3 85\n",
      "1esr 75\n",
      "2ocs 87\n",
      "4zce 100\n",
      "1tuk 67\n",
      "4m6e 8\n"
     ]
    },
    {
     "name": "stderr",
     "output_type": "stream",
     "text": [
      " 33%|███▎      | 49768/149271 [00:21<01:14, 1341.20it/s]"
     ]
    },
    {
     "name": "stdout",
     "output_type": "stream",
     "text": [
      "3cqt 61\n",
      "1hip 85\n",
      "5y46 59\n",
      "1p9g 42\n",
      "3ftl 14\n",
      "1yui 54\n",
      "6h8f 91\n",
      "4htj 90\n",
      "5uu4 92\n",
      "3c3g 21\n"
     ]
    },
    {
     "name": "stderr",
     "output_type": "stream",
     "text": [
      " 34%|███▎      | 50044/149271 [00:21<01:14, 1329.66it/s]"
     ]
    },
    {
     "name": "stdout",
     "output_type": "stream",
     "text": [
      "3ovl 6\n",
      "5pti 58\n",
      "1dlb 63\n",
      "6q5o 41\n",
      "1kb7 17\n",
      "4j8c 100\n",
      "5wkd 7\n",
      "1qj0 100\n"
     ]
    },
    {
     "name": "stderr",
     "output_type": "stream",
     "text": [
      " 34%|███▎      | 50325/149271 [00:21<01:12, 1368.37it/s]"
     ]
    },
    {
     "name": "stdout",
     "output_type": "stream",
     "text": [
      "3try 2\n",
      "4n1v 93\n",
      "3m0s 57\n",
      "1xvr 4\n",
      "3hev 21\n",
      "2jyp 36\n",
      "6cf4 5\n"
     ]
    },
    {
     "name": "stderr",
     "output_type": "stream",
     "text": [
      " 34%|███▍      | 50606/149271 [00:21<01:14, 1318.60it/s]"
     ]
    },
    {
     "name": "stdout",
     "output_type": "stream",
     "text": [
      "1coa 64\n",
      "1beo 98\n",
      "1ycr 98\n",
      "1w3m 85\n",
      "3h0h 63\n",
      "3njw 19\n",
      "5gu9 74\n",
      "3qdp 91\n",
      "4mmj 93\n",
      "6air 94\n",
      "2mf8 75\n",
      "1q3z 41\n"
     ]
    },
    {
     "name": "stderr",
     "output_type": "stream",
     "text": [
      " 34%|███▍      | 50882/149271 [00:22<01:13, 1347.38it/s]"
     ]
    },
    {
     "name": "stdout",
     "output_type": "stream",
     "text": [
      "1r02 33\n",
      "4ttm 38\n",
      "1azq 66\n",
      "1b5n 23\n",
      "2ci2 65\n",
      "3pcy 99\n",
      "6m9j 6\n",
      "3hfc 71\n",
      "6fj7 99\n",
      "2m73 25\n",
      "1r5q 92\n",
      "1neb 60\n",
      "4rkg 83\n",
      "2asc 70\n"
     ]
    },
    {
     "name": "stderr",
     "output_type": "stream",
     "text": [
      " 34%|███▍      | 51158/149271 [00:22<01:13, 1331.60it/s]"
     ]
    },
    {
     "name": "stdout",
     "output_type": "stream",
     "text": [
      "3cu4 79\n",
      "3iaj 87\n",
      "1eoq 77\n",
      "1m59 82\n",
      "1jj8 49\n",
      "1bkv 68\n"
     ]
    },
    {
     "name": "stderr",
     "output_type": "stream",
     "text": [
      " 35%|███▍      | 51541/149271 [00:22<01:25, 1136.99it/s]"
     ]
    },
    {
     "name": "stdout",
     "output_type": "stream",
     "text": [
      "6h9t 86\n",
      "1jnt 92\n"
     ]
    },
    {
     "name": "stderr",
     "output_type": "stream",
     "text": [
      " 35%|███▍      | 51814/149271 [00:22<01:19, 1225.66it/s]"
     ]
    },
    {
     "name": "stdout",
     "output_type": "stream",
     "text": [
      "4mo0 79\n",
      "3zii 82\n",
      "4irg 98\n",
      "6o19 59\n",
      "1t8k 78\n",
      "2nlf 72\n",
      "1edm 78\n",
      "2icp 84\n",
      "2d4d 96\n"
     ]
    },
    {
     "name": "stderr",
     "output_type": "stream",
     "text": [
      " 35%|███▍      | 52072/149271 [00:23<01:24, 1155.48it/s]"
     ]
    },
    {
     "name": "stdout",
     "output_type": "stream",
     "text": [
      "5zys 100\n",
      "2j8b 82\n",
      "2izq 39\n",
      "5ai2 58\n",
      "351c 82\n"
     ]
    },
    {
     "name": "stderr",
     "output_type": "stream",
     "text": [
      " 35%|███▌      | 52476/149271 [00:23<01:15, 1279.81it/s]"
     ]
    },
    {
     "name": "stdout",
     "output_type": "stream",
     "text": [
      "1bh0 29\n",
      "1a32 85\n",
      "5f1w 12\n",
      "2plz 36\n",
      "1sso 62\n",
      "6boc 100\n"
     ]
    },
    {
     "name": "stderr",
     "output_type": "stream",
     "text": [
      " 35%|███▌      | 52733/149271 [00:23<01:18, 1223.59it/s]"
     ]
    },
    {
     "name": "stdout",
     "output_type": "stream",
     "text": [
      "1a1u 58\n",
      "1box 95\n",
      "2xkm 46\n",
      "1dtx 58\n",
      "5k2f 6\n",
      "1u2f 90\n"
     ]
    },
    {
     "name": "stderr",
     "output_type": "stream",
     "text": [
      " 35%|███▌      | 52989/149271 [00:23<01:24, 1143.49it/s]"
     ]
    },
    {
     "name": "stdout",
     "output_type": "stream",
     "text": [
      "5lu3 92\n",
      "3gk1 88\n",
      "1gbq 67\n",
      "6po6 3\n",
      "6miw 70\n",
      "1ylb 99\n",
      "1prm 65\n",
      "4z7p 36"
     ]
    },
    {
     "name": "stderr",
     "output_type": "stream",
     "text": [
      " 36%|███▌      | 53272/149271 [00:24<01:15, 1268.17it/s]"
     ]
    },
    {
     "name": "stdout",
     "output_type": "stream",
     "text": [
      "\n",
      "2djh 96\n",
      "1pgx 70\n",
      "1eyt 83\n"
     ]
    },
    {
     "name": "stderr",
     "output_type": "stream",
     "text": [
      " 36%|███▌      | 53532/149271 [00:24<01:14, 1278.24it/s]"
     ]
    },
    {
     "name": "stdout",
     "output_type": "stream",
     "text": [
      "4htm 28\n",
      "3fr1 6\n",
      "1bd6 77\n",
      "5ko0 22\n",
      "2omp 12\n",
      "2xji 57\n",
      "1m2i 82\n"
     ]
    },
    {
     "name": "stderr",
     "output_type": "stream",
     "text": [
      " 36%|███▌      | 53788/149271 [00:24<01:17, 1237.75it/s]"
     ]
    },
    {
     "name": "stdout",
     "output_type": "stream",
     "text": [
      "1mk0 97\n",
      "5ki9 40\n"
     ]
    },
    {
     "name": "stderr",
     "output_type": "stream",
     "text": [
      " 36%|███▌      | 54056/149271 [00:24<01:14, 1284.60it/s]"
     ]
    },
    {
     "name": "stdout",
     "output_type": "stream",
     "text": [
      "1jq0 71\n",
      "6gqc 23\n",
      "3nx6 75\n",
      "3dxs 89\n",
      "3lmo 94\n",
      "6q9u 86\n",
      "1chv 60\n"
     ]
    },
    {
     "name": "stderr",
     "output_type": "stream",
     "text": [
      " 36%|███▋      | 54322/149271 [00:24<01:13, 1287.25it/s]"
     ]
    },
    {
     "name": "stdout",
     "output_type": "stream",
     "text": [
      "3foj 96\n",
      "1xxz 80\n",
      "6dr6 48\n",
      "2lwc 100\n",
      "2ooa 82\n",
      "4qeg 90\n",
      "5cy0 64\n",
      "2c0w 50\n",
      "6fgr 12\n"
     ]
    },
    {
     "name": "stderr",
     "output_type": "stream",
     "text": [
      " 37%|███▋      | 54724/149271 [00:25<01:11, 1317.07it/s]"
     ]
    },
    {
     "name": "stdout",
     "output_type": "stream",
     "text": [
      "5ojt 40\n",
      "5eon 89\n",
      "6i0n 85\n",
      "5txj 12\n",
      "5tdb 73\n"
     ]
    },
    {
     "name": "stderr",
     "output_type": "stream",
     "text": [
      " 37%|███▋      | 55104/149271 [00:25<01:17, 1214.39it/s]"
     ]
    },
    {
     "name": "stdout",
     "output_type": "stream",
     "text": [
      "4e1h 86\n",
      "5lxu 56\n",
      "5i11 57\n",
      "6rgn 95\n",
      "6g8y 97\n"
     ]
    },
    {
     "name": "stderr",
     "output_type": "stream",
     "text": [
      " 37%|███▋      | 55352/149271 [00:25<01:17, 1205.17it/s]"
     ]
    },
    {
     "name": "stdout",
     "output_type": "stream",
     "text": [
      "1pk2 90\n",
      "1omb 35\n",
      "3m48 37\n",
      "1pi2 61\n",
      "4up0 90\n",
      "5jx1 64\n"
     ]
    },
    {
     "name": "stderr",
     "output_type": "stream",
     "text": [
      " 37%|███▋      | 55738/149271 [00:25<01:15, 1239.78it/s]"
     ]
    },
    {
     "name": "stdout",
     "output_type": "stream",
     "text": [
      "2btx 87\n",
      "4p6k 24\n",
      "4n6x 95\n",
      "1gxg 85\n",
      "2dob 79\n"
     ]
    },
    {
     "name": "stderr",
     "output_type": "stream",
     "text": [
      " 38%|███▊      | 55999/149271 [00:26<01:13, 1266.77it/s]"
     ]
    },
    {
     "name": "stdout",
     "output_type": "stream",
     "text": [
      "4mdq 86\n",
      "2g13 96\n",
      "6izs 87\n",
      "1rwd 50\n",
      "1zu3 64\n",
      "5er5 90\n",
      "2tci 100\n",
      "1jkq 46\n",
      "5inz 60\n",
      "3jzs 95\n",
      "3dgm 69\n"
     ]
    },
    {
     "name": "stderr",
     "output_type": "stream",
     "text": [
      " 38%|███▊      | 56391/149271 [00:26<01:12, 1281.00it/s]"
     ]
    },
    {
     "name": "stdout",
     "output_type": "stream",
     "text": [
      "2ag3 24\n",
      "2g7o 68\n",
      "5d5e 54\n",
      "5eh6 28\n",
      "4e0m 42\n",
      "3pis 78\n",
      "3w63 83\n",
      "1wv8 70\n",
      "5xr0 68\n"
     ]
    },
    {
     "name": "stderr",
     "output_type": "stream",
     "text": [
      " 38%|███▊      | 56651/149271 [00:26<01:13, 1264.07it/s]"
     ]
    },
    {
     "name": "stdout",
     "output_type": "stream",
     "text": [
      "1mit 69\n",
      "3g2b 90\n",
      "1k6u 59\n",
      "2fd7 46\n",
      "2nle 72\n",
      "3loe 30\n",
      "5d2s 91\n",
      "1dul 61\n"
     ]
    },
    {
     "name": "stderr",
     "output_type": "stream",
     "text": [
      " 38%|███▊      | 56915/149271 [00:26<01:11, 1292.26it/s]"
     ]
    },
    {
     "name": "stdout",
     "output_type": "stream",
     "text": [
      "2wnd 96\n",
      "6mos 91\n",
      "6g8c 6\n",
      "2ma1 75\n",
      "1b7j 66\n",
      "3h34 70\n",
      "3zzr 95\n",
      "1pdq 59\n",
      "1dp7 76\n"
     ]
    },
    {
     "name": "stderr",
     "output_type": "stream",
     "text": [
      " 38%|███▊      | 57164/149271 [00:27<01:19, 1157.57it/s]"
     ]
    },
    {
     "name": "stdout",
     "output_type": "stream",
     "text": [
      "1kne 57\n",
      "2adx 40\n",
      "4g4l 38\n",
      "2oxj 69\n",
      "2gw8 99\n",
      "2pde 43\n",
      "5ejo 79\n",
      "1p9i 29\n",
      "3hew 21\n",
      "1m2m 82\n",
      "5f1t 73\n"
     ]
    },
    {
     "name": "stderr",
     "output_type": "stream",
     "text": [
      " 39%|███▊      | 57540/149271 [00:27<01:15, 1216.84it/s]"
     ]
    },
    {
     "name": "stdout",
     "output_type": "stream",
     "text": [
      "3bt4 85\n",
      "1b69 69\n",
      "1c75 73\n"
     ]
    },
    {
     "name": "stderr",
     "output_type": "stream",
     "text": [
      " 39%|███▊      | 57789/149271 [00:27<01:14, 1224.44it/s]"
     ]
    },
    {
     "name": "stdout",
     "output_type": "stream",
     "text": [
      "4gs3 90\n",
      "1cad 53\n",
      "1hq1 76\n",
      "1edx 40\n",
      "5lff 70\n",
      "4dnn 95\n",
      "1tnm 91\n",
      "1c6r 88\n",
      "1xak 68\n",
      "3ebx 73\n",
      "1rru 2\n",
      "2fk2 63\n",
      "5kuj 95\n",
      "2f3a 65\n",
      "5h9c 78\n"
     ]
    },
    {
     "name": "stderr",
     "output_type": "stream",
     "text": [
      " 39%|███▉      | 58042/149271 [00:27<01:14, 1225.23it/s]"
     ]
    },
    {
     "name": "stdout",
     "output_type": "stream",
     "text": [
      "6bxv 8\n",
      "1bfx 94\n",
      "4rty 72\n",
      "4nio 7\n",
      "1g4g 86\n",
      "3bc4 99\n"
     ]
    },
    {
     "name": "stderr",
     "output_type": "stream",
     "text": [
      " 39%|███▉      | 58287/149271 [00:28<01:25, 1059.19it/s]"
     ]
    },
    {
     "name": "stdout",
     "output_type": "stream",
     "text": [
      "2npl 96\n",
      "1qke 62\n",
      "6cs9 83\n",
      "3nz3 100\n",
      "1idy 54\n",
      "1ucs 64\n"
     ]
    },
    {
     "name": "stderr",
     "output_type": "stream",
     "text": [
      " 39%|███▉      | 58598/149271 [00:28<01:37, 932.84it/s] "
     ]
    },
    {
     "name": "stdout",
     "output_type": "stream",
     "text": [
      "5kui 95\n",
      "3ue7 50\n",
      "1a70 97\n"
     ]
    },
    {
     "name": "stderr",
     "output_type": "stream",
     "text": [
      " 39%|███▉      | 58960/149271 [00:28<01:22, 1097.61it/s]"
     ]
    },
    {
     "name": "stdout",
     "output_type": "stream",
     "text": [
      "1mid 92\n",
      "4r55 53\n",
      "4nj1 63\n",
      "2pcy 99\n",
      "3sny 87\n",
      "3cw3 93\n",
      "3f2u 51\n",
      "3bbz 97\n",
      "3jrz 100\n",
      "1ffm 46\n"
     ]
    },
    {
     "name": "stderr",
     "output_type": "stream",
     "text": [
      " 40%|███▉      | 59185/149271 [00:28<01:24, 1066.12it/s]"
     ]
    },
    {
     "name": "stdout",
     "output_type": "stream",
     "text": [
      "2ds5 87\n",
      "3fq9 98\n",
      "1zdb 38\n",
      "1r0i 53\n",
      "6nce 89\n",
      "4r2p 90\n",
      "6akk 99\n",
      "1fsv 28\n"
     ]
    },
    {
     "name": "stderr",
     "output_type": "stream",
     "text": [
      " 40%|███▉      | 59395/149271 [00:29<01:37, 922.15it/s] "
     ]
    },
    {
     "name": "stdout",
     "output_type": "stream",
     "text": [
      "5oqz 19\n",
      "4w92 87\n",
      "2msa 14\n",
      "6mmc 91\n"
     ]
    },
    {
     "name": "stderr",
     "output_type": "stream",
     "text": [
      " 40%|███▉      | 59650/149271 [00:29<01:23, 1070.07it/s]"
     ]
    },
    {
     "name": "stdout",
     "output_type": "stream",
     "text": [
      "4rtz 72\n",
      "2pxu 61\n",
      "1fna 91\n",
      "1edn 21\n",
      "1alf 95\n"
     ]
    },
    {
     "name": "stderr",
     "output_type": "stream",
     "text": [
      " 40%|████      | 59882/149271 [00:29<01:20, 1112.55it/s]"
     ]
    },
    {
     "name": "stdout",
     "output_type": "stream",
     "text": [
      "1dhg 72\n",
      "4xyp 71\n",
      "2mty 20\n",
      "4neo 86\n",
      "1biv 85\n"
     ]
    },
    {
     "name": "stderr",
     "output_type": "stream",
     "text": [
      " 40%|████      | 60119/149271 [00:29<01:20, 1103.00it/s]"
     ]
    },
    {
     "name": "stdout",
     "output_type": "stream",
     "text": [
      "6clf 7\n",
      "1f03 82\n",
      "2pm5 54\n",
      "4qe9 83\n",
      "1gjf 14\n"
     ]
    },
    {
     "name": "stderr",
     "output_type": "stream",
     "text": [
      " 40%|████      | 60333/149271 [00:30<01:37, 909.28it/s] "
     ]
    },
    {
     "name": "stdout",
     "output_type": "stream",
     "text": [
      "1l6h 69\n",
      "6c4q 88\n",
      "1dgc 55\n",
      "5k07 57\n",
      "4pz1 97\n",
      "6diy 6\n"
     ]
    },
    {
     "name": "stderr",
     "output_type": "stream",
     "text": [
      " 41%|████      | 60564/149271 [00:30<01:26, 1020.63it/s]"
     ]
    },
    {
     "name": "stdout",
     "output_type": "stream",
     "text": [
      "5ycq 75\n",
      "1fb7 99\n",
      "6nb9 14\n",
      "4r2e 89\n",
      "1cw8 24\n",
      "2y3j 48\n"
     ]
    },
    {
     "name": "stderr",
     "output_type": "stream",
     "text": [
      " 41%|████      | 60795/149271 [00:30<01:21, 1079.40it/s]"
     ]
    },
    {
     "name": "stdout",
     "output_type": "stream",
     "text": [
      "4mls 95\n",
      "6evh 4\n",
      "1mkc 43\n",
      "1tov 97\n",
      "1ovx 76\n",
      "3i9z 69\n",
      "2omm 7\n",
      "5i0c 88\n"
     ]
    },
    {
     "name": "stderr",
     "output_type": "stream",
     "text": [
      " 41%|████      | 61048/149271 [00:30<01:15, 1165.11it/s]"
     ]
    },
    {
     "name": "stdout",
     "output_type": "stream",
     "text": [
      "6uyp 92\n",
      "1ov9 93\n",
      "2n7o 60\n",
      "1iqs 88\n",
      "3jzk 93\n",
      "6fm8 52\n"
     ]
    },
    {
     "name": "stderr",
     "output_type": "stream",
     "text": [
      " 41%|████      | 61414/149271 [00:31<01:15, 1166.49it/s]"
     ]
    },
    {
     "name": "stdout",
     "output_type": "stream",
     "text": [
      "4f98 70\n",
      "5zkm 67\n",
      "3swb 86\n",
      "1l9a 87\n",
      "2i5l 67\n",
      "2oj3 95\n",
      "4ur4 80\n",
      "4aqj 98\n",
      "3nds 94\n"
     ]
    },
    {
     "name": "stderr",
     "output_type": "stream",
     "text": [
      " 41%|████▏     | 61648/149271 [00:31<01:16, 1142.96it/s]"
     ]
    },
    {
     "name": "stdout",
     "output_type": "stream",
     "text": [
      "1qvl 60\n",
      "2g0c 74\n",
      "1al1 12\n",
      "3j0r 82\n",
      "4ynx 83\n",
      "2nmq 55\n",
      "1piq 31\n",
      "5k7n 6\n",
      "6jnl 89\n"
     ]
    },
    {
     "name": "stderr",
     "output_type": "stream",
     "text": [
      " 41%|████▏     | 61883/149271 [00:31<01:15, 1155.02it/s]"
     ]
    },
    {
     "name": "stdout",
     "output_type": "stream",
     "text": [
      "4tv0 45\n",
      "2n29 54\n",
      "5yiu 54\n",
      "5ycw 90\n",
      "4ame 66\n",
      "1hh3 4\n",
      "1jko 46\n",
      "2i5u 79\n",
      "3ifd 66\n"
     ]
    },
    {
     "name": "stderr",
     "output_type": "stream",
     "text": [
      " 42%|████▏     | 62237/149271 [00:31<01:19, 1098.50it/s]"
     ]
    },
    {
     "name": "stdout",
     "output_type": "stream",
     "text": [
      "1pk4 79\n",
      "1ij2 94\n",
      "5i5a 41\n",
      "6uyq 91\n",
      "2cc6 64\n",
      "1u3y 98\n",
      "4p0c 89\n"
     ]
    },
    {
     "name": "stderr",
     "output_type": "stream",
     "text": [
      "\r",
      " 42%|████▏     | 62348/149271 [00:31<01:28, 986.64it/s] "
     ]
    },
    {
     "name": "stdout",
     "output_type": "stream",
     "text": [
      "1coi 29\n",
      "6ky4 89\n",
      "4hn7 85\n",
      "3sbn 16\n",
      "5w4i 39\n",
      "1epi 53\n",
      "2qic 58\n"
     ]
    },
    {
     "name": "stderr",
     "output_type": "stream",
     "text": [
      " 42%|████▏     | 62701/149271 [00:32<01:26, 1002.82it/s]"
     ]
    },
    {
     "name": "stdout",
     "output_type": "stream",
     "text": [
      "316d 4\n",
      "1fk1 93\n",
      "5x3o 79\n",
      "5nfm 77\n"
     ]
    },
    {
     "name": "stderr",
     "output_type": "stream",
     "text": [
      " 42%|████▏     | 62925/149271 [00:32<01:26, 1003.99it/s]"
     ]
    },
    {
     "name": "stdout",
     "output_type": "stream",
     "text": [
      "1io6 69\n",
      "2e1e 94\n",
      "2hdz 66\n",
      "2pa1 91\n",
      "2fj9 86\n"
     ]
    },
    {
     "name": "stderr",
     "output_type": "stream",
     "text": [
      " 42%|████▏     | 63151/149271 [00:32<01:20, 1064.23it/s]"
     ]
    },
    {
     "name": "stdout",
     "output_type": "stream",
     "text": [
      "1je4 69\n",
      "4rof 96\n",
      "3h0f 59\n",
      "3ree 74\n",
      "1pdc 45\n",
      "1b07 69\n",
      "3bs3 69\n",
      "4nw3 51\n",
      "1ipg 85\n",
      "2g6q 59\n",
      "1w53 87\n"
     ]
    },
    {
     "name": "stderr",
     "output_type": "stream",
     "text": [
      " 43%|████▎     | 63497/149271 [00:33<01:18, 1095.77it/s]"
     ]
    },
    {
     "name": "stdout",
     "output_type": "stream",
     "text": [
      "6g8d 6\n",
      "2o3g 75\n",
      "4ddj 80\n",
      "4d5m 36\n",
      "5jqf 46\n",
      "4ab0 92\n"
     ]
    },
    {
     "name": "stderr",
     "output_type": "stream",
     "text": [
      " 43%|████▎     | 63731/149271 [00:33<01:16, 1118.50it/s]"
     ]
    },
    {
     "name": "stdout",
     "output_type": "stream",
     "text": [
      "5oc8 98\n",
      "3kuj 94\n",
      "6asz 58\n",
      "1h34 57\n",
      "1unz 56\n",
      "1e9w 6\n",
      "6a0a 71\n",
      "2x5t 94\n",
      "6g6a 89\n",
      "6mpn 48\n",
      "1gcn 29\n"
     ]
    },
    {
     "name": "stderr",
     "output_type": "stream",
     "text": [
      " 43%|████▎     | 64085/149271 [00:33<01:13, 1155.43it/s]"
     ]
    },
    {
     "name": "stdout",
     "output_type": "stream",
     "text": [
      "1bq8 54\n",
      "5gu8 72\n",
      "5usp 55\n",
      "4yu8 76\n",
      "6cq7 75\n",
      "1neq 74\n"
     ]
    },
    {
     "name": "stderr",
     "output_type": "stream",
     "text": [
      " 43%|████▎     | 64323/149271 [00:33<01:13, 1154.66it/s]"
     ]
    },
    {
     "name": "stdout",
     "output_type": "stream",
     "text": [
      "1svr 94\n",
      "3ons 72\n",
      "5sur 48\n",
      "5d5w 94\n",
      "6g9g 6\n"
     ]
    },
    {
     "name": "stderr",
     "output_type": "stream",
     "text": [
      " 43%|████▎     | 64549/149271 [00:33<01:19, 1069.20it/s]"
     ]
    },
    {
     "name": "stdout",
     "output_type": "stream",
     "text": [
      "6gol 65\n",
      "1edk 56\n",
      "3hts 82\n",
      "6h85 81\n",
      "1wm3 72\n"
     ]
    },
    {
     "name": "stderr",
     "output_type": "stream",
     "text": [
      " 43%|████▎     | 64795/149271 [00:34<01:13, 1142.52it/s]"
     ]
    },
    {
     "name": "stdout",
     "output_type": "stream",
     "text": [
      "4haj 71\n",
      "3pdg 97\n",
      "6u2u 90\n",
      "1gv5 56\n",
      "5ke6 85\n",
      "1jo4 16\n",
      "1j5k 76\n",
      "1who 94\n",
      "1ee7 9\n"
     ]
    },
    {
     "name": "stderr",
     "output_type": "stream",
     "text": [
      " 44%|████▎     | 65022/149271 [00:34<01:19, 1056.84it/s]"
     ]
    },
    {
     "name": "stdout",
     "output_type": "stream",
     "text": [
      "1z1v 70\n",
      "1wo9 35\n",
      "2gi9 56\n"
     ]
    },
    {
     "name": "stderr",
     "output_type": "stream",
     "text": [
      " 44%|████▍     | 65350/149271 [00:34<01:17, 1076.33it/s]"
     ]
    },
    {
     "name": "stdout",
     "output_type": "stream",
     "text": [
      "1fvs 72\n",
      "2fdn 62\n",
      "5o3s 95\n",
      "1gzy 57\n",
      "1p7e 56\n"
     ]
    },
    {
     "name": "stderr",
     "output_type": "stream",
     "text": [
      " 44%|████▍     | 65674/149271 [00:35<01:21, 1025.71it/s]"
     ]
    },
    {
     "name": "stdout",
     "output_type": "stream",
     "text": [
      "1xyi 66\n",
      "1mgw 99\n",
      "2o9s 74\n",
      "1wo0 17\n",
      "5uhr 36\n"
     ]
    },
    {
     "name": "stderr",
     "output_type": "stream",
     "text": [
      " 44%|████▍     | 65903/149271 [00:35<01:17, 1077.66it/s]"
     ]
    },
    {
     "name": "stdout",
     "output_type": "stream",
     "text": [
      "5oc4 98\n",
      "5fb6 51\n",
      "3lo6 60\n",
      "3w19 74\n",
      "3g27 81\n",
      "3efu 72\n"
     ]
    },
    {
     "name": "stderr",
     "output_type": "stream",
     "text": [
      " 44%|████▍     | 66234/149271 [00:35<01:16, 1090.70it/s]"
     ]
    },
    {
     "name": "stdout",
     "output_type": "stream",
     "text": [
      "1ctj 91\n",
      "6fc5 84\n",
      "2ams 84\n",
      "3ltc 72\n",
      "4dzn 93\n",
      "3cec 97\n",
      "4lfs 39\n",
      "6mpl 24\n",
      "5nnt 68\n",
      "3ulc 100\n"
     ]
    },
    {
     "name": "stderr",
     "output_type": "stream",
     "text": [
      " 45%|████▍     | 66696/149271 [00:35<01:15, 1098.56it/s]"
     ]
    },
    {
     "name": "stdout",
     "output_type": "stream",
     "text": [
      "4wjn 92\n",
      "3rjs 91\n",
      "6qb2 95\n",
      "4fdb 96\n",
      "1px9 42\n",
      "3sj0 71\n",
      "5hsp 88\n"
     ]
    },
    {
     "name": "stderr",
     "output_type": "stream",
     "text": [
      " 45%|████▍     | 66921/149271 [00:36<01:19, 1039.73it/s]"
     ]
    },
    {
     "name": "stdout",
     "output_type": "stream",
     "text": [
      "3k9a 82\n",
      "5z6e 90\n",
      "5i5b 38\n",
      "1ei0 38\n"
     ]
    },
    {
     "name": "stderr",
     "output_type": "stream",
     "text": [
      " 45%|████▍     | 67138/149271 [00:36<01:17, 1056.42it/s]"
     ]
    },
    {
     "name": "stdout",
     "output_type": "stream",
     "text": [
      "6jip 68\n",
      "1zuu 68\n",
      "3bn0 95\n",
      "1dcd 72\n",
      "3u71 99\n",
      "1h02 64\n",
      "3s0r 60\n",
      "2j53 56\n",
      "5fwb 60\n"
     ]
    },
    {
     "name": "stderr",
     "output_type": "stream",
     "text": [
      " 45%|████▌     | 67475/149271 [00:36<01:14, 1093.39it/s]"
     ]
    },
    {
     "name": "stdout",
     "output_type": "stream",
     "text": [
      "2yx8 79\n",
      "4jm1 91\n",
      "5i55 22\n",
      "4rbx 37\n",
      "1awy 12\n",
      "3shb 74\n"
     ]
    },
    {
     "name": "stderr",
     "output_type": "stream",
     "text": [
      " 45%|████▌     | 67805/149271 [00:37<01:16, 1060.44it/s]"
     ]
    },
    {
     "name": "stdout",
     "output_type": "stream",
     "text": [
      "3b09 63\n",
      "4omm 58\n",
      "1u06 55\n",
      "1nmj 28\n",
      "6be9 80\n",
      "3hmr 91\n",
      "1k5o 85\n"
     ]
    },
    {
     "name": "stderr",
     "output_type": "stream",
     "text": [
      " 46%|████▌     | 68019/149271 [00:37<01:16, 1060.14it/s]"
     ]
    },
    {
     "name": "stdout",
     "output_type": "stream",
     "text": [
      "1bby 69\n",
      "1bh7 31\n",
      "6fce 40\n",
      "2ywk 84\n",
      "1ubi 76\n"
     ]
    },
    {
     "name": "stderr",
     "output_type": "stream",
     "text": [
      " 46%|████▌     | 68243/149271 [00:37<01:15, 1070.54it/s]"
     ]
    },
    {
     "name": "stdout",
     "output_type": "stream",
     "text": [
      "4rxn 54\n",
      "4r0u 7\n",
      "1edw 26\n",
      "3cr2 90\n"
     ]
    },
    {
     "name": "stderr",
     "output_type": "stream",
     "text": [
      " 46%|████▌     | 68571/149271 [00:37<01:15, 1074.56it/s]"
     ]
    },
    {
     "name": "stdout",
     "output_type": "stream",
     "text": [
      "2ont 73\n",
      "3u2b 76\n",
      "2cg6 96\n",
      "1lxh 89\n"
     ]
    },
    {
     "name": "stderr",
     "output_type": "stream",
     "text": [
      " 46%|████▌     | 68786/149271 [00:37<01:15, 1061.26it/s]"
     ]
    },
    {
     "name": "stdout",
     "output_type": "stream",
     "text": [
      "6clj 7\n",
      "2y1y 78\n",
      "3ctv 90\n",
      "2pm1 27\n",
      "4qxx 5\n",
      "2ona 24\n",
      "3b7h 76\n",
      "2jnr 43\n",
      "6clp 7\n"
     ]
    },
    {
     "name": "stderr",
     "output_type": "stream",
     "text": [
      " 46%|████▌     | 69004/149271 [00:38<01:14, 1072.17it/s]"
     ]
    },
    {
     "name": "stdout",
     "output_type": "stream",
     "text": [
      "5l23 76\n",
      "1mjc 69\n",
      "1yd0 89\n",
      "1rh4 30\n",
      "2rk1 69\n"
     ]
    },
    {
     "name": "stderr",
     "output_type": "stream",
     "text": [
      " 46%|████▋     | 69218/149271 [00:38<01:16, 1044.30it/s]"
     ]
    },
    {
     "name": "stdout",
     "output_type": "stream",
     "text": [
      "2mss 75\n",
      "1bq9 53\n",
      "5oxh 76\n"
     ]
    },
    {
     "name": "stderr",
     "output_type": "stream",
     "text": [
      " 47%|████▋     | 69544/149271 [00:38<01:15, 1055.86it/s]"
     ]
    },
    {
     "name": "stdout",
     "output_type": "stream",
     "text": [
      "1ef5 88\n",
      "1j9n 40\n",
      "1not 13\n",
      "1hy8 76\n",
      "2bzx 60\n",
      "4hbf 71\n",
      "1f1f 88\n",
      "1iu5 51\n",
      "2wyq 80\n",
      "1c0r 2\n",
      "6avc 37\n",
      "2g9e 68\n",
      "2hi5 42\n"
     ]
    },
    {
     "name": "stderr",
     "output_type": "stream",
     "text": [
      " 47%|████▋     | 69761/149271 [00:38<01:14, 1067.02it/s]"
     ]
    },
    {
     "name": "stdout",
     "output_type": "stream",
     "text": [
      "3kqi 77\n",
      "2jp3 67\n",
      "6cnu 30\n",
      "3w5z 82\n",
      "1zj7 100\n"
     ]
    },
    {
     "name": "stderr",
     "output_type": "stream",
     "text": [
      " 47%|████▋     | 69981/149271 [00:39<01:14, 1061.51it/s]"
     ]
    },
    {
     "name": "stdout",
     "output_type": "stream",
     "text": [
      "1ug4 60\n",
      "1yd4 89\n",
      "1tud 60\n",
      "2oqq 84\n"
     ]
    },
    {
     "name": "stderr",
     "output_type": "stream",
     "text": [
      " 47%|████▋     | 70199/149271 [00:39<01:14, 1067.44it/s]"
     ]
    },
    {
     "name": "stdout",
     "output_type": "stream",
     "text": [
      "3p7k 45\n",
      "1odp 100\n",
      "1ifn 46\n",
      "1ckb 65\n",
      "6dl0 8\n"
     ]
    },
    {
     "name": "stderr",
     "output_type": "stream",
     "text": [
      " 47%|████▋     | 70520/149271 [00:39<01:18, 1000.64it/s]"
     ]
    },
    {
     "name": "stdout",
     "output_type": "stream",
     "text": [
      "6nw1 96\n",
      "3rd2 84\n",
      "2wrx 98\n",
      "4i9o 77\n",
      "2qdq 67\n",
      "1cgd 60\n",
      "2jia 66\n",
      "4ovo 56\n"
     ]
    },
    {
     "name": "stderr",
     "output_type": "stream",
     "text": [
      " 47%|████▋     | 70834/149271 [00:39<01:16, 1021.58it/s]"
     ]
    },
    {
     "name": "stdout",
     "output_type": "stream",
     "text": [
      "4w5p 15\n",
      "2bop 85\n",
      "3b4d 80\n",
      "1qxx 76\n",
      "6n7o 84\n",
      "3g1e 78\n"
     ]
    },
    {
     "name": "stderr",
     "output_type": "stream",
     "text": [
      " 48%|████▊     | 71040/149271 [00:40<01:18, 1001.73it/s]"
     ]
    },
    {
     "name": "stdout",
     "output_type": "stream",
     "text": [
      "6jcc 98\n",
      "5ob0 71\n",
      "1ehj 68\n",
      "2ovc 30\n",
      "5itj 96\n",
      "1ob6 12\n",
      "1b2a 51\n",
      "3ait 74\n",
      "6ac5 99\n"
     ]
    },
    {
     "name": "stderr",
     "output_type": "stream",
     "text": [
      " 48%|████▊     | 71350/149271 [00:40<01:16, 1019.43it/s]"
     ]
    },
    {
     "name": "stdout",
     "output_type": "stream",
     "text": [
      "2wq0 32\n",
      "1jxw 58\n",
      "4ipf 96\n",
      "1cyj 90\n",
      "1n8u 100\n",
      "1urr 97\n"
     ]
    },
    {
     "name": "stderr",
     "output_type": "stream",
     "text": [
      " 48%|████▊     | 71558/149271 [00:40<01:16, 1022.11it/s]"
     ]
    },
    {
     "name": "stdout",
     "output_type": "stream",
     "text": [
      "6h87 99\n",
      "1a1j 84\n",
      "1lng 87\n"
     ]
    },
    {
     "name": "stderr",
     "output_type": "stream",
     "text": [
      " 48%|████▊     | 71886/149271 [00:40<01:13, 1047.98it/s]"
     ]
    },
    {
     "name": "stdout",
     "output_type": "stream",
     "text": [
      "5law 100\n",
      "3t4r 72\n",
      "5bum 98\n",
      "2ict 89\n"
     ]
    },
    {
     "name": "stderr",
     "output_type": "stream",
     "text": [
      " 48%|████▊     | 72097/149271 [00:41<01:15, 1022.86it/s]"
     ]
    },
    {
     "name": "stdout",
     "output_type": "stream",
     "text": [
      "1npi 61\n",
      "4gmq 94\n",
      "3lyw 84\n",
      "2bf9 35\n",
      "3al1 24\n",
      "2alc 65\n",
      "4j9c 69\n",
      "1yp5 60\n"
     ]
    },
    {
     "name": "stderr",
     "output_type": "stream",
     "text": [
      " 48%|████▊     | 72311/149271 [00:41<01:14, 1039.31it/s]"
     ]
    },
    {
     "name": "stdout",
     "output_type": "stream",
     "text": [
      "2pq3 83\n",
      "1kbs 60\n",
      "1rb4 91\n",
      "5af5 76\n"
     ]
    },
    {
     "name": "stderr",
     "output_type": "stream",
     "text": [
      " 49%|████▊     | 72520/149271 [00:41<01:15, 1019.89it/s]"
     ]
    },
    {
     "name": "stdout",
     "output_type": "stream",
     "text": [
      "4pe7 93\n",
      "1uno 10\n",
      "2j70 86\n",
      "3fth 16\n",
      "6msi 66\n",
      "3ndq 100\n"
     ]
    },
    {
     "name": "stderr",
     "output_type": "stream",
     "text": [
      " 49%|████▊     | 72727/149271 [00:41<01:15, 1012.17it/s]"
     ]
    },
    {
     "name": "stdout",
     "output_type": "stream",
     "text": [
      "6gmt 81\n",
      "3wmi 94\n",
      "1gzr 61\n",
      "2jf1 98\n",
      "1j8b 88\n",
      "1nfj 87\n",
      "1hta 68\n",
      "1lms 95\n",
      "1pen 16\n"
     ]
    },
    {
     "name": "stderr",
     "output_type": "stream",
     "text": [
      " 49%|████▉     | 73033/149271 [00:42<01:17, 981.51it/s] "
     ]
    },
    {
     "name": "stdout",
     "output_type": "stream",
     "text": [
      "1qow 84\n",
      "1ni8 92\n",
      "3ldc 82\n",
      "1zy6 36\n",
      "3egu 57\n",
      "1os6 71\n"
     ]
    },
    {
     "name": "stderr",
     "output_type": "stream",
     "text": [
      " 49%|████▉     | 73351/149271 [00:42<01:13, 1035.18it/s]"
     ]
    },
    {
     "name": "stdout",
     "output_type": "stream",
     "text": [
      "5azz 56\n",
      "5o94 56\n",
      "6b34 54\n",
      "2stw 96\n",
      "1unx 64\n",
      "4qk7 45\n",
      "1fk0 93\n",
      "1ifj 50\n",
      "2p09 70\n"
     ]
    },
    {
     "name": "stderr",
     "output_type": "stream",
     "text": [
      " 49%|████▉     | 73760/149271 [00:42<01:15, 996.94it/s] "
     ]
    },
    {
     "name": "stdout",
     "output_type": "stream",
     "text": [
      "1yri 42\n",
      "1ywp 62\n",
      "4zyi 90\n",
      "4ar3 58\n",
      "1pyz 18\n",
      "6kzu 85\n",
      "3jtz 77\n",
      "4dzk 29\n",
      "2muf 20\n"
     ]
    },
    {
     "name": "stderr",
     "output_type": "stream",
     "text": [
      " 50%|████▉     | 73963/149271 [00:43<01:16, 987.59it/s]"
     ]
    },
    {
     "name": "stdout",
     "output_type": "stream",
     "text": [
      "1mkn 59\n",
      "6ez7 84\n",
      "1j5l 30\n",
      "4prf 95\n",
      "3zhm 79\n"
     ]
    },
    {
     "name": "stderr",
     "output_type": "stream",
     "text": [
      " 50%|████▉     | 74373/149271 [00:43<01:18, 953.62it/s] "
     ]
    },
    {
     "name": "stdout",
     "output_type": "stream",
     "text": [
      "4esf 100\n",
      "3e0e 89\n",
      "2fk1 59\n",
      "3mxh 87\n",
      "4bdx 86\n",
      "1j7c 98\n",
      "1ame 66\n"
     ]
    },
    {
     "name": "stderr",
     "output_type": "stream",
     "text": [
      " 50%|█████     | 74692/149271 [00:43<01:13, 1019.21it/s]"
     ]
    },
    {
     "name": "stdout",
     "output_type": "stream",
     "text": [
      "4eid 95\n",
      "3svm 71\n",
      "3zhi 79\n",
      "6njg 93\n",
      "4g3b 48\n",
      "4gu2 71\n"
     ]
    },
    {
     "name": "stderr",
     "output_type": "stream",
     "text": [
      " 50%|█████     | 74895/149271 [00:43<01:18, 944.81it/s] "
     ]
    },
    {
     "name": "stdout",
     "output_type": "stream",
     "text": [
      "2xeu 66\n",
      "2rb8 93\n",
      "3jzp 99\n",
      "5fr6 83\n",
      "4axy 56\n",
      "1fan 58\n"
     ]
    },
    {
     "name": "stderr",
     "output_type": "stream",
     "text": [
      "\r",
      " 50%|█████     | 74991/149271 [00:44<01:38, 757.77it/s]"
     ]
    },
    {
     "name": "stdout",
     "output_type": "stream",
     "text": [
      "1dme 28\n",
      "6mxf 6\n",
      "1oot 65\n",
      "4iyd 50\n",
      "1tjb 34\n",
      "1fes 73\n",
      "1w7r 32\n"
     ]
    },
    {
     "name": "stderr",
     "output_type": "stream",
     "text": [
      " 50%|█████     | 75287/149271 [00:44<01:23, 888.86it/s]"
     ]
    },
    {
     "name": "stdout",
     "output_type": "stream",
     "text": [
      "4hb1 44\n",
      "6d2h 100\n",
      "1dfe 37\n",
      "6s3f 96\n",
      "1lqh 65\n",
      "6q61 66\n",
      "3ge2 90\n",
      "1gdc 72\n",
      "6fhd 12\n",
      "6nfs 97\n"
     ]
    },
    {
     "name": "stderr",
     "output_type": "stream",
     "text": [
      " 51%|█████     | 75576/149271 [00:44<01:20, 916.00it/s]"
     ]
    },
    {
     "name": "stdout",
     "output_type": "stream",
     "text": [
      "2jgo 94\n",
      "6be7 100\n",
      "5m2k 2\n"
     ]
    },
    {
     "name": "stderr",
     "output_type": "stream",
     "text": [
      " 51%|█████     | 75872/149271 [00:45<01:16, 954.48it/s]"
     ]
    },
    {
     "name": "stdout",
     "output_type": "stream",
     "text": [
      "1b2j 54\n",
      "3w65 85\n",
      "2w4p 96\n",
      "4pr6 92\n",
      "2il4 91\n",
      "2cwr 97\n",
      "1niz 14\n",
      "2wos 96\n"
     ]
    },
    {
     "name": "stderr",
     "output_type": "stream",
     "text": [
      " 51%|█████     | 76064/149271 [00:45<01:24, 867.97it/s]"
     ]
    },
    {
     "name": "stdout",
     "output_type": "stream",
     "text": [
      "2cro 65\n",
      "4hlb 97\n",
      "5suu 24\n",
      "1yjo 6\n",
      "6dkz 8\n",
      "1bl1 31\n",
      "1nyj 100\n",
      "1lac 80\n",
      "2efa 51\n"
     ]
    },
    {
     "name": "stderr",
     "output_type": "stream",
     "text": [
      " 51%|█████     | 76257/149271 [00:45<01:19, 915.79it/s]"
     ]
    },
    {
     "name": "stdout",
     "output_type": "stream",
     "text": [
      "3ov5 98\n",
      "1hp8 68\n",
      "4crh 96\n",
      "2bus 56\n",
      "6i05 81\n"
     ]
    },
    {
     "name": "stderr",
     "output_type": "stream",
     "text": [
      " 51%|█████▏    | 76555/149271 [00:45<01:16, 950.50it/s]"
     ]
    },
    {
     "name": "stdout",
     "output_type": "stream",
     "text": [
      "6aty 40\n",
      "2q2k 89\n",
      "1smu 54\n",
      "5i6a 18\n",
      "6h88 86\n"
     ]
    },
    {
     "name": "stderr",
     "output_type": "stream",
     "text": [
      " 51%|█████▏    | 76752/149271 [00:46<01:15, 961.79it/s]"
     ]
    },
    {
     "name": "stdout",
     "output_type": "stream",
     "text": [
      "4es1 96\n",
      "3nhd 12\n",
      "1lxe 92\n",
      "193d 8\n",
      "1kqe 24\n",
      "1a2s 89\n"
     ]
    },
    {
     "name": "stderr",
     "output_type": "stream",
     "text": [
      " 52%|█████▏    | 76949/149271 [00:46<01:19, 911.47it/s]"
     ]
    },
    {
     "name": "stdout",
     "output_type": "stream",
     "text": [
      "1cre 60\n",
      "6cdx 74\n",
      "1bb9 86\n"
     ]
    },
    {
     "name": "stderr",
     "output_type": "stream",
     "text": [
      " 52%|█████▏    | 77228/149271 [00:46<01:18, 920.67it/s]"
     ]
    },
    {
     "name": "stdout",
     "output_type": "stream",
     "text": [
      "4s2q 76\n",
      "3wwl 54\n",
      "2wl7 98\n",
      "6g55 92\n",
      "4e0n 42\n"
     ]
    },
    {
     "name": "stderr",
     "output_type": "stream",
     "text": [
      " 52%|█████▏    | 77419/149271 [00:46<01:18, 918.80it/s]"
     ]
    },
    {
     "name": "stdout",
     "output_type": "stream",
     "text": [
      "6akp 94\n",
      "3m0q 57\n",
      "5uu2 51\n"
     ]
    },
    {
     "name": "stderr",
     "output_type": "stream",
     "text": [
      " 52%|█████▏    | 77619/149271 [00:46<01:16, 935.36it/s]"
     ]
    },
    {
     "name": "stdout",
     "output_type": "stream",
     "text": [
      "1fca 55\n",
      "1j55 88\n",
      "3e4h 29\n",
      "1y50 87\n",
      "2tgf 50\n",
      "1l0h 76\n"
     ]
    },
    {
     "name": "stderr",
     "output_type": "stream",
     "text": [
      " 52%|█████▏    | 77813/149271 [00:47<01:15, 950.38it/s]"
     ]
    },
    {
     "name": "stdout",
     "output_type": "stream",
     "text": [
      "2r9i 69\n",
      "1qoj 88\n",
      "1lu0 61\n",
      "1hha 4\n",
      "1bph 53\n",
      "2ws1 50\n",
      "1kw4 68\n"
     ]
    },
    {
     "name": "stderr",
     "output_type": "stream",
     "text": [
      " 52%|█████▏    | 78205/149271 [00:47<01:14, 959.89it/s]"
     ]
    },
    {
     "name": "stdout",
     "output_type": "stream",
     "text": [
      "3ic4 90\n",
      "3kiv 79\n",
      "2cdt 57\n",
      "1mp6 25\n",
      "4wpy 92\n",
      "4f2i 86\n",
      "1rju 36\n"
     ]
    },
    {
     "name": "stderr",
     "output_type": "stream",
     "text": [
      " 53%|█████▎    | 78403/149271 [00:47<01:13, 957.95it/s]"
     ]
    },
    {
     "name": "stdout",
     "output_type": "stream",
     "text": [
      "1qpy 8\n",
      "2eg2 95\n",
      "1ycq 99\n",
      "6axz 9\n",
      "1kdl 23\n",
      "6nla 63\n",
      "1d8k 81\n",
      "2o9v 81\n",
      "1lr8 73\n",
      "3ovo 56\n"
     ]
    },
    {
     "name": "stderr",
     "output_type": "stream",
     "text": [
      " 53%|█████▎    | 78598/149271 [00:47<01:15, 940.21it/s]"
     ]
    },
    {
     "name": "stdout",
     "output_type": "stream",
     "text": [
      "3tq2 35\n",
      "1pzw 80\n",
      "4rgi 69\n",
      "4nib 49\n"
     ]
    },
    {
     "name": "stderr",
     "output_type": "stream",
     "text": [
      " 53%|█████▎    | 78883/149271 [00:48<01:16, 914.95it/s]"
     ]
    },
    {
     "name": "stdout",
     "output_type": "stream",
     "text": [
      "4oml 59\n",
      "1xmt 95\n",
      "1zac 90\n",
      "1tor 50\n",
      "5oc5 93\n",
      "5j0i 75\n",
      "4aeq 92\n",
      "5ke8 85\n",
      "3rdn 73\n",
      "5nvg 94\n"
     ]
    },
    {
     "name": "stderr",
     "output_type": "stream",
     "text": [
      " 53%|█████▎    | 79071/149271 [00:48<01:16, 917.21it/s]"
     ]
    },
    {
     "name": "stdout",
     "output_type": "stream",
     "text": [
      "1wct 8\n",
      "6m80 45\n",
      "3ulh 85\n",
      "3zvz 66\n"
     ]
    },
    {
     "name": "stderr",
     "output_type": "stream",
     "text": [
      " 53%|█████▎    | 79352/149271 [00:48<01:18, 887.86it/s]"
     ]
    },
    {
     "name": "stdout",
     "output_type": "stream",
     "text": [
      "6e6o 47\n",
      "2bn3 56\n",
      "2onv 6\n"
     ]
    },
    {
     "name": "stderr",
     "output_type": "stream",
     "text": [
      "\r",
      " 53%|█████▎    | 79442/149271 [00:49<01:36, 722.80it/s]"
     ]
    },
    {
     "name": "stdout",
     "output_type": "stream",
     "text": [
      "5oll 38\n",
      "6cli 7\n"
     ]
    },
    {
     "name": "stderr",
     "output_type": "stream",
     "text": [
      " 53%|█████▎    | 79645/149271 [00:49<01:22, 848.17it/s]"
     ]
    },
    {
     "name": "stdout",
     "output_type": "stream",
     "text": [
      "3t46 75\n",
      "1lea 72\n",
      "1cnr 46\n",
      "1amt 33\n",
      "4djg 96\n"
     ]
    },
    {
     "name": "stderr",
     "output_type": "stream",
     "text": [
      " 54%|█████▎    | 79927/149271 [00:49<01:17, 893.48it/s]"
     ]
    },
    {
     "name": "stdout",
     "output_type": "stream",
     "text": [
      "1a1l 85\n",
      "4b2k 64\n",
      "4eic 94\n",
      "6g6d 100\n",
      "4ar6 59\n"
     ]
    },
    {
     "name": "stderr",
     "output_type": "stream",
     "text": [
      " 54%|█████▎    | 80117/149271 [00:49<01:17, 896.18it/s]"
     ]
    },
    {
     "name": "stdout",
     "output_type": "stream",
     "text": [
      "1fbr 93\n",
      "1a7w 68\n",
      "3dwu 46\n",
      "5znx 96\n",
      "2gf1 70\n",
      "1sh1 48\n",
      "1bxv 91\n",
      "4y2m 66\n",
      "4omn 60\n",
      "1oai 68\n"
     ]
    },
    {
     "name": "stderr",
     "output_type": "stream",
     "text": [
      " 54%|█████▍    | 80300/149271 [00:49<01:16, 900.54it/s]"
     ]
    },
    {
     "name": "stdout",
     "output_type": "stream",
     "text": [
      "1lyp 32\n",
      "1bta 89\n",
      "1ag6 99\n",
      "4cxl 54\n",
      "1b9p 34\n"
     ]
    },
    {
     "name": "stderr",
     "output_type": "stream",
     "text": [
      " 54%|█████▍    | 80480/149271 [00:50<01:17, 883.15it/s]"
     ]
    },
    {
     "name": "stdout",
     "output_type": "stream",
     "text": [
      "1rlq 65\n",
      "6fx3 83\n",
      "1ifl 53\n",
      "3r65 82\n",
      "1ctf 68\n"
     ]
    },
    {
     "name": "stderr",
     "output_type": "stream",
     "text": [
      " 54%|█████▍    | 80761/149271 [00:50<01:16, 897.97it/s]"
     ]
    },
    {
     "name": "stdout",
     "output_type": "stream",
     "text": [
      "2o4a 84\n",
      "1yzm 46\n",
      "5d54 54\n",
      "1id7 12\n",
      "3rz6 51\n",
      "2xus 87\n"
     ]
    },
    {
     "name": "stderr",
     "output_type": "stream",
     "text": [
      " 54%|█████▍    | 80948/149271 [00:50<01:16, 891.49it/s]"
     ]
    },
    {
     "name": "stdout",
     "output_type": "stream",
     "text": [
      "4qb0 97\n",
      "1yqb 88\n",
      "2ewt 71\n",
      "1ctx 71\n",
      "6b17 74\n"
     ]
    },
    {
     "name": "stderr",
     "output_type": "stream",
     "text": [
      " 54%|█████▍    | 81139/149271 [00:50<01:14, 920.01it/s]"
     ]
    },
    {
     "name": "stdout",
     "output_type": "stream",
     "text": [
      "1t7b 66\n",
      "1p0r 73\n",
      "2mu8 20\n",
      "3o2e 87\n",
      "1b5b 94\n",
      "2yvr 90\n"
     ]
    },
    {
     "name": "stderr",
     "output_type": "stream",
     "text": [
      " 55%|█████▍    | 81415/149271 [00:51<01:16, 890.26it/s]"
     ]
    },
    {
     "name": "stdout",
     "output_type": "stream",
     "text": [
      "5dma 53\n",
      "1pid 92\n",
      "1joh 10\n",
      "1ulr 87\n",
      "5sut 24\n",
      "4hvu 69\n"
     ]
    },
    {
     "name": "stderr",
     "output_type": "stream",
     "text": [
      " 55%|█████▍    | 81601/149271 [00:51<01:14, 903.20it/s]"
     ]
    },
    {
     "name": "stdout",
     "output_type": "stream",
     "text": [
      "5od1 99\n",
      "4wbv 14\n",
      "2ayd 76\n",
      "3kde 78\n"
     ]
    },
    {
     "name": "stderr",
     "output_type": "stream",
     "text": [
      "\r",
      " 55%|█████▍    | 81694/149271 [00:51<01:14, 909.60it/s]"
     ]
    },
    {
     "name": "stdout",
     "output_type": "stream",
     "text": [
      "5kl7 88\n",
      "1z1x 64\n",
      "3qii 52\n",
      "1yd1 89\n",
      "4f42 84\n",
      "1u36 100\n",
      "4r2d 88\n",
      "6od2 49\n"
     ]
    },
    {
     "name": "stderr",
     "output_type": "stream",
     "text": [
      " 55%|█████▍    | 81962/149271 [00:51<01:17, 864.30it/s]"
     ]
    },
    {
     "name": "stdout",
     "output_type": "stream",
     "text": [
      "2pxk 61\n",
      "1hll 32\n",
      "4w67 18\n"
     ]
    },
    {
     "name": "stderr",
     "output_type": "stream",
     "text": [
      " 55%|█████▌    | 82140/149271 [00:52<01:16, 872.93it/s]"
     ]
    },
    {
     "name": "stdout",
     "output_type": "stream",
     "text": [
      "6egm 35\n",
      "4kvu 83\n",
      "1e6g 59\n",
      "2ol9 6\n",
      "3bbg 80\n",
      "3lvx 60\n",
      "1wz5 33\n"
     ]
    },
    {
     "name": "stderr",
     "output_type": "stream",
     "text": [
      " 55%|█████▌    | 82320/149271 [00:52<01:15, 885.89it/s]"
     ]
    },
    {
     "name": "stdout",
     "output_type": "stream",
     "text": [
      "3lo2 60\n",
      "3ow9 12\n",
      "6cg4 37\n",
      "4fqo 92\n"
     ]
    },
    {
     "name": "stderr",
     "output_type": "stream",
     "text": [
      " 55%|█████▌    | 82587/149271 [00:52<01:16, 871.10it/s]"
     ]
    },
    {
     "name": "stdout",
     "output_type": "stream",
     "text": [
      "5gog 77\n",
      "5hck 61\n",
      "4k78 99\n",
      "1b5m 84\n",
      "1i8c 94\n"
     ]
    },
    {
     "name": "stderr",
     "output_type": "stream",
     "text": [
      " 55%|█████▌    | 82763/149271 [00:52<01:16, 866.40it/s]"
     ]
    },
    {
     "name": "stdout",
     "output_type": "stream",
     "text": [
      "1yu8 64\n",
      "1etn 12\n",
      "1ca6 66\n",
      "5y18 100\n",
      "4iye 67\n"
     ]
    },
    {
     "name": "stderr",
     "output_type": "stream",
     "text": [
      " 56%|█████▌    | 83024/149271 [00:53<01:16, 861.07it/s]"
     ]
    },
    {
     "name": "stdout",
     "output_type": "stream",
     "text": [
      "5yrx 72\n",
      "1e9k 38\n",
      "1jkr 46\n",
      "1usm 77\n",
      "2z17 94\n",
      "4rtv 67\n"
     ]
    },
    {
     "name": "stderr",
     "output_type": "stream",
     "text": [
      " 56%|█████▌    | 83199/149271 [00:53<01:16, 860.36it/s]"
     ]
    },
    {
     "name": "stdout",
     "output_type": "stream",
     "text": [
      "1gjg 12\n",
      "4uu6 85\n",
      "2bb8 71\n",
      "3exy 81\n",
      "1hnr 47\n",
      "3c3h 22\n"
     ]
    },
    {
     "name": "stderr",
     "output_type": "stream",
     "text": [
      " 56%|█████▌    | 83373/149271 [00:53<01:17, 854.06it/s]"
     ]
    },
    {
     "name": "stdout",
     "output_type": "stream",
     "text": [
      "4gzn 68\n",
      "1ay3 27\n",
      "4hvw 81\n",
      "3ds1 93\n",
      "3idw 66\n",
      "1gzi 65\n",
      "2zpp 51\n",
      "3w61 82\n"
     ]
    },
    {
     "name": "stderr",
     "output_type": "stream",
     "text": [
      " 56%|█████▌    | 83638/149271 [00:53<01:15, 869.85it/s]"
     ]
    },
    {
     "name": "stdout",
     "output_type": "stream",
     "text": [
      "1unm 8\n",
      "3bpu 86\n",
      "5kiu 76\n"
     ]
    },
    {
     "name": "stderr",
     "output_type": "stream",
     "text": [
      " 56%|█████▌    | 83819/149271 [00:53<01:14, 884.42it/s]"
     ]
    },
    {
     "name": "stdout",
     "output_type": "stream",
     "text": [
      "1cit 89\n",
      "1rgj 87\n",
      "1cwz 28\n",
      "1j1v 92\n",
      "1ppt 36\n",
      "1kbe 49\n",
      "2o6n 35\n"
     ]
    },
    {
     "name": "stderr",
     "output_type": "stream",
     "text": [
      " 56%|█████▋    | 84002/149271 [00:54<01:13, 891.97it/s]"
     ]
    },
    {
     "name": "stdout",
     "output_type": "stream",
     "text": [
      "4h4n 68\n",
      "2d4f 98\n",
      "5oc6 90\n",
      "1dft 30\n",
      "1uln 82\n"
     ]
    },
    {
     "name": "stderr",
     "output_type": "stream",
     "text": [
      " 56%|█████▋    | 84181/149271 [00:54<01:14, 869.26it/s]"
     ]
    },
    {
     "name": "stdout",
     "output_type": "stream",
     "text": [
      "2bvz 97\n",
      "6ctg 100\n",
      "6htl 63\n",
      "6e33 58\n"
     ]
    },
    {
     "name": "stderr",
     "output_type": "stream",
     "text": [
      " 57%|█████▋    | 84356/149271 [00:54<01:15, 856.82it/s]"
     ]
    },
    {
     "name": "stdout",
     "output_type": "stream",
     "text": [
      "1nru 16\n",
      "2jxi 90\n",
      "6bf5 80\n",
      "5nw3 57\n",
      "5d2q 74\n"
     ]
    },
    {
     "name": "stderr",
     "output_type": "stream",
     "text": [
      " 57%|█████▋    | 84617/149271 [00:54<01:15, 853.89it/s]"
     ]
    },
    {
     "name": "stdout",
     "output_type": "stream",
     "text": [
      "2m6g 70\n",
      "2igd 61\n",
      "1rb9 55\n",
      "3zy1 40\n",
      "2bn8 67\n"
     ]
    },
    {
     "name": "stderr",
     "output_type": "stream",
     "text": [
      " 57%|█████▋    | 84798/149271 [00:55<01:13, 876.14it/s]"
     ]
    },
    {
     "name": "stdout",
     "output_type": "stream",
     "text": [
      "3hj2 66\n",
      "2hzc 88\n",
      "6dix 26\n",
      "5jbm 82\n"
     ]
    },
    {
     "name": "stderr",
     "output_type": "stream",
     "text": [
      " 57%|█████▋    | 84983/149271 [00:55<01:12, 890.04it/s]"
     ]
    },
    {
     "name": "stdout",
     "output_type": "stream",
     "text": [
      "1gxt 89\n",
      "1c26 32\n",
      "1uo2 65\n",
      "1jj6 47\n",
      "5awl 10\n"
     ]
    },
    {
     "name": "stderr",
     "output_type": "stream",
     "text": [
      " 57%|█████▋    | 85162/149271 [00:55<01:13, 876.98it/s]"
     ]
    },
    {
     "name": "stdout",
     "output_type": "stream",
     "text": [
      "6ben 80\n",
      "3eg2 64\n",
      "4kmg 88\n",
      "1pjd 15\n"
     ]
    },
    {
     "name": "stderr",
     "output_type": "stream",
     "text": [
      " 57%|█████▋    | 85428/149271 [00:55<01:16, 831.78it/s]"
     ]
    },
    {
     "name": "stdout",
     "output_type": "stream",
     "text": [
      "4x3i 80\n",
      "4bdw 83\n"
     ]
    },
    {
     "name": "stderr",
     "output_type": "stream",
     "text": [
      " 57%|█████▋    | 85693/149271 [00:56<01:13, 862.72it/s]"
     ]
    },
    {
     "name": "stdout",
     "output_type": "stream",
     "text": [
      "4ncw 73\n",
      "3dg1 6\n",
      "1dxg 72\n",
      "3nvf 6\n"
     ]
    },
    {
     "name": "stderr",
     "output_type": "stream",
     "text": [
      " 58%|█████▊    | 85965/149271 [00:56<01:11, 885.45it/s]"
     ]
    },
    {
     "name": "stdout",
     "output_type": "stream",
     "text": [
      "2e1f 94\n",
      "3dsp 66\n",
      "1uo1 62\n",
      "4z3c 46\n"
     ]
    },
    {
     "name": "stderr",
     "output_type": "stream",
     "text": [
      " 58%|█████▊    | 86135/149271 [00:56<01:29, 706.66it/s]"
     ]
    },
    {
     "name": "stdout",
     "output_type": "stream",
     "text": [
      "2rk2 68\n",
      "2w0z 68\n",
      "1gvd 56\n",
      "1op1 82\n"
     ]
    },
    {
     "name": "stderr",
     "output_type": "stream",
     "text": [
      " 58%|█████▊    | 86313/149271 [00:56<01:20, 786.97it/s]"
     ]
    },
    {
     "name": "stdout",
     "output_type": "stream",
     "text": [
      "1uo4 62\n",
      "1be7 54\n",
      "6uyv 94\n",
      "1pnd 99\n",
      "1bo0 76\n",
      "5gy6 95\n"
     ]
    },
    {
     "name": "stderr",
     "output_type": "stream",
     "text": [
      " 58%|█████▊    | 86588/149271 [00:57<01:13, 852.97it/s]"
     ]
    },
    {
     "name": "stdout",
     "output_type": "stream",
     "text": [
      "1jbd 88\n",
      "1a3j 21\n",
      "5uxt 93\n",
      "6i6y 95\n",
      "6o4j 22\n"
     ]
    },
    {
     "name": "stderr",
     "output_type": "stream",
     "text": [
      " 58%|█████▊    | 86774/149271 [00:57<01:10, 887.92it/s]"
     ]
    },
    {
     "name": "stdout",
     "output_type": "stream",
     "text": [
      "1fvq 72\n",
      "3p2x 100\n",
      "6ats 25\n",
      "3l1x 78\n",
      "1uj8 73\n"
     ]
    },
    {
     "name": "stderr",
     "output_type": "stream",
     "text": [
      " 58%|█████▊    | 86945/149271 [00:57<01:20, 772.64it/s]"
     ]
    },
    {
     "name": "stdout",
     "output_type": "stream",
     "text": [
      "3e8y 36\n",
      "5hpr 54\n",
      "1byz 48\n",
      "6i6e 99\n",
      "1sho 2\n",
      "5i41 67\n",
      "6i31 99\n"
     ]
    },
    {
     "name": "stderr",
     "output_type": "stream",
     "text": [
      " 58%|█████▊    | 87198/149271 [00:57<01:20, 773.97it/s]"
     ]
    },
    {
     "name": "stdout",
     "output_type": "stream",
     "text": [
      "1lds 97\n",
      "3bo2 95\n"
     ]
    },
    {
     "name": "stderr",
     "output_type": "stream",
     "text": [
      " 59%|█████▊    | 87375/149271 [00:58<01:15, 825.05it/s]"
     ]
    },
    {
     "name": "stdout",
     "output_type": "stream",
     "text": [
      "2b8g 72\n",
      "4e1i 74\n",
      "3bo3 95\n",
      "1b2g 51\n",
      "5dom 90\n"
     ]
    },
    {
     "name": "stderr",
     "output_type": "stream",
     "text": [
      " 59%|█████▊    | 87556/149271 [00:58<01:11, 861.77it/s]"
     ]
    },
    {
     "name": "stdout",
     "output_type": "stream",
     "text": [
      "1j2l 68\n",
      "5dsu 75\n",
      "6ds9 99\n",
      "1ruw 69\n",
      "1mhu 31\n",
      "3gzl 81\n",
      "1r6j 94\n"
     ]
    },
    {
     "name": "stderr",
     "output_type": "stream",
     "text": [
      " 59%|█████▉    | 87730/149271 [00:58<01:17, 789.00it/s]"
     ]
    },
    {
     "name": "stdout",
     "output_type": "stream",
     "text": [
      "6ei8 98\n",
      "1w2l 97\n"
     ]
    },
    {
     "name": "stderr",
     "output_type": "stream",
     "text": [
      " 59%|█████▉    | 87889/149271 [00:58<01:23, 734.26it/s]"
     ]
    },
    {
     "name": "stdout",
     "output_type": "stream",
     "text": [
      "1fyk 91\n",
      "2ldc 90\n",
      "3f50 59\n",
      "1wfb 74\n",
      "1uva 91\n"
     ]
    },
    {
     "name": "stderr",
     "output_type": "stream",
     "text": [
      " 59%|█████▉    | 88124/149271 [00:59<01:21, 746.14it/s]"
     ]
    },
    {
     "name": "stdout",
     "output_type": "stream",
     "text": [
      "6ame 66\n",
      "1skk 60\n",
      "2x1a 87\n",
      "1utg 70\n",
      "6uyr 93\n",
      "1gq0 100\n"
     ]
    },
    {
     "name": "stderr",
     "output_type": "stream",
     "text": [
      " 59%|█████▉    | 88296/149271 [00:59<01:16, 799.72it/s]"
     ]
    },
    {
     "name": "stdout",
     "output_type": "stream",
     "text": [
      "1i27 73\n",
      "1dk3 87\n",
      "2fb0 95\n",
      "4lhf 79\n",
      "3po0 89\n",
      "4nkk 99\n",
      "4krw 68\n",
      "4x9j 86\n",
      "2w4f 96\n"
     ]
    },
    {
     "name": "stderr",
     "output_type": "stream",
     "text": [
      " 59%|█████▉    | 88541/149271 [00:59<01:21, 741.96it/s]"
     ]
    },
    {
     "name": "stdout",
     "output_type": "stream",
     "text": [
      "6q5l 50\n",
      "1upj 99\n",
      "2h3m 94\n",
      "4niz 62\n",
      "2pm4 60\n",
      "2m1f 100\n",
      "6m9i 6\n",
      "1eq7 57\n",
      "1aie 31\n"
     ]
    },
    {
     "name": "stderr",
     "output_type": "stream",
     "text": [
      " 59%|█████▉    | 88714/149271 [00:59<01:15, 797.39it/s]"
     ]
    },
    {
     "name": "stdout",
     "output_type": "stream",
     "text": [
      "1seg 64\n",
      "5aps 68\n",
      "2erl 40\n"
     ]
    },
    {
     "name": "stderr",
     "output_type": "stream",
     "text": [
      " 60%|█████▉    | 88881/149271 [01:00<01:25, 706.90it/s]"
     ]
    },
    {
     "name": "stdout",
     "output_type": "stream",
     "text": [
      "6qrk 53\n",
      "5goj 81\n"
     ]
    },
    {
     "name": "stderr",
     "output_type": "stream",
     "text": [
      " 60%|█████▉    | 89042/149271 [01:00<01:24, 710.19it/s]"
     ]
    },
    {
     "name": "stdout",
     "output_type": "stream",
     "text": [
      "1bdw 16\n",
      "1bm8 99\n",
      "4f2j 52\n",
      "5ilv 93\n"
     ]
    },
    {
     "name": "stderr",
     "output_type": "stream",
     "text": [
      " 60%|█████▉    | 89299/149271 [01:00<01:15, 796.44it/s]"
     ]
    },
    {
     "name": "stdout",
     "output_type": "stream",
     "text": [
      "2n28 81\n",
      "4r0w 7\n",
      "3azd 60\n",
      "3ca7 51\n",
      "1r7j 90\n",
      "1q8b 89\n",
      "1wy3 34\n"
     ]
    },
    {
     "name": "stderr",
     "output_type": "stream",
     "text": [
      " 60%|█████▉    | 89464/149271 [01:00<01:14, 797.89it/s]"
     ]
    },
    {
     "name": "stdout",
     "output_type": "stream",
     "text": [
      "1mho 88\n",
      "4wvs 81\n"
     ]
    },
    {
     "name": "stderr",
     "output_type": "stream",
     "text": [
      " 60%|██████    | 89622/149271 [01:01<01:23, 712.48it/s]"
     ]
    },
    {
     "name": "stdout",
     "output_type": "stream",
     "text": [
      "1b6w 66\n",
      "1sol 20\n",
      "173d 4\n",
      "5f0u 66\n"
     ]
    },
    {
     "name": "stderr",
     "output_type": "stream",
     "text": [
      " 60%|██████    | 89793/149271 [01:01<01:16, 773.73it/s]"
     ]
    },
    {
     "name": "stdout",
     "output_type": "stream",
     "text": [
      "4x3x 81\n",
      "2dpr 32\n",
      "4a20 81\n",
      "2duy 64\n",
      "1hsm 79\n",
      "4npe 88\n",
      "1x8y 74\n",
      "3wmq 94\n"
     ]
    },
    {
     "name": "stderr",
     "output_type": "stream",
     "text": [
      " 60%|██████    | 89969/149271 [01:01<01:12, 817.93it/s]"
     ]
    },
    {
     "name": "stdout",
     "output_type": "stream",
     "text": [
      "2w4c 95\n",
      "5pcy 99\n",
      "5lis 51\n",
      "5eka 85\n",
      "2c60 83\n",
      "6bf3 80\n"
     ]
    },
    {
     "name": "stderr",
     "output_type": "stream",
     "text": [
      " 60%|██████    | 90300/149271 [01:01<01:13, 806.22it/s]"
     ]
    },
    {
     "name": "stdout",
     "output_type": "stream",
     "text": [
      "3nkj 64\n",
      "1lr7 73\n",
      "2jyl 84\n",
      "4es3 84\n",
      "1fjk 52\n",
      "4b2m 64\n",
      "6hvc 70\n",
      "2mtw 20\n"
     ]
    },
    {
     "name": "stderr",
     "output_type": "stream",
     "text": [
      " 61%|██████    | 90457/149271 [01:02<01:21, 722.26it/s]"
     ]
    },
    {
     "name": "stdout",
     "output_type": "stream",
     "text": [
      "4o9l 96\n",
      "4r7e 69\n",
      "3d9u 98\n",
      "1zeq 86\n"
     ]
    },
    {
     "name": "stderr",
     "output_type": "stream",
     "text": [
      " 61%|██████    | 90775/149271 [01:02<01:26, 672.76it/s]"
     ]
    },
    {
     "name": "stdout",
     "output_type": "stream",
     "text": [
      "3po8 98\n",
      "2mc6 83\n"
     ]
    },
    {
     "name": "stderr",
     "output_type": "stream",
     "text": [
      " 61%|██████    | 90924/149271 [01:02<01:24, 687.75it/s]"
     ]
    },
    {
     "name": "stdout",
     "output_type": "stream",
     "text": [
      "3i5r 90\n"
     ]
    },
    {
     "name": "stderr",
     "output_type": "stream",
     "text": [
      " 61%|██████    | 91060/149271 [01:03<01:35, 612.52it/s]"
     ]
    },
    {
     "name": "stdout",
     "output_type": "stream",
     "text": [
      "3fod 48\n",
      "1bno 87\n"
     ]
    },
    {
     "name": "stderr",
     "output_type": "stream",
     "text": [
      " 61%|██████    | 91318/149271 [01:03<01:16, 755.60it/s]"
     ]
    },
    {
     "name": "stdout",
     "output_type": "stream",
     "text": [
      "2ju2 95\n",
      "5g4d 79\n",
      "5mg9 66\n",
      "4zmk 82\n",
      "2ygs 92\n",
      "1ski 60\n",
      "1bdo 80\n"
     ]
    },
    {
     "name": "stderr",
     "output_type": "stream",
     "text": [
      " 61%|██████▏   | 91485/149271 [01:03<01:12, 795.51it/s]"
     ]
    },
    {
     "name": "stdout",
     "output_type": "stream",
     "text": [
      "3qmb 54\n",
      "4ncv 81\n",
      "1lvr 9\n",
      "1tpm 50\n",
      "1ttg 94\n"
     ]
    },
    {
     "name": "stderr",
     "output_type": "stream",
     "text": [
      " 61%|██████▏   | 91649/149271 [01:03<01:14, 769.02it/s]"
     ]
    },
    {
     "name": "stdout",
     "output_type": "stream",
     "text": [
      "3uxw 34\n",
      "3sol 91\n",
      "1fhm 53\n"
     ]
    },
    {
     "name": "stderr",
     "output_type": "stream",
     "text": [
      " 62%|██████▏   | 91811/149271 [01:04<01:13, 787.07it/s]"
     ]
    },
    {
     "name": "stdout",
     "output_type": "stream",
     "text": [
      "1tin 68\n",
      "2iim 64\n",
      "3ce8 87\n",
      "1coo 81\n",
      "6nw0 90\n",
      "1zv7 71\n",
      "6cls 7\n",
      "1nxb 62\n"
     ]
    },
    {
     "name": "stderr",
     "output_type": "stream",
     "text": [
      " 62%|██████▏   | 92061/149271 [01:04<01:10, 812.00it/s]"
     ]
    },
    {
     "name": "stdout",
     "output_type": "stream",
     "text": [
      "1snb 64\n",
      "5oai 98\n",
      "2gpi 92\n",
      "3dml 97\n",
      "1t2t 96\n",
      "5trb 69\n"
     ]
    },
    {
     "name": "stderr",
     "output_type": "stream",
     "text": [
      " 62%|██████▏   | 92227/149271 [01:04<01:09, 819.68it/s]"
     ]
    },
    {
     "name": "stdout",
     "output_type": "stream",
     "text": [
      "4xfo 6\n",
      "4z0w 19\n",
      "5k9p 80\n",
      "3lqx 61\n",
      "2xz2 69\n"
     ]
    },
    {
     "name": "stderr",
     "output_type": "stream",
     "text": [
      " 62%|██████▏   | 92475/149271 [01:04<01:10, 802.49it/s]"
     ]
    },
    {
     "name": "stdout",
     "output_type": "stream",
     "text": [
      "1r7e 31\n",
      "2wpy 32\n",
      "4jjb 58\n",
      "4p4v 41\n"
     ]
    },
    {
     "name": "stderr",
     "output_type": "stream",
     "text": [
      " 62%|██████▏   | 92638/149271 [01:05<01:10, 808.24it/s]"
     ]
    },
    {
     "name": "stdout",
     "output_type": "stream",
     "text": [
      "1g6x 61\n",
      "4q63 95\n",
      "1lb0 13\n",
      "6ay7 78\n",
      "6aaw 97\n"
     ]
    },
    {
     "name": "stderr",
     "output_type": "stream",
     "text": [
      " 62%|██████▏   | 92882/149271 [01:05<01:11, 791.14it/s]"
     ]
    },
    {
     "name": "stdout",
     "output_type": "stream",
     "text": [
      "4i5y 51\n",
      "2yeo 70\n",
      "2drk 69\n",
      "2m6d 70\n"
     ]
    },
    {
     "name": "stderr",
     "output_type": "stream",
     "text": [
      " 62%|██████▏   | 93041/149271 [01:05<01:12, 777.11it/s]"
     ]
    },
    {
     "name": "stdout",
     "output_type": "stream",
     "text": [
      "4mdn 96\n",
      "5mas 5\n"
     ]
    },
    {
     "name": "stderr",
     "output_type": "stream",
     "text": [
      " 62%|██████▏   | 93207/149271 [01:05<01:10, 799.88it/s]"
     ]
    },
    {
     "name": "stdout",
     "output_type": "stream",
     "text": [
      "1dng 15\n",
      "4x1v 79\n",
      "6kj1 6\n",
      "6ich 93\n"
     ]
    },
    {
     "name": "stderr",
     "output_type": "stream",
     "text": [
      " 63%|██████▎   | 93458/149271 [01:06<01:07, 822.26it/s]"
     ]
    },
    {
     "name": "stdout",
     "output_type": "stream",
     "text": [
      "1y47 92\n",
      "4f2l 62\n",
      "6clo 7\n",
      "2ehs 75\n",
      "1eva 92\n",
      "4qt7 68\n",
      "5exh 46\n",
      "5e21 95\n"
     ]
    },
    {
     "name": "stderr",
     "output_type": "stream",
     "text": [
      " 63%|██████▎   | 93624/149271 [01:06<01:08, 813.36it/s]"
     ]
    },
    {
     "name": "stdout",
     "output_type": "stream",
     "text": [
      "1zva 75\n",
      "5x1g 31\n",
      "4w90 87\n",
      "4jjc 58\n",
      "2acy 98\n",
      "2erw 53\n"
     ]
    },
    {
     "name": "stderr",
     "output_type": "stream",
     "text": [
      " 63%|██████▎   | 93791/149271 [01:06<01:08, 807.43it/s]"
     ]
    },
    {
     "name": "stdout",
     "output_type": "stream",
     "text": [
      "1cei 85\n",
      "4z58 71\n",
      "4rwc 27\n",
      "3w5x 86\n",
      "1cya 2\n",
      "3jtg 95\n"
     ]
    },
    {
     "name": "stderr",
     "output_type": "stream",
     "text": [
      " 63%|██████▎   | 93955/149271 [01:06<01:14, 747.41it/s]"
     ]
    },
    {
     "name": "stdout",
     "output_type": "stream",
     "text": [
      "1ifi 50\n",
      "4ar5 59\n"
     ]
    },
    {
     "name": "stderr",
     "output_type": "stream",
     "text": [
      " 63%|██████▎   | 94114/149271 [01:06<01:11, 766.70it/s]"
     ]
    },
    {
     "name": "stdout",
     "output_type": "stream",
     "text": [
      "4he7 53\n",
      "4w5l 17\n",
      "1ris 97\n",
      "4zj9 93\n",
      "4nsm 72\n"
     ]
    },
    {
     "name": "stderr",
     "output_type": "stream",
     "text": [
      " 63%|██████▎   | 94443/149271 [01:07<01:18, 702.22it/s]"
     ]
    },
    {
     "name": "stdout",
     "output_type": "stream",
     "text": [
      "5zkl 66\n",
      "2k51 77\n",
      "1dep 15\n",
      "1wm2 78\n"
     ]
    },
    {
     "name": "stderr",
     "output_type": "stream",
     "text": [
      " 63%|██████▎   | 94683/149271 [01:07<01:12, 753.01it/s]"
     ]
    },
    {
     "name": "stdout",
     "output_type": "stream",
     "text": [
      "1g3x 4\n",
      "1qp2 70\n",
      "1haf 63\n",
      "2rhf 75\n",
      "1y0m 61\n",
      "4b6w 85\n",
      "6g6b 89\n"
     ]
    },
    {
     "name": "stderr",
     "output_type": "stream",
     "text": [
      " 64%|██████▎   | 94837/149271 [01:07<01:11, 757.10it/s]"
     ]
    },
    {
     "name": "stdout",
     "output_type": "stream",
     "text": [
      "2p4t 58\n",
      "1ho2 20\n",
      "3w60 81\n",
      "1k18 31\n",
      "2mkn 44\n",
      "1unt 65\n"
     ]
    },
    {
     "name": "stderr",
     "output_type": "stream",
     "text": [
      " 64%|██████▎   | 95068/149271 [01:08<01:12, 744.91it/s]"
     ]
    },
    {
     "name": "stdout",
     "output_type": "stream",
     "text": [
      "4by8 12\n",
      "2fd9 43\n",
      "1enh 54\n",
      "4gif 45\n"
     ]
    },
    {
     "name": "stderr",
     "output_type": "stream",
     "text": [
      " 64%|██████▍   | 95299/149271 [01:08<01:15, 718.41it/s]"
     ]
    },
    {
     "name": "stdout",
     "output_type": "stream",
     "text": [
      "5u59 27\n",
      "5z9z 98\n"
     ]
    },
    {
     "name": "stderr",
     "output_type": "stream",
     "text": [
      " 64%|██████▍   | 95468/149271 [01:08<01:09, 775.19it/s]"
     ]
    },
    {
     "name": "stdout",
     "output_type": "stream",
     "text": [
      "4tl1 68\n",
      "1hzn 29\n",
      "1skn 74\n",
      "3n32 76\n",
      "6rk4 94\n"
     ]
    },
    {
     "name": "stderr",
     "output_type": "stream",
     "text": [
      " 64%|██████▍   | 95636/149271 [01:08<01:06, 804.81it/s]"
     ]
    },
    {
     "name": "stdout",
     "output_type": "stream",
     "text": [
      "2zgd 96\n",
      "3h6c 61\n",
      "5hir 49\n",
      "6cmh 20\n",
      "5j8p 81\n"
     ]
    },
    {
     "name": "stderr",
     "output_type": "stream",
     "text": [
      " 64%|██████▍   | 95802/149271 [01:09<01:06, 799.63it/s]"
     ]
    },
    {
     "name": "stdout",
     "output_type": "stream",
     "text": [
      "5mgm 100\n",
      "5klf 92\n",
      "3cwi 67\n",
      "6hao 93\n",
      "4ou0 68\n",
      "1dmc 31\n",
      "1zzk 82\n"
     ]
    },
    {
     "name": "stderr",
     "output_type": "stream",
     "text": [
      " 64%|██████▍   | 96041/149271 [01:09<01:09, 769.80it/s]"
     ]
    },
    {
     "name": "stdout",
     "output_type": "stream",
     "text": [
      "6c4v 82\n",
      "4lwd 90\n",
      "3kyy 57\n",
      "4fkd 65\n"
     ]
    },
    {
     "name": "stderr",
     "output_type": "stream",
     "text": [
      " 65%|██████▍   | 96284/149271 [01:09<01:07, 787.41it/s]"
     ]
    },
    {
     "name": "stdout",
     "output_type": "stream",
     "text": [
      "4uut 67\n",
      "1yd3 90\n",
      "1pwt 61\n"
     ]
    },
    {
     "name": "stderr",
     "output_type": "stream",
     "text": [
      " 65%|██████▍   | 96439/149271 [01:10<01:10, 744.36it/s]"
     ]
    },
    {
     "name": "stdout",
     "output_type": "stream",
     "text": [
      "4n7f 76\n",
      "3sgm 41\n",
      "3a0v 93\n",
      "4oaj 99\n",
      "4pas 74\n",
      "2crt 60\n",
      "1k8m 87\n",
      "3f4z 79\n",
      "4ubz 12\n",
      "1dfz 100\n",
      "2b0g 83\n"
     ]
    },
    {
     "name": "stderr",
     "output_type": "stream",
     "text": [
      " 65%|██████▍   | 96590/149271 [01:10<01:10, 745.33it/s]"
     ]
    },
    {
     "name": "stdout",
     "output_type": "stream",
     "text": [
      "2qt4 100\n",
      "3h8h 95\n",
      "1ljo 75\n",
      "6qqg 55\n",
      "2pst 62\n",
      "1jyu 96\n"
     ]
    },
    {
     "name": "stderr",
     "output_type": "stream",
     "text": [
      " 65%|██████▍   | 96823/149271 [01:10<01:08, 765.53it/s]"
     ]
    },
    {
     "name": "stdout",
     "output_type": "stream",
     "text": [
      "6o5w 60\n"
     ]
    },
    {
     "name": "stderr",
     "output_type": "stream",
     "text": [
      " 65%|██████▍   | 96977/149271 [01:10<01:08, 758.83it/s]"
     ]
    },
    {
     "name": "stdout",
     "output_type": "stream",
     "text": [
      "2gnk 95\n",
      "4y0l 80\n",
      "3ft7 91\n"
     ]
    },
    {
     "name": "stderr",
     "output_type": "stream",
     "text": [
      " 65%|██████▌   | 97129/149271 [01:10<01:08, 757.61it/s]"
     ]
    },
    {
     "name": "stdout",
     "output_type": "stream",
     "text": [
      "4omq 58\n",
      "4h8f 60\n",
      "1ogw 74\n"
     ]
    },
    {
     "name": "stderr",
     "output_type": "stream",
     "text": [
      " 65%|██████▌   | 97435/149271 [01:11<01:09, 747.57it/s]"
     ]
    },
    {
     "name": "stdout",
     "output_type": "stream",
     "text": [
      "6dl1 8\n",
      "4iuf 77\n",
      "2ptv 96\n",
      "3q9p 77\n",
      "3hjx 95\n",
      "6f3v 90\n"
     ]
    },
    {
     "name": "stderr",
     "output_type": "stream",
     "text": [
      " 65%|██████▌   | 97588/149271 [01:11<01:08, 750.75it/s]"
     ]
    },
    {
     "name": "stdout",
     "output_type": "stream",
     "text": [
      "4r0r 48\n",
      "5kl2 89\n",
      "1xt7 7\n",
      "3dnc 92\n"
     ]
    },
    {
     "name": "stderr",
     "output_type": "stream",
     "text": [
      " 66%|██████▌   | 97816/149271 [01:11<01:09, 743.55it/s]"
     ]
    },
    {
     "name": "stdout",
     "output_type": "stream",
     "text": [
      "1hpi 71\n",
      "5iiw 88\n",
      "6fpk 53\n",
      "1l2p 61\n",
      "4bvc 80\n"
     ]
    },
    {
     "name": "stderr",
     "output_type": "stream",
     "text": [
      " 66%|██████▌   | 97964/149271 [01:12<01:21, 627.55it/s]"
     ]
    },
    {
     "name": "stdout",
     "output_type": "stream",
     "text": [
      "6h89 84\n",
      "1odr 100\n",
      "4bs3 51\n"
     ]
    },
    {
     "name": "stderr",
     "output_type": "stream",
     "text": [
      " 66%|██████▌   | 98146/149271 [01:12<01:38, 520.63it/s]"
     ]
    },
    {
     "name": "stdout",
     "output_type": "stream",
     "text": [
      "1uha 82\n",
      "3u5v 62\n",
      "1ql1 46\n"
     ]
    },
    {
     "name": "stderr",
     "output_type": "stream",
     "text": [
      " 66%|██████▌   | 98269/149271 [01:12<01:45, 484.46it/s]"
     ]
    },
    {
     "name": "stdout",
     "output_type": "stream",
     "text": [
      "5kvr 78\n",
      "4hca 99\n",
      "3ssu 85\n"
     ]
    },
    {
     "name": "stderr",
     "output_type": "stream",
     "text": [
      " 66%|██████▌   | 98424/149271 [01:12<01:25, 595.83it/s]"
     ]
    },
    {
     "name": "stdout",
     "output_type": "stream",
     "text": [
      "1iq9 61\n",
      "3c1p 2\n",
      "4hqu 96\n",
      "1uoy 64\n"
     ]
    },
    {
     "name": "stderr",
     "output_type": "stream",
     "text": [
      " 66%|██████▌   | 98578/149271 [01:13<01:15, 669.29it/s]"
     ]
    },
    {
     "name": "stdout",
     "output_type": "stream",
     "text": [
      "4wol 93\n",
      "3lae 98\n",
      "4hp2 15\n"
     ]
    },
    {
     "name": "stderr",
     "output_type": "stream",
     "text": [
      " 66%|██████▌   | 98800/149271 [01:13<01:11, 708.32it/s]"
     ]
    },
    {
     "name": "stdout",
     "output_type": "stream",
     "text": [
      "1pi7 95\n",
      "1fw5 20\n",
      "1r7g 31\n",
      "4euy 84\n",
      "5ob1 70\n",
      "2ins 100\n"
     ]
    },
    {
     "name": "stderr",
     "output_type": "stream",
     "text": [
      " 66%|██████▋   | 98948/149271 [01:13<01:09, 721.39it/s]"
     ]
    },
    {
     "name": "stdout",
     "output_type": "stream",
     "text": [
      "1ntn 72\n",
      "1iyu 79\n",
      "4ml2 92\n",
      "3mi7 84\n",
      "6de9 75\n",
      "1t7e 66\n",
      "1d5q 27\n"
     ]
    },
    {
     "name": "stderr",
     "output_type": "stream",
     "text": [
      " 66%|██████▋   | 99097/149271 [01:13<01:08, 731.26it/s]"
     ]
    },
    {
     "name": "stdout",
     "output_type": "stream",
     "text": [
      "4r8i 68\n",
      "3sd6 86\n",
      "2wor 96\n"
     ]
    },
    {
     "name": "stderr",
     "output_type": "stream",
     "text": [
      " 66%|██████▋   | 99252/149271 [01:14<00:37, 1339.39it/s]"
     ]
    },
    {
     "name": "stdout",
     "output_type": "stream",
     "text": [
      "2fla 83\n",
      "4d3g 78\n",
      "5u5b 79\n"
     ]
    },
    {
     "name": "stderr",
     "output_type": "stream",
     "text": [
      "\n"
     ]
    }
   ],
   "source": [
    "target_length = 100\n",
    "counter = []\n",
    "tag = []\n",
    "for root, dirs, files in os.walk(input_path, topdown=False):\n",
    "    for name in tqdm(files):\n",
    "        if name.split('_')[0] in main_record:\n",
    "            if name.split('_')[0] in zeros:\n",
    "                pass\n",
    "            else:\n",
    "                with open(input_path + name) as f:\n",
    "                    count2 = sum(1 for line in f)\n",
    "                    if count2 != 0:\n",
    "                        if len(counter) > 2499:\n",
    "                            break\n",
    "                        else:\n",
    "                            if count2 <= target_length:\n",
    "                                counter.append(count2)\n",
    "                                tag.append(name.split('_')[0])\n",
    "                                print(\"{} {}\".format(name.split('_')[0], count2))"
   ]
  },
  {
   "cell_type": "code",
   "execution_count": 8,
   "metadata": {},
   "outputs": [
    {
     "name": "stdout",
     "output_type": "stream",
     "text": [
      "2500\n",
      "2500\n"
     ]
    }
   ],
   "source": [
    "# print(counter)\n",
    "# print(tag)\n",
    "print(len(counter))\n",
    "print(len(tag))"
   ]
  },
  {
   "cell_type": "code",
   "execution_count": 9,
   "metadata": {},
   "outputs": [],
   "source": [
    "for t in tag:\n",
    "    if t in zeros:\n",
    "        print(\"yes\")"
   ]
  },
  {
   "cell_type": "code",
   "execution_count": 10,
   "metadata": {},
   "outputs": [
    {
     "name": "stdout",
     "output_type": "stream",
     "text": [
      "   name  length\n",
      "0  4qkl      31\n",
      "1  3oq7      99\n",
      "2  1z21      96\n",
      "3  3nit      89\n",
      "4  5dkn      91\n",
      "(2500, 2)\n",
      "count    2500.000000\n",
      "mean       66.699200\n",
      "std        26.513791\n",
      "min         2.000000\n",
      "25%        53.000000\n",
      "50%        71.000000\n",
      "75%        89.000000\n",
      "max       100.000000\n",
      "Name: length, dtype: float64\n"
     ]
    }
   ],
   "source": [
    "df2 = pd.DataFrame(data=counter, columns=['length'])\n",
    "df3 = pd.DataFrame(data=tag, columns=['name'])\n",
    "df4 = pd.concat([df3, df2], axis=1)\n",
    "print(df4.head())\n",
    "print(df4.shape)\n",
    "print(df4['length'].describe())"
   ]
  },
  {
   "cell_type": "code",
   "execution_count": 11,
   "metadata": {},
   "outputs": [
    {
     "name": "stdout",
     "output_type": "stream",
     "text": [
      "['4qkl', '3oq7', '1z21', '3nit', '5dkn', '4zey', '2d8e', '2ccf', '6evl', '6o6d', '6kzf', '3gk2', '1g2z', '3gk4', '1nmg', '3t4g', '3trg', '1hbk', '3l37', '7rxn', '2rna', '1odq', '4g4m', '3u4n', '1j5m', '3m0p', '3wmj', '5f53', '6eex', '4up5', '1b2f', '1ae2', '1d9a', '1bdk', '2ccb', '3cmh', '1byp', '3zzo', '1kth', '2axi', '2u2f', '1gcc', '3brl', '6nxz', '1mhn', '2rbf', '3ny3', '3iwl', '5dli', '5x3n', '1heg', '1mbe', '6c4o', '1sp2', '3eg3', '1cka', '1b3i', '2r1c', '1w5u', '2cgz', '1abq', '5kl5', '1cq0', '5k2e', '1xv4', '1fac', '2fgg', '4ckv', '3g7l', '5w4j', '5xqv', '2ot5', '2ox2', '3hz7', '4he6', '1jxt', '5cgo', '1csq', '2c8r', '1k48', '5laz', '1a56', '3ms6', '1ptr', '2m6h', '1bc7', '6mha', '5ol9', '1idg', '2rkn', '1ifm', '3wcq', '3fgh', '4uig', '1rwj', '2ovg', '6rgi', '1dxs', '1dk1', '6ay8', '1bx7', '3q1d', '4j3h', '6egl', '4r2a', '4u9e', '1b01', '5goh', '6gq5', '3e9f', '5fx0', '6bes', '4npx', '4xxl', '2fq5', '1dg0', '4i1l', '3k6d', '1mog', '3r68', '4g14', '6dj0', '3ju0', '1hgz', '3ftr', '5nv1', '5z41', '4rcc', '1fwp', '1aqr', '6nfr', '1egp', '4xof', '1fow', '3dmw', '2ame', '1kdu', '2xf6', '3lo1', '4agh', '1pfi', '1gcm', '4nag', '4unh', '3nzl', '6iie', '3onj', '5ly5', '3hfe', '6ako', '2j6o', '3znf', '4il7', '4p3v', '1qd8', '5yp8', '2q9v', '3ifm', '1l9l', '1sne', '1cag', '2f2x', '2cc7', '1egt', '5l8z', '6cmn', '6c3s', '2oqk', '2r2z', '4zyf', '3m0r', '3q9i', '1bcg', '3ipn', '1szt', '4aqo', '2xbd', '1wd1', '1sdb', '3dso', '3pmt', '2q79', '2bs5', '4y1h', '2rll', '2drt', '6edf', '4c3l', '5mxz', '2fbu', '1pdr', '1fp0', '2xs7', '3zzp', '6ekb', '1l4w', '3b1l', '6qyw', '2md3', '2iwn', '1gkh', '3l8l', '4kiv', '1oav', '3md5', '2hh7', '6g8e', '3ds0', '6uhg', '2ovo', '4lbb', '4hti', '1rop', '1kp6', '1fas', '2ws4', '1onj', '2hvf', '2gts', '1yo5', '5aui', '3fdt', '1fw4', '1a1k', '4kmf', '4xqm', '1ale', '4o9f', '6f3w', '1fk4', '3hms', '3kp8', '1b7d', '4icv', '1ad7', '2hts', '3h31', '2ns0', '6h9q', '2o71', '2oei', '4jcg', '1fre', '6niv', '4ncu', '3rjp', '5d52', '4xyo', '5yvx', '5d5u', '4xfn', '4u12', '1ncg', '3c0f', '6h4l', '6a2h', '3hrl', '6ber', '1qld', '4eo1', '4hrs', '1ceu', '1tif', '5n35', '1ju8', '3lwh', '1t4f', '2on8', '1pga', '5e9p', '3ous', '3lo4', '6f64', '1rdv', '2b3c', '6pti', '5hpp', '1r1g', '6h83', '1k9p', '1ir0', '1c7w', '1b9w', '1jb6', '1b7v', '3ra6', '2x6p', '3twe', '3g9y', '1aqa', '2b6g', '1mbj', '1c56', '4z1r', '3asl', '6rxn', '3kyw', '1m8l', '4h33', '1txa', '6cll', '5jjz', '6q5q', '1j8e', '2g6f', '4w5y', '4akj', '2p2r', '2era', '1r7c', '1qx8', '3gnb', '3mut', '1j2n', '1qsu', '1av2', '3q8j', '6i0a', '1jzp', '3tz1', '1sf0', '5ome', '1uti', '1uo3', '1ten', '3co6', '2msi', '6pcy', '1pht', '1jy9', '3rm1', '1kfm', '4z59', '1cc8', '4l58', '1iuz', '2mue', '4uby', '4itq', '4i67', '6qjj', '1zim', '4jve', '3khq', '6d8j', '4es2', '1nag', '2onq', '2jvh', '3ov8', '1zmk', '3zq8', '1hcr', '1an2', '1xy2', '6ff1', '5bmi', '5m4v', '1qlq', '1u3j', '6i6w', '2ers', '1dfu', '3p49', '2iwq', '4pbd', '4bv7', '1pij', '2wbu', '2cjn', '2iji', '3rcp', '5efm', '5yph', '2e3i', '3hjd', '6hg7', '6cfh', '1df5', '2j97', '4wjo', '1myk', '5sus', '6csl', '1odd', '5en9', '4lmm', '5nnx', '1tpg', '4qo4', '1ub9', '1ff4', '1dsc', '3gl6', '6mw1', '1ybz', '3o3z', '2ho2', '3t5s', '1yk4', '2hl7', '2jku', '6at0', '3g19', '4ttl', '2ckx', '4mno', '2ezk', '6qm1', '1e6h', '1qr9', '1emz', '2ezh', '5z25', '5z0w', '1mag', '4f26', '3lfp', '2nls', '1hhu', '6cg5', '1zyw', '1wja', '1cta', '4ypc', '2eyx', '6bew', '2o1k', '3hrn', '3cp0', '2knt', '5ytx', '1heh', '5hkn', '6akm', '2eaq', '1bti', '3eb5', '4cgq', '4hiv', '6e6n', '3wit', '5go7', '4eif', '6a6c', '3twf', '2kk9', '2ldj', '1go9', '6odg', '3h8y', '1i3w', '1d1l', '1qkx', '2soc', '1uo0', '1ob4', '3k7z', '5omd', '3mx7', '1u84', '1nk3', '1nct', '3o3k', '1b0y', '3svi', '2z0w', '4tut', '1jl9', '2j52', '6fc6', '4aqi', '1ku3', '3ngg', '1l1v', '5bpo', '1k76', '1lcc', '5ytz', '3lt8', '1pi8', '6maa', '1bdd', '1bxm', '5afg', '3ai6', '2zqe', '1w5l', '2g4m', '1j2m', '1brf', '5usv', '6bwz', '2g66', '6dr5', '1ynv', '4k7t', '5hqi', '3sgo', '1mn3', '4o7q', '4i5z', '2m6e', '1f7m', '9ins', '2pp6', '6h84', '2wbs', '3ppd', '6b35', '3dgo', '3ngk', '5w0j', '5d77', '1f9p', '1djf', '1emn', '1use', '5jn0', '6m7m', '3l32', '6d8i', '5nnm', '6asd', '6d42', '4jjd', '5cuk', '1bc8', '1azg', '1qkf', '4rex', '2gus', '5xdp', '4lwu', '6a0c', '2ezd', '4iyl', '3zi3', '4le9', '4dzm', '1o06', '6h8g', '2f2w', '5xpk', '2xzz', '6s34', '1a1z', '1cxn', '1ptx', '1hsq', '1ixu', '2eyw', '8rxn', '1m20', '1j5d', '1esx', '6cle', '1bk2', '3dhm', '3adg', '1wd0', '1ji9', '5yj8', '6gpm', '3hro', '3off', '1itt', '1a1f', '3x0g', '5x2e', '1hoe', '6dny', '5zx1', '1g9o', '3cr4', '3nir', '4y92', '5xqu', '4lfq', '1mny', '3a39', '1nyh', '1j5j', '5txh', '3mpy', '6f3x', '3u91', '5dea', '1r0f', '3w8v', '1gw3', '6gat', '3md4', '3nij', '2gn5', '2zgg', '4e83', '4a4j', '6ha2', '4gwt', '1zgx', '1j47', '3q9g', '1lvq', '5wlf', '2ffm', '4qnd', '1dph', '5w52', '1whp', '1cbn', '3dgn', '4rik', '1ij3', '6mj7', '4e82', '1ifp', '3cr5', '1a8c', '1jic', '5o0u', '1q8h', '1cod', '5c11', '5y4u', '4zai', '4nj0', '3g7a', '2y1b', '3fea', '2qbv', '1qh2', '4r24', '1uj0', '4hc3', '4x0s', '1rpb', '3rfi', '4wsp', '1gxu', '4hhf', '1bf4', '1w41', '5b09', '4r2q', '1g2b', '5w9s', '3e8v', '4hqx', '2p6v', '6o5k', '1zzn', '2cwy', '1chz', '5o5i', '3hey', '4iej', '4he5', '5tdd', '1mhx', '3g26', '1dfs', '3ovj', '1rdg', '4fe6', '2ahp', '2ds7', '3i40', '5hj1', '1ls9', '2ofs', '2bqq', '2p5k', '6sid', '2y3l', '2sxl', '1oks', '1qwe', '1zx6', '3h36', '4k59', '1uw1', '5lav', '1pks', '2xen', '6uyy', '5m0w', '3gk5', '9pti', '4bph', '5b0g', '6j0h', '1sip', '2wfu', '6uyt', '2rh2', '5wqr', '1lqx', '6i1j', '5ngn', '6h8d', '3a02', '5tww', '5w7v', '6dga', '5k86', '1hje', '6shk', '2na5', '4f14', '2g4s', '3kyv', '5ytv', '1u9h', '4l9u', '3efg', '4hu5', '4rtu', '1zve', '3sfm', '1eod', '5zck', '3f87', '6ny0', '3n4y', '1bxu', '1dur', '6p4z', '4hg7', '3f2e', '3dgj', '2drx', '3sgn', '6qyr', '6cg3', '4np8', '1qjk', '5lhw', '1wit', '5zxf', '1aba', '1r1b', '4iri', '4fiw', '2ab7', '3gwo', '5t1g', '4y2i', '2p7r', '6g5e', '4lg7', '3qmc', '4ifm', '3q1j', '4r0p', '2qmt', '1ab1', '2psr', '1tcg', '1s9z', '5goc', '2ewh', '1d7t', '1bds', '4ivh', '2ygi', '5ihk', '4e71', '2n7t', '6bhr', '4lnp', '1zyv', '3l36', '2pxb', '1qkw', '6qlc', '1hcc', '1xvk', '1j75', '4wfw', '1y0n', '1hmj', '1uny', '1prb', '3l1g', '4hvv', '1zik', '2qnw', '4oh8', '1qwf', '6ir8', '6b79', '2okz', '4yud', '1kuq', '6n2u', '5urt', '1cti', '1cch', '3trw', '5rxn', '3hzq', '1hhp', '4ozc', '4jpr', '1hrq', '1tig', '1mzl', '6kj4', '1pnn', '2bzf', '2jxg', '4irh', '1awx', '2q3i', '2rjy', '1bts', '6cum', '1haa', '1hme', '2esx', '1hzs', '1omy', '5h0o', '1km7', '1awj', '4zc3', '2cc8', '6clg', '5nfk', '3msi', '5zk1', '4id8', '3fia', '3pyj', '1uue', '3pz7', '1res', '4hdl', '1nlp', '3o7a', '2ifn', '1hd3', '1foy', '5jyq', '1l0i', '1i0u', '4i2l', '1k34', '2d55', '5cyb', '4r2c', '4w5m', '4ikg', '1h59', '6gto', '2ccn', '2jp8', '1u9u', '4jl7', '2c3g', '1fk3', '2egn', '1s29', '6c3t', '1sj4', '2aqf', '4cgc', '1zdd', '2zta', '2yv4', '4wk1', '1xvn', '1meq', '4r22', '1wy4', '2buo', '5o0z', '4bsp', '1eof', '5yty', '2y90', '5los', '5um3', '1aik', '5e5x', '1bi6', '2mlt', '5gzb', '1bqx', '6gzj', '1avv', '4rcb', '3ldd', '1a7i', '1pan', '1bbi', '3u97', '1crn', '1mb1', '1go6', '1g2s', '1dfn', '1et1', '1swi', '3dkm', '1imx', '5gua', '5w0g', '3t7l', '5a7l', '1nra', '2nml', '2m6f', '6clk', '5zjl', '5nmn', '1pak', '185d', '1cc7', '6ha4', '1t9q', '1sap', '1az5', '1msi', '1hgv', '6mrs', '5h0m', '5tab', '6fbk', '5fo5', '4pww', '4hdd', '1kfn', '5u9t', '2gyz', '4e0l', '3o70', '5er4', '4n6j', '4jv9', '6atl', '2k38', '1ij1', '2hvp', '3hvp', '5cum', '1bw6', '1j7r', '4w71', '6q6r', '4zlx', '2pk8', '3pkn', '3f27', '1jv9', '1soc', '6bxx', '3heu', '2es9', '5t7r', '1gd3', '1f7y', '3t2a', '3tys', '6cro', '4oix', '5wkb', '3r3k', '3gv3', '3qj6', '2w9q', '1jru', '5kl6', '4b2h', '5my7', '4mml', '1xy4', '3ce7', '6atm', '2mtx', '2qyw', '1yod', '1eoe', '2cce', '5gok', '1ynz', '1cs9', '3snz', '1ijv', '6qyt', '3e56', '1iua', '2o2w', '4ytv', '2y3k', '1b2e', '2ozf', '4jzp', '1lou']\n"
     ]
    }
   ],
   "source": [
    "print(tag)"
   ]
  },
  {
   "cell_type": "code",
   "execution_count": null,
   "metadata": {},
   "outputs": [],
   "source": []
  },
  {
   "cell_type": "markdown",
   "metadata": {},
   "source": [
    "### Create a test set"
   ]
  },
  {
   "cell_type": "code",
   "execution_count": 23,
   "metadata": {},
   "outputs": [
    {
     "name": "stderr",
     "output_type": "stream",
     "text": [
      "100%|██████████| 2919/2919 [00:00<00:00, 363514.65it/s]"
     ]
    },
    {
     "name": "stdout",
     "output_type": "stream",
     "text": [
      "3wmj\n",
      "3zzo\n",
      "2r1c\n",
      "5w4j\n",
      "3wcq\n",
      "1b01\n",
      "4zyf\n",
      "3zzp\n",
      "2ws4\n",
      "4wjo\n",
      "1zyw\n",
      "3wit\n",
      "5zx1\n",
      "5wlf\n",
      "5w52\n",
      "4wsp\n",
      "5w9s\n",
      "1zzn\n",
      "2wfu\n",
      "5wqr\n",
      "5w7v\n",
      "5zxf\n",
      "1zyv\n",
      "4wfw\n",
      "2zta\n",
      "1wy4\n",
      "5wkb\n",
      "1ubq\n",
      "1q9b\n",
      "3czc\n",
      "2cmp\n",
      "3d2w\n",
      "5um1\n",
      "1q4v\n",
      "4pti\n",
      "2f4k\n",
      "2poi\n",
      "3rzt\n",
      "3sel\n",
      "2qg1\n",
      "2fht\n",
      "1w5h\n",
      "5jbv\n",
      "1b5a\n",
      "3cq1\n",
      "1frd\n",
      "1zx3\n",
      "1g1i\n",
      "1etf\n",
      "2wkd\n",
      "4yb1\n",
      "5wiq\n",
      "1rrb\n",
      "2ifo\n",
      "2oxo\n",
      "5kue\n",
      "3ftk\n",
      "2brz\n",
      "2kql\n",
      "4lbp\n",
      "3tbo\n",
      "3ghf\n",
      "1bnz\n",
      "4msi\n",
      "5xsl\n",
      "2lk9\n",
      "1sn1\n",
      "3i3z\n",
      "1j7a\n",
      "1xmk\n",
      "6ego\n",
      "3kui\n",
      "3m0u\n",
      "2j6z\n",
      "1t3j\n",
      "1amb\n",
      "2jsb\n",
      "2m7y\n",
      "1nlo\n",
      "6h5k\n",
      "5whp\n",
      "4npd\n",
      "1srl\n",
      "4ihn\n",
      "1cvq\n",
      "5n41\n",
      "1mea\n",
      "5g25\n",
      "4zhp\n",
      "2pxl\n",
      "6che\n",
      "2oo2\n",
      "3ph2\n",
      "3dmi\n",
      "1cor\n",
      "3ud4\n",
      "5sze\n",
      "1czq\n",
      "2fma\n",
      "2afe\n",
      "3ga8\n",
      "4rp6\n",
      "1cfw\n",
      "1zpa\n",
      "5y20\n",
      "1pcn\n",
      "2zeq\n",
      "6clh\n",
      "3gbl\n",
      "2nrg\n",
      "1k33\n",
      "4hp1\n",
      "4gb0\n",
      "5fwz\n",
      "2yvi\n",
      "3mur\n",
      "2sam\n",
      "3het\n",
      "5ebx\n",
      "1mnv\n",
      "2n7n\n",
      "1hfg\n",
      "6gq2\n",
      "3orc\n",
      "1riy\n",
      "5w50\n",
      "3ngp\n",
      "4u3h\n",
      "1ts9\n",
      "2he4\n",
      "1aw3\n",
      "4zzd\n",
      "3oiz\n",
      "1enm\n",
      "2xs2\n",
      "6ipz\n",
      "4iyf\n",
      "3e21\n",
      "6mrr\n",
      "1ca5\n",
      "2bn1\n",
      "1bbl\n",
      "2d9r\n",
      "3gny\n",
      "2odc\n",
      "6av8\n",
      "2ymy\n",
      "2qvo\n",
      "1hhz\n",
      "1ttz\n",
      "1k96\n",
      "1btq\n",
      "3lo9\n",
      "3g0v\n",
      "5mxy\n",
      "1tc3\n",
      "4cny\n",
      "4mjb\n",
      "1skl\n",
      "4a7e\n",
      "6nmw\n",
      "3m1e\n",
      "5w0h\n",
      "1eis\n",
      "2izx\n",
      "2h41\n",
      "3m9a\n",
      "1sna\n",
      "1lpl\n",
      "2htj\n",
      "3lt9\n",
      "3tjy\n",
      "1orc\n",
      "2rjv\n",
      "2f60\n",
      "6dk5\n",
      "1ypa\n",
      "6c3g\n",
      "1u2h\n",
      "1ncp\n",
      "1wzb\n",
      "1ckt\n",
      "1w3e\n",
      "4ttn\n",
      "2xnr\n",
      "4q2m\n",
      "1kwj\n",
      "2xjh\n",
      "1hre\n",
      "1w40\n",
      "1nte\n",
      "1xy8\n",
      "1hhf\n",
      "3hyd\n",
      "1bpi\n",
      "6n4p\n",
      "6bdg\n",
      "1etl\n",
      "1mrt\n",
      "6a2q\n",
      "1wjc\n",
      "4mhg\n",
      "1j2x\n",
      "1tch\n",
      "3k0x\n",
      "1psf\n",
      "5et3\n",
      "2kv6\n",
      "3fdr\n",
      "2pko\n",
      "3pzz\n",
      "1alx\n",
      "3h01\n",
      "2ip6\n",
      "1t2y\n",
      "3lbj\n",
      "4bvd\n",
      "1lfb\n",
      "5k2l\n",
      "4icb\n",
      "1kx2\n",
      "4pqw\n",
      "5x3m\n",
      "6q5i\n",
      "3qmi\n",
      "2zga\n",
      "1fvm\n",
      "1mfl\n",
      "3lnq\n",
      "1wri\n",
      "5bt2\n",
      "6fg4\n",
      "6mgn\n",
      "2nqc\n",
      "6c3f\n",
      "1g1j\n",
      "1xy1\n",
      "3q2c\n",
      "1ywo\n",
      "3p46\n",
      "1alz\n",
      "6dce\n",
      "4hs2\n",
      "1i92\n",
      "5hkr\n",
      "1fxd\n",
      "5zds\n",
      "1q3l\n",
      "3ss2\n",
      "1w5g\n",
      "6a2t\n",
      "5mj1\n",
      "5ax2\n",
      "1wk2\n",
      "1tos\n",
      "1fyn\n",
      "3jsd\n",
      "3rdy\n",
      "1a3i\n",
      "4x9z\n",
      "3eun\n",
      "4hjk\n",
      "1drz\n",
      "2mc5\n",
      "3dgl\n",
      "1yn4\n",
      "1hh0\n",
      "3zr8\n",
      "2y5m\n",
      "1pfp\n",
      "6a6l\n",
      "1csa\n",
      "1ksm\n",
      "3mth\n",
      "3uw4\n",
      "1tg0\n",
      "1b0q\n",
      "1csp\n",
      "3i18\n",
      "2nsn\n",
      "1ng8\n",
      "1a7y\n",
      "5ytt\n",
      "1rgv\n",
      "5uzn\n",
      "1ypb\n",
      "5o3j\n",
      "6cew\n",
      "1b4o\n",
      "3kyx\n",
      "1jxu\n",
      "2jk7\n",
      "4e6s\n",
      "1gw4\n",
      "2fcf\n",
      "5yuh\n",
      "1k9b\n",
      "1dfy\n",
      "2fq3\n",
      "1esr\n",
      "2ocs\n",
      "4zce\n",
      "1tuk\n",
      "4m6e\n",
      "3cqt\n",
      "1hip\n",
      "5y46\n",
      "1p9g\n",
      "3ftl\n",
      "1yui\n",
      "6h8f\n",
      "4htj\n",
      "5uu4\n",
      "3c3g\n",
      "3ovl\n",
      "5pti\n",
      "1dlb\n",
      "6q5o\n",
      "1kb7\n",
      "4j8c\n",
      "5wkd\n",
      "1qj0\n",
      "3try\n",
      "4n1v\n",
      "3m0s\n",
      "1xvr\n",
      "3hev\n",
      "2jyp\n",
      "6cf4\n",
      "1coa\n",
      "1beo\n",
      "1ycr\n",
      "1w3m\n",
      "3h0h\n",
      "3njw\n",
      "5gu9\n",
      "3qdp\n",
      "4mmj\n",
      "6air\n",
      "2mf8\n",
      "1q3z\n",
      "1r02\n",
      "4ttm\n",
      "1azq\n",
      "1b5n\n",
      "2ci2\n",
      "3pcy\n",
      "6m9j\n",
      "3hfc\n",
      "6fj7\n",
      "2m73\n",
      "1r5q\n",
      "1neb\n",
      "4rkg\n",
      "2asc\n",
      "3cu4\n",
      "3iaj\n",
      "1eoq\n",
      "1m59\n",
      "1jj8\n",
      "1bkv\n",
      "6h9t\n",
      "1jnt\n",
      "4mo0\n",
      "3zii\n",
      "4irg\n",
      "6o19\n",
      "1t8k\n",
      "2nlf\n",
      "1edm\n",
      "2icp\n",
      "2d4d\n",
      "5zys\n",
      "2j8b\n",
      "2izq\n",
      "5ai2\n",
      "351c\n",
      "1bh0\n",
      "1a32\n",
      "5f1w\n",
      "2plz\n",
      "1sso\n",
      "6boc\n",
      "1a1u\n",
      "1box\n",
      "2xkm\n",
      "1dtx\n",
      "5k2f\n",
      "1u2f\n",
      "5lu3\n",
      "3gk1\n",
      "1gbq\n",
      "6po6\n",
      "6miw\n",
      "1ylb\n",
      "1prm\n",
      "4z7p\n",
      "2djh\n",
      "1pgx\n",
      "1eyt\n",
      "4htm\n",
      "3fr1\n",
      "1bd6\n",
      "5ko0\n",
      "2omp\n",
      "2xji\n",
      "1m2i\n",
      "1mk0\n",
      "5ki9\n",
      "1jq0\n",
      "6gqc\n",
      "3nx6\n",
      "3dxs\n",
      "3lmo\n",
      "6q9u\n",
      "1chv\n",
      "3foj\n",
      "1xxz\n",
      "6dr6\n",
      "2lwc\n",
      "2ooa\n",
      "4qeg\n",
      "5cy0\n",
      "2c0w\n",
      "6fgr\n",
      "5ojt\n",
      "5eon\n",
      "6i0n\n",
      "5txj\n",
      "5tdb\n",
      "4e1h\n",
      "5lxu\n",
      "5i11\n",
      "6rgn\n",
      "6g8y\n",
      "1pk2\n",
      "1omb\n",
      "3m48\n",
      "1pi2\n",
      "4up0\n",
      "5jx1\n",
      "2btx\n",
      "4p6k\n",
      "4n6x\n",
      "1gxg\n",
      "2dob\n",
      "4mdq\n",
      "2g13\n",
      "6izs\n",
      "1rwd\n",
      "1zu3\n",
      "5er5\n",
      "2tci\n",
      "1jkq\n",
      "5inz\n",
      "3jzs\n",
      "3dgm\n",
      "2ag3\n",
      "2g7o\n",
      "5d5e\n",
      "5eh6\n",
      "4e0m\n",
      "3pis\n",
      "3w63\n",
      "1wv8\n",
      "5xr0\n",
      "1mit\n",
      "3g2b\n",
      "1k6u\n",
      "2fd7\n",
      "2nle\n",
      "3loe\n",
      "5d2s\n",
      "1dul\n",
      "2wnd\n",
      "6mos\n",
      "6g8c\n",
      "2ma1\n",
      "1b7j\n",
      "3h34\n",
      "3zzr\n",
      "1pdq\n",
      "1dp7\n",
      "1kne\n",
      "2adx\n",
      "4g4l\n",
      "2oxj\n",
      "2gw8\n",
      "2pde\n",
      "5ejo\n",
      "1p9i\n",
      "3hew\n",
      "1m2m\n",
      "5f1t\n",
      "3bt4\n",
      "1b69\n",
      "1c75\n",
      "4gs3\n",
      "1cad\n",
      "1hq1\n",
      "1edx\n",
      "5lff\n",
      "4dnn\n",
      "1tnm\n",
      "1c6r\n",
      "1xak\n",
      "3ebx\n",
      "1rru\n",
      "2fk2\n",
      "5kuj\n",
      "2f3a\n",
      "5h9c\n",
      "6bxv\n",
      "1bfx\n",
      "4rty\n",
      "4nio\n",
      "1g4g\n",
      "3bc4\n",
      "2npl\n",
      "1qke\n",
      "6cs9\n",
      "3nz3\n",
      "1idy\n",
      "1ucs\n",
      "5kui\n",
      "3ue7\n",
      "1a70\n",
      "1mid\n",
      "4r55\n",
      "4nj1\n",
      "2pcy\n",
      "3sny\n",
      "3cw3\n",
      "3f2u\n",
      "3bbz\n",
      "3jrz\n",
      "1ffm\n",
      "2ds5\n",
      "3fq9\n",
      "1zdb\n",
      "1r0i\n",
      "6nce\n",
      "4r2p\n",
      "6akk\n",
      "1fsv\n",
      "5oqz\n",
      "4w92\n",
      "2msa\n",
      "6mmc\n",
      "4rtz\n",
      "2pxu\n",
      "1fna\n",
      "1edn\n",
      "1alf\n",
      "1dhg\n",
      "4xyp\n",
      "2mty\n",
      "4neo\n",
      "1biv\n",
      "6clf\n",
      "1f03\n",
      "2pm5\n",
      "4qe9\n",
      "1gjf\n",
      "1l6h\n",
      "6c4q\n",
      "1dgc\n",
      "5k07\n",
      "4pz1\n",
      "6diy\n",
      "5ycq\n",
      "1fb7\n",
      "6nb9\n",
      "4r2e\n",
      "1cw8\n",
      "2y3j\n",
      "4mls\n",
      "6evh\n",
      "1mkc\n",
      "1tov\n",
      "1ovx\n",
      "3i9z\n",
      "2omm\n",
      "5i0c\n",
      "6uyp\n",
      "1ov9\n",
      "2n7o\n",
      "1iqs\n",
      "3jzk\n",
      "6fm8\n",
      "4f98\n",
      "5zkm\n",
      "3swb\n",
      "1l9a\n",
      "2i5l\n",
      "2oj3\n",
      "4ur4\n",
      "4aqj\n",
      "3nds\n",
      "1qvl\n",
      "2g0c\n",
      "1al1\n",
      "3j0r\n",
      "4ynx\n",
      "2nmq\n",
      "1piq\n",
      "5k7n\n",
      "6jnl\n",
      "4tv0\n",
      "2n29\n",
      "5yiu\n",
      "5ycw\n",
      "4ame\n",
      "1hh3\n",
      "1jko\n",
      "2i5u\n",
      "3ifd\n",
      "1pk4\n",
      "1ij2\n",
      "5i5a\n",
      "6uyq\n",
      "2cc6\n",
      "1u3y\n",
      "4p0c\n",
      "1coi\n",
      "6ky4\n",
      "4hn7\n",
      "3sbn\n",
      "5w4i\n",
      "1epi\n",
      "2qic\n",
      "316d\n",
      "1fk1\n",
      "5x3o\n",
      "5nfm\n",
      "1io6\n",
      "2e1e\n",
      "2hdz\n",
      "2pa1\n",
      "2fj9\n",
      "1je4\n",
      "4rof\n",
      "3h0f\n",
      "3ree\n",
      "1pdc\n",
      "1b07\n",
      "3bs3\n",
      "4nw3\n",
      "1ipg\n",
      "2g6q\n",
      "1w53\n",
      "6g8d\n",
      "2o3g\n",
      "4ddj\n",
      "4d5m\n",
      "5jqf\n",
      "4ab0\n",
      "5oc8\n",
      "3kuj\n",
      "6asz\n",
      "1h34\n",
      "1unz\n",
      "1e9w\n",
      "6a0a\n",
      "2x5t\n",
      "6g6a\n",
      "6mpn\n",
      "1gcn\n",
      "1bq8\n",
      "5gu8\n",
      "5usp\n",
      "4yu8\n",
      "6cq7\n",
      "1neq\n",
      "1svr\n",
      "3ons\n",
      "5sur\n",
      "5d5w\n",
      "6g9g\n",
      "6gol\n",
      "1edk\n",
      "3hts\n",
      "6h85\n",
      "1wm3\n",
      "4haj\n",
      "3pdg\n",
      "6u2u\n",
      "1gv5\n",
      "5ke6\n",
      "1jo4\n",
      "1j5k\n",
      "1who\n",
      "1ee7\n",
      "1z1v\n",
      "1wo9\n",
      "2gi9\n",
      "1fvs\n",
      "2fdn\n",
      "5o3s\n",
      "1gzy\n",
      "1p7e\n",
      "1xyi\n",
      "1mgw\n",
      "2o9s\n",
      "1wo0\n",
      "5uhr\n",
      "5oc4\n",
      "5fb6\n",
      "3lo6\n",
      "3w19\n",
      "3g27\n",
      "3efu\n",
      "1ctj\n",
      "6fc5\n",
      "2ams\n",
      "3ltc\n",
      "4dzn\n",
      "3cec\n",
      "4lfs\n",
      "6mpl\n",
      "5nnt\n",
      "3ulc\n",
      "4wjn\n",
      "3rjs\n",
      "6qb2\n",
      "4fdb\n",
      "1px9\n",
      "3sj0\n",
      "5hsp\n",
      "3k9a\n",
      "5z6e\n",
      "5i5b\n",
      "1ei0\n",
      "6jip\n",
      "1zuu\n",
      "3bn0\n",
      "1dcd\n",
      "3u71\n",
      "1h02\n",
      "3s0r\n",
      "2j53\n",
      "5fwb\n",
      "2yx8\n",
      "4jm1\n",
      "5i55\n",
      "4rbx\n",
      "1awy\n",
      "3shb\n",
      "3b09\n",
      "4omm\n",
      "1u06\n",
      "1nmj\n",
      "6be9\n",
      "3hmr\n",
      "1k5o\n",
      "1bby\n",
      "1bh7\n",
      "6fce\n",
      "2ywk\n",
      "1ubi\n",
      "4rxn\n",
      "4r0u\n",
      "1edw\n",
      "3cr2\n",
      "2ont\n",
      "3u2b\n",
      "2cg6\n",
      "1lxh\n",
      "6clj\n",
      "2y1y\n",
      "3ctv\n",
      "2pm1\n",
      "4qxx\n",
      "2ona\n",
      "3b7h\n",
      "2jnr\n",
      "6clp\n",
      "5l23\n",
      "1mjc\n",
      "1yd0\n",
      "1rh4\n",
      "2rk1\n",
      "2mss\n",
      "1bq9\n",
      "5oxh\n",
      "1ef5\n",
      "1j9n\n",
      "1not\n",
      "1hy8\n",
      "2bzx\n",
      "4hbf\n",
      "1f1f\n",
      "1iu5\n",
      "2wyq\n",
      "1c0r\n",
      "6avc\n",
      "2g9e\n",
      "2hi5\n",
      "3kqi\n",
      "2jp3\n",
      "6cnu\n",
      "3w5z\n",
      "1zj7\n",
      "1ug4\n",
      "1yd4\n",
      "1tud\n",
      "2oqq\n",
      "3p7k\n",
      "1odp\n",
      "1ifn\n",
      "1ckb\n",
      "6dl0\n",
      "6nw1\n",
      "3rd2\n",
      "2wrx\n",
      "4i9o\n",
      "2qdq\n",
      "1cgd\n",
      "2jia\n",
      "4ovo\n",
      "4w5p\n",
      "2bop\n",
      "3b4d\n",
      "1qxx\n",
      "6n7o\n",
      "3g1e\n",
      "6jcc\n",
      "5ob0\n",
      "1ehj\n",
      "2ovc\n",
      "5itj\n",
      "1ob6\n",
      "1b2a\n",
      "3ait\n",
      "6ac5\n",
      "2wq0\n",
      "1jxw\n",
      "4ipf\n",
      "1cyj\n",
      "1n8u\n",
      "1urr\n",
      "6h87\n",
      "1a1j\n",
      "1lng\n",
      "5law\n",
      "3t4r\n",
      "5bum\n",
      "2ict\n",
      "1npi\n",
      "4gmq\n",
      "3lyw\n",
      "2bf9\n",
      "3al1\n",
      "2alc\n",
      "4j9c\n",
      "1yp5\n",
      "2pq3\n",
      "1kbs\n",
      "1rb4\n",
      "5af5\n",
      "4pe7\n",
      "1uno\n",
      "2j70\n",
      "3fth\n",
      "6msi\n",
      "3ndq\n",
      "6gmt\n",
      "3wmi\n",
      "1gzr\n",
      "2jf1\n",
      "1j8b\n",
      "1nfj\n",
      "1hta\n",
      "1lms\n",
      "1pen\n",
      "1qow\n",
      "1ni8\n",
      "3ldc\n",
      "1zy6\n",
      "3egu\n",
      "1os6\n",
      "5azz\n",
      "5o94\n",
      "6b34\n",
      "2stw\n",
      "1unx\n",
      "4qk7\n",
      "1fk0\n",
      "1ifj\n",
      "2p09\n",
      "1yri\n",
      "1ywp\n",
      "4zyi\n",
      "4ar3\n",
      "1pyz\n",
      "6kzu\n",
      "3jtz\n",
      "4dzk\n",
      "2muf\n",
      "1mkn\n",
      "6ez7\n",
      "1j5l\n",
      "4prf\n",
      "3zhm\n",
      "4esf\n",
      "3e0e\n",
      "2fk1\n",
      "3mxh\n",
      "4bdx\n",
      "1j7c\n",
      "1ame\n",
      "4eid\n",
      "3svm\n",
      "3zhi\n",
      "6njg\n",
      "4g3b\n",
      "4gu2\n",
      "2xeu\n",
      "2rb8\n",
      "3jzp\n",
      "5fr6\n",
      "4axy\n",
      "1fan\n",
      "1dme\n",
      "6mxf\n",
      "1oot\n",
      "4iyd\n",
      "1tjb\n",
      "1fes\n",
      "1w7r\n",
      "4hb1\n",
      "6d2h\n",
      "1dfe\n",
      "6s3f\n",
      "1lqh\n",
      "6q61\n",
      "3ge2\n",
      "1gdc\n",
      "6fhd\n",
      "6nfs\n",
      "2jgo\n",
      "6be7\n",
      "5m2k\n",
      "1b2j\n",
      "3w65\n",
      "2w4p\n",
      "4pr6\n",
      "2il4\n",
      "2cwr\n",
      "1niz\n",
      "2wos\n",
      "2cro\n",
      "4hlb\n",
      "5suu\n",
      "1yjo\n",
      "6dkz\n",
      "1bl1\n",
      "1nyj\n",
      "1lac\n",
      "2efa\n",
      "3ov5\n",
      "1hp8\n",
      "4crh\n",
      "2bus\n",
      "6i05\n",
      "6aty\n",
      "2q2k\n",
      "1smu\n",
      "5i6a\n",
      "6h88\n",
      "4es1\n",
      "3nhd\n",
      "1lxe\n",
      "193d\n",
      "1kqe\n",
      "1a2s\n",
      "1cre\n",
      "6cdx\n",
      "1bb9\n",
      "4s2q\n",
      "3wwl\n",
      "2wl7\n",
      "6g55\n",
      "4e0n\n",
      "6akp\n",
      "3m0q\n",
      "5uu2\n",
      "1fca\n",
      "1j55\n",
      "3e4h\n",
      "1y50\n",
      "2tgf\n",
      "1l0h\n",
      "2r9i\n",
      "1qoj\n",
      "1lu0\n",
      "1hha\n",
      "1bph\n",
      "2ws1\n",
      "1kw4\n",
      "3ic4\n",
      "3kiv\n",
      "2cdt\n",
      "1mp6\n",
      "4wpy\n",
      "4f2i\n",
      "1rju\n",
      "1qpy\n",
      "2eg2\n",
      "1ycq\n",
      "6axz\n",
      "1kdl\n",
      "6nla\n",
      "1d8k\n",
      "2o9v\n",
      "1lr8\n",
      "3ovo\n",
      "3tq2\n",
      "1pzw\n",
      "4rgi\n",
      "4nib\n",
      "4oml\n",
      "1xmt\n",
      "1zac\n",
      "1tor\n",
      "5oc5\n",
      "5j0i\n",
      "4aeq\n",
      "5ke8\n",
      "3rdn\n",
      "5nvg\n",
      "1wct\n",
      "6m80\n",
      "3ulh\n",
      "3zvz\n",
      "6e6o\n",
      "2bn3\n",
      "2onv\n",
      "5oll\n",
      "6cli\n",
      "3t46\n",
      "1lea\n",
      "1cnr\n",
      "1amt\n",
      "4djg\n",
      "1a1l\n",
      "4b2k\n",
      "4eic\n",
      "6g6d\n",
      "4ar6\n",
      "1fbr\n",
      "1a7w\n",
      "3dwu\n",
      "5znx\n",
      "2gf1\n",
      "1sh1\n",
      "1bxv\n",
      "4y2m\n",
      "4omn\n",
      "1oai\n",
      "1lyp\n",
      "1bta\n",
      "1ag6\n",
      "4cxl\n",
      "1b9p\n",
      "1rlq\n",
      "6fx3\n",
      "1ifl\n",
      "3r65\n",
      "1ctf\n",
      "2o4a\n",
      "1yzm\n",
      "5d54\n",
      "1id7\n",
      "3rz6\n",
      "2xus\n",
      "4qb0\n",
      "1yqb\n",
      "2ewt\n",
      "1ctx\n",
      "6b17\n",
      "1t7b\n",
      "1p0r\n",
      "2mu8\n",
      "3o2e\n",
      "1b5b\n",
      "2yvr\n",
      "5dma\n",
      "1pid\n",
      "1joh\n",
      "1ulr\n",
      "5sut\n",
      "4hvu\n",
      "5od1\n",
      "4wbv\n",
      "2ayd\n",
      "3kde\n",
      "5kl7\n",
      "1z1x\n",
      "3qii\n",
      "1yd1\n",
      "4f42\n",
      "1u36\n",
      "4r2d\n",
      "6od2\n",
      "2pxk\n",
      "1hll\n",
      "4w67\n",
      "6egm\n",
      "4kvu\n",
      "1e6g\n",
      "2ol9\n",
      "3bbg\n",
      "3lvx\n",
      "1wz5\n",
      "3lo2\n",
      "3ow9\n",
      "6cg4\n",
      "4fqo\n",
      "5gog\n",
      "5hck\n",
      "4k78\n",
      "1b5m\n",
      "1i8c\n",
      "1yu8\n",
      "1etn\n",
      "1ca6\n",
      "5y18\n",
      "4iye\n",
      "5yrx\n",
      "1e9k\n",
      "1jkr\n",
      "1usm\n",
      "2z17\n",
      "4rtv\n",
      "1gjg\n",
      "4uu6\n",
      "2bb8\n",
      "3exy\n",
      "1hnr\n",
      "3c3h\n",
      "4gzn\n",
      "1ay3\n",
      "4hvw\n",
      "3ds1\n",
      "3idw\n",
      "1gzi\n",
      "2zpp\n",
      "3w61\n",
      "1unm\n",
      "3bpu\n",
      "5kiu\n",
      "1cit\n",
      "1rgj\n",
      "1cwz\n",
      "1j1v\n",
      "1ppt\n",
      "1kbe\n",
      "2o6n\n",
      "4h4n\n",
      "2d4f\n",
      "5oc6\n",
      "1dft\n",
      "1uln\n",
      "2bvz\n",
      "6ctg\n",
      "6htl\n",
      "6e33\n",
      "1nru\n",
      "2jxi\n",
      "6bf5\n",
      "5nw3\n",
      "5d2q\n",
      "2m6g\n",
      "2igd\n",
      "1rb9\n",
      "3zy1\n",
      "2bn8\n",
      "3hj2\n",
      "2hzc\n",
      "6dix\n",
      "5jbm\n",
      "1gxt\n",
      "1c26\n",
      "1uo2\n",
      "1jj6\n",
      "5awl\n",
      "6ben\n",
      "3eg2\n",
      "4kmg\n",
      "1pjd\n",
      "4x3i\n",
      "4bdw\n",
      "4ncw\n",
      "3dg1\n",
      "1dxg\n",
      "3nvf\n",
      "2e1f\n",
      "3dsp\n",
      "1uo1\n",
      "4z3c\n",
      "2rk2\n",
      "2w0z\n",
      "1gvd\n",
      "1op1\n",
      "1uo4\n",
      "1be7\n",
      "6uyv\n",
      "1pnd\n",
      "1bo0\n",
      "5gy6\n",
      "1jbd\n",
      "1a3j\n",
      "5uxt\n",
      "6i6y\n",
      "6o4j\n",
      "1fvq\n",
      "3p2x\n",
      "6ats\n",
      "3l1x\n",
      "1uj8\n",
      "3e8y\n",
      "5hpr\n",
      "1byz\n",
      "6i6e\n",
      "1sho\n",
      "5i41\n",
      "6i31\n",
      "1lds\n",
      "3bo2\n",
      "2b8g\n",
      "4e1i\n",
      "3bo3\n",
      "1b2g\n",
      "5dom\n",
      "1j2l\n",
      "5dsu\n",
      "6ds9\n",
      "1ruw\n",
      "1mhu\n",
      "3gzl\n",
      "1r6j\n",
      "6ei8\n",
      "1w2l\n",
      "1fyk\n",
      "2ldc\n",
      "3f50\n",
      "1wfb\n",
      "1uva\n",
      "6ame\n",
      "1skk\n",
      "2x1a\n",
      "1utg\n",
      "6uyr\n",
      "1gq0\n",
      "1i27\n",
      "1dk3\n",
      "2fb0\n",
      "4lhf\n",
      "3po0\n",
      "4nkk\n",
      "4krw\n",
      "4x9j\n",
      "2w4f\n",
      "6q5l\n",
      "1upj\n",
      "2h3m\n",
      "4niz\n",
      "2pm4\n",
      "2m1f\n",
      "6m9i\n",
      "1eq7\n",
      "1aie\n",
      "1seg\n",
      "5aps\n",
      "2erl\n",
      "6qrk\n",
      "5goj\n",
      "1bdw\n",
      "1bm8\n",
      "4f2j\n",
      "5ilv\n",
      "2n28\n",
      "4r0w\n",
      "3azd\n",
      "3ca7\n",
      "1r7j\n",
      "1q8b\n",
      "1wy3\n",
      "1mho\n",
      "4wvs\n",
      "1b6w\n",
      "1sol\n",
      "173d\n",
      "5f0u\n",
      "4x3x\n",
      "2dpr\n",
      "4a20\n",
      "2duy\n",
      "1hsm\n",
      "4npe\n",
      "1x8y\n",
      "3wmq\n",
      "2w4c\n",
      "5pcy\n",
      "5lis\n",
      "5eka\n",
      "2c60\n",
      "6bf3\n",
      "3nkj\n",
      "1lr7\n",
      "2jyl\n",
      "4es3\n",
      "1fjk\n",
      "4b2m\n",
      "6hvc\n",
      "2mtw\n",
      "4o9l\n",
      "4r7e\n",
      "3d9u\n",
      "1zeq\n",
      "3po8\n",
      "2mc6\n",
      "3i5r\n",
      "3fod\n",
      "1bno\n",
      "2ju2\n",
      "5g4d\n",
      "5mg9\n",
      "4zmk\n",
      "2ygs\n",
      "1ski\n",
      "1bdo\n",
      "3qmb\n",
      "4ncv\n",
      "1lvr\n",
      "1tpm\n",
      "1ttg\n",
      "3uxw\n",
      "3sol\n",
      "1fhm\n",
      "1tin\n",
      "2iim\n",
      "3ce8\n",
      "1coo\n",
      "6nw0\n",
      "1zv7\n",
      "6cls\n",
      "1nxb\n",
      "1snb\n",
      "5oai\n",
      "2gpi\n",
      "3dml\n",
      "1t2t\n",
      "5trb\n",
      "4xfo\n",
      "4z0w\n",
      "5k9p\n",
      "3lqx\n",
      "2xz2\n",
      "1r7e\n",
      "2wpy\n",
      "4jjb\n",
      "4p4v\n",
      "1g6x\n",
      "4q63\n",
      "1lb0\n",
      "6ay7\n",
      "6aaw\n",
      "4i5y\n",
      "2yeo\n",
      "2drk\n",
      "2m6d\n",
      "4mdn\n",
      "5mas\n",
      "1dng\n",
      "4x1v\n",
      "6kj1\n",
      "6ich\n",
      "1y47\n",
      "4f2l\n",
      "6clo\n",
      "2ehs\n",
      "1eva\n",
      "4qt7\n",
      "5exh\n",
      "5e21\n",
      "1zva\n",
      "5x1g\n",
      "4w90\n",
      "4jjc\n",
      "2acy\n",
      "2erw\n",
      "1cei\n",
      "4z58\n",
      "4rwc\n",
      "3w5x\n",
      "1cya\n",
      "3jtg\n",
      "1ifi\n",
      "4ar5\n",
      "4he7\n",
      "4w5l\n",
      "1ris\n",
      "4zj9\n",
      "4nsm\n",
      "5zkl\n",
      "2k51\n",
      "1dep\n",
      "1wm2\n",
      "1g3x\n",
      "1qp2\n",
      "1haf\n",
      "2rhf\n",
      "1y0m\n",
      "4b6w\n",
      "6g6b\n",
      "2p4t\n",
      "1ho2\n",
      "3w60\n",
      "1k18\n",
      "2mkn\n",
      "1unt\n",
      "4by8\n",
      "2fd9\n",
      "1enh\n",
      "4gif\n",
      "5u59\n",
      "5z9z\n",
      "4tl1\n",
      "1hzn\n",
      "1skn\n",
      "3n32\n",
      "6rk4\n",
      "2zgd\n",
      "3h6c\n",
      "5hir\n",
      "6cmh\n",
      "5j8p\n",
      "5mgm\n",
      "5klf\n",
      "3cwi\n",
      "6hao\n",
      "4ou0\n",
      "1dmc\n",
      "1zzk\n",
      "6c4v\n",
      "4lwd\n",
      "3kyy\n",
      "4fkd\n",
      "4uut\n",
      "1yd3\n",
      "1pwt\n",
      "4n7f\n",
      "3sgm\n",
      "3a0v\n",
      "4oaj\n",
      "4pas\n",
      "2crt\n",
      "1k8m\n",
      "3f4z\n",
      "4ubz\n",
      "1dfz\n",
      "2b0g\n",
      "2qt4\n",
      "3h8h\n",
      "1ljo\n",
      "6qqg\n",
      "2pst\n",
      "1jyu\n",
      "6o5w\n",
      "2gnk\n",
      "4y0l\n",
      "3ft7\n",
      "4omq\n",
      "4h8f\n",
      "1ogw\n",
      "6dl1\n",
      "4iuf\n",
      "2ptv\n",
      "3q9p\n",
      "3hjx\n",
      "6f3v\n",
      "4r0r\n",
      "5kl2\n",
      "1xt7\n",
      "3dnc\n",
      "1hpi\n",
      "5iiw\n",
      "6fpk\n",
      "1l2p\n",
      "4bvc\n",
      "6h89\n",
      "1odr\n",
      "4bs3\n",
      "1uha\n",
      "3u5v\n",
      "1ql1\n",
      "5kvr\n",
      "4hca\n",
      "3ssu\n",
      "1iq9\n",
      "3c1p\n",
      "4hqu\n",
      "1uoy\n",
      "4wol\n",
      "3lae\n",
      "4hp2\n",
      "1pi7\n",
      "1fw5\n",
      "1r7g\n",
      "4euy\n",
      "5ob1\n",
      "2ins\n",
      "1ntn\n",
      "1iyu\n",
      "4ml2\n",
      "3mi7\n",
      "6de9\n",
      "1t7e\n",
      "1d5q\n",
      "4r8i\n",
      "3sd6\n",
      "2wor\n",
      "2fla\n",
      "4d3g\n",
      "5u5b\n"
     ]
    },
    {
     "name": "stderr",
     "output_type": "stream",
     "text": [
      "\n"
     ]
    }
   ],
   "source": [
    "train_input_path = '/media/the_beast/A/mathisi_tests/data/sample_100/direct_neighbour/'\n",
    "test_counter = []\n",
    "test_tag = []\n",
    "test_counter.clear()\n",
    "test_tag.clear()\n",
    "for root, dirs, files in os.walk(train_input_path, topdown=False):\n",
    "    for name in tqdm(files):\n",
    "        if 'label' in name:\n",
    "            if name.split('_')[0] in tag:\n",
    "                test_counter.append(name.split('_')[0])\n",
    "for name in tag:\n",
    "    if name in test_counter:\n",
    "        pass\n",
    "    else:      \n",
    "        test_tag.append(name.split('_')[0])\n",
    "        print(\"{}\".format(name.split('_')[0]))"
   ]
  },
  {
   "cell_type": "code",
   "execution_count": 32,
   "metadata": {},
   "outputs": [
    {
     "name": "stdout",
     "output_type": "stream",
     "text": [
      "Lenght tag: 2500\n",
      "Length test_counter: 973\n",
      "Lenght test_tag: 1527\n",
      "973 + 1527 = 2500\n",
      "\n",
      "All Okay\n"
     ]
    }
   ],
   "source": [
    "print(f\"Lenght tag: {len(tag)}\\n\"\n",
    "    f\"Length test_counter: {len(test_counter)}\\n\"\n",
    "     f\"Lenght test_tag: {len(test_tag)}\\n\"\n",
    "     f\"{len(test_counter)} + {len(test_tag)} = {len(test_counter) + len(test_tag)}\\n\")\n",
    "if len(test_counter) + len(test_tag) == len(tag):\n",
    "    print(\"All Okay\")\n",
    "else:\n",
    "    print(\"We have a problem\")"
   ]
  },
  {
   "cell_type": "code",
   "execution_count": 34,
   "metadata": {},
   "outputs": [],
   "source": [
    "for t in test_tag:\n",
    "    if t in test_counter:\n",
    "        print(\"yes\")"
   ]
  },
  {
   "cell_type": "code",
   "execution_count": null,
   "metadata": {},
   "outputs": [],
   "source": []
  },
  {
   "cell_type": "code",
   "execution_count": null,
   "metadata": {},
   "outputs": [],
   "source": []
  },
  {
   "cell_type": "code",
   "execution_count": null,
   "metadata": {},
   "outputs": [],
   "source": []
  },
  {
   "cell_type": "code",
   "execution_count": null,
   "metadata": {},
   "outputs": [],
   "source": []
  },
  {
   "cell_type": "code",
   "execution_count": null,
   "metadata": {},
   "outputs": [],
   "source": []
  },
  {
   "cell_type": "code",
   "execution_count": null,
   "metadata": {},
   "outputs": [],
   "source": []
  },
  {
   "cell_type": "markdown",
   "metadata": {},
   "source": [
    "## Move amino acid test dataset tags to TEST_DATA"
   ]
  },
  {
   "cell_type": "code",
   "execution_count": 36,
   "metadata": {},
   "outputs": [
    {
     "name": "stdout",
     "output_type": "stream",
     "text": [
      "/media/the_beast/disk/protein_folding/amino_acid_tags/\n"
     ]
    }
   ],
   "source": [
    "import shutil\n",
    "print(input_path)"
   ]
  },
  {
   "cell_type": "code",
   "execution_count": 37,
   "metadata": {},
   "outputs": [],
   "source": [
    "destination_path = '/media/the_beast/A/mathisi_tests/data/sample_100/test_tags/'"
   ]
  },
  {
   "cell_type": "code",
   "execution_count": 38,
   "metadata": {},
   "outputs": [],
   "source": [
    "for t in test_tag:\n",
    "    shutil.copy(input_path + t + '_amino_acid_tag_.csv', destination_path)"
   ]
  },
  {
   "cell_type": "code",
   "execution_count": null,
   "metadata": {},
   "outputs": [],
   "source": []
  },
  {
   "cell_type": "markdown",
   "metadata": {},
   "source": [
    "## Move adjacency matrix test dataset to TEST_DATA"
   ]
  },
  {
   "cell_type": "code",
   "execution_count": 39,
   "metadata": {},
   "outputs": [],
   "source": [
    "input_path_2 = '/media/the_beast/disk/protein_folding/pickle_files/pickle_label_gz/'\n",
    "destination_path_2 = '/media/the_beast/A/mathisi_tests/data/sample_100/test_distance_matrix/'"
   ]
  },
  {
   "cell_type": "code",
   "execution_count": 40,
   "metadata": {},
   "outputs": [
    {
     "name": "stdout",
     "output_type": "stream",
     "text": [
      "3wmj\n",
      "3zzo\n",
      "5w4j\n",
      "3wcq\n",
      "4zyf\n",
      "3zzp\n",
      "2ws4\n",
      "4wjo\n",
      "1zyw\n",
      "3wit\n",
      "5zx1\n",
      "5wlf\n",
      "5w52\n",
      "4wsp\n",
      "5w9s\n",
      "1zzn\n",
      "2wfu\n",
      "5wqr\n",
      "5w7v\n",
      "5zxf\n",
      "1zyv\n",
      "4wfw\n",
      "2zta\n",
      "1wy4\n",
      "5wkb\n",
      "5wiq\n",
      "5w50\n",
      "4zzd\n",
      "1wzb\n",
      "1wri\n",
      "5wkd\n",
      "5zys\n",
      "1wv8\n",
      "2wnd\n",
      "3zzr\n",
      "5w4i\n",
      "1wm3\n",
      "1wo9\n",
      "1wo0\n",
      "4wjn\n",
      "2wyq\n",
      "2wrx\n",
      "2wq0\n",
      "3wmi\n",
      "4zyi\n",
      "2wos\n",
      "3wwl\n",
      "2wl7\n",
      "2ws1\n",
      "4wpy\n",
      "3zvz\n",
      "4wbv\n",
      "1wz5\n",
      "3zy1\n",
      "1wy3\n",
      "4wvs\n",
      "3wmq\n",
      "2wpy\n",
      "1wm2\n",
      "1zzk\n",
      "4wol\n",
      "2wor\n"
     ]
    }
   ],
   "source": [
    "for t in test_tag:\n",
    "    try:\n",
    "        shutil.copy(input_path_2 + t + '_label.pickle.gz', destination_path_2)\n",
    "    except:\n",
    "        print(t)\n",
    "        pass"
   ]
  },
  {
   "cell_type": "markdown",
   "metadata": {},
   "source": [
    "## Move features test dataset to TEST_DATA"
   ]
  },
  {
   "cell_type": "code",
   "execution_count": 41,
   "metadata": {},
   "outputs": [],
   "source": [
    "input_path_3 = '/media/the_beast/disk/protein_folding/pickle_files/pickle_features_gz/'\n",
    "destination_path_3 = '/media/the_beast/A/mathisi_tests/data/sample_100/test_features/'"
   ]
  },
  {
   "cell_type": "code",
   "execution_count": 42,
   "metadata": {},
   "outputs": [
    {
     "name": "stdout",
     "output_type": "stream",
     "text": [
      "3wmj\n",
      "3zzo\n",
      "5w4j\n",
      "3wcq\n",
      "4zyf\n",
      "3zzp\n",
      "2ws4\n",
      "4wjo\n",
      "1zyw\n",
      "3wit\n",
      "5zx1\n",
      "5wlf\n",
      "5w52\n",
      "4wsp\n",
      "5w9s\n",
      "1zzn\n",
      "2wfu\n",
      "5wqr\n",
      "5w7v\n",
      "5zxf\n",
      "1zyv\n",
      "4wfw\n",
      "2zta\n",
      "1wy4\n",
      "5wkb\n",
      "5wiq\n",
      "5whp\n",
      "5w50\n",
      "4zzd\n",
      "1wzb\n",
      "1wri\n",
      "5wkd\n",
      "5zys\n",
      "1wv8\n",
      "2wnd\n",
      "3zzr\n",
      "5w4i\n",
      "1wm3\n",
      "1wo9\n",
      "1wo0\n",
      "4wjn\n",
      "2wyq\n",
      "2wrx\n",
      "2wq0\n",
      "3wmi\n",
      "4zyi\n",
      "2wos\n",
      "3wwl\n",
      "2wl7\n",
      "2ws1\n",
      "4wpy\n",
      "3zvz\n",
      "4wbv\n",
      "1wz5\n",
      "3zy1\n",
      "1wy3\n",
      "4wvs\n",
      "3wmq\n",
      "2wpy\n",
      "1wm2\n",
      "1zzk\n",
      "4wol\n",
      "2wor\n"
     ]
    }
   ],
   "source": [
    "for t in test_tag:\n",
    "    try:\n",
    "        shutil.copy(input_path_3 + t + '_feature.pickle.gz', destination_path_3)\n",
    "    except:\n",
    "        print(t)\n",
    "        pass"
   ]
  },
  {
   "cell_type": "code",
   "execution_count": 2,
   "metadata": {},
   "outputs": [],
   "source": [
    "import os"
   ]
  },
  {
   "cell_type": "markdown",
   "metadata": {},
   "source": [
    "### Control for duplicates in train and test datasets"
   ]
  },
  {
   "cell_type": "code",
   "execution_count": 41,
   "metadata": {},
   "outputs": [
    {
     "name": "stdout",
     "output_type": "stream",
     "text": [
      "['5tab', '1tuk', '4bsp', '1qh2', '1w3e', '4e71', '4i2l', '1w5h', '1qj0', '4unh', '6rgn', '3ghf', '1lou', '2rh2', '2xjh', '1res', '5sze', '2hh7', '1pgx', '3k6d', '4w71', '3ipn', '5yvx', '5dli', '3m1e', '4pti', '1byp', '1u2f', '3lt8', '4npd', '3lbj', '1hhp', '5b09', '3fdt', '1dp7', '1tg0', '4a4j', '5sze', '4gb0', '4pti', '2ofs', '3g26', '5um1', '2qbv', '3h0h', '4mhg', '3cp0', '3lt9', '1msi', '1i3w', '4i2l', '3kyw', '1r1g', '1fw4', '2dob', '3pcy', '5ytv', '4e83', '1w5h', '3sgn', '1j47', '5e5x', '1b5n', '2ovo', '6cs9', '1ypb', '2nlf', '2psr', '4e0l', '2wbs', '6gq2', '2o71', '6a6l', '1aqr', '3e9f', '5ngn', '1sp2', '1kfn', '2nrg', '2wbu', '2c8r', '2xbd', '4j8c', '3heu', '4z59', '3iaj', '3tys', '1meq', '1tch', '6f3x', '1ptx', '2brz', '1odd', '1a1k', '5g25', '6gat', '1gw3', '4f26', '5f1w', '2ma1', '2pde', '2npl', '1etf', '4pww', '1d7t', '3twe', '6c3t', '3lo4', '6mgn', '5g25', '3q8j', '2sam', '6gat', '1sip', '2d8e', '1avv', '2npl', '5dkn', '3g0v', '3l8l', '6ego', '1rdg', '2j6z', '2qbv', '1cad', '1eof', '4lfq', '3eg3', '2knt', '4u3h', '5yty', '4u12', '4irg', '1uw1', '1tif', '3iwl', '5w0h', '2ci2', '2lk9', '6gzj', '6dk5', '6po6', '3nij', '3mpy', '3f87', '1g2b', '6fgr', '1hip', '1txa', '1zx6', '2htj', '2b6g', '1c75', '1xmk', '4fiw', '2dob', '5laz', '1mit', '6odg', '1lpl', '6shk', '1r0f', '1bnz', '1cag', '1l9l', '1j2n', '1u2h', '185d', '6qyw', '3ldd', '4l58', '1bw6', '2g13', '2oqk', '6dce', '1ls9', '1tg0', '5inz', '3czc', '3iaj', '1pfi', '3ngg', '5x3n', '1hcc', '5bmi', '3efg', '1qwf', '4npd', '2nlf', '3h31', '6fc6', '3t5s', '1b3i', '3mut', '1psf', '3sgn', '1hq1', '2esx', '1bnz', '6uyy', '2f2x', '1a1z', '6q5q', '6odg', '2wkd', '1b69', '1skl', '5lhw', '2x6p', '3twe', '3m0p', '1fac', '3e21', '1kx2', '1ynv', '3ghf', '2poi', '5dea', '1k6u', '5z41', '1pan', '1g1j', '1pfi', '1g1i', '4le9', '1dfs', '4e1h', '3l37', '6egl', '1odq', '3iaj', '1rop', '5ax2', '1rwd', '4g4l', '2jsb', '3ai6', '3sgo', '1idg', '5ytx', '1mhx', '1ycr', '2bzf', '1gxu', '2nle', '6cum', '1an2', '1bx7', '3ra6', '1t4f', '1et1', '1cbn', '6hg7', '2jxg', '1uj0', '3h01', '6qyw', '3gwo', '1oks', '3cr4', '1jj8', '1u3j', '2j97', '3lo9', '1ls9', '4yb1', '5hj1', '3lbj', '2hts', '5d2s', '2p7r', '5rxn', '1pks', '4u9e', '6clk', '3hfc', '5eon', '3ai6', '2ci2', '1ku3', '6i0a', '6dj0', '1pak', '2axi', '1ybz', '4zc3', '3qdp', '5z0w', '6che', '2ds7', '4bph', '1azq', '1orc', '3l37', '2o2w', '2zqe', '1ff4', '5dkn', '2q3i', '3ftk', '2bzf', '1f7m', '3i40', '6pti', '5xqv', '3czc', '2afe', '6o5k', '2iji', '1m8l', '6qyt', '3gbl', '5bpo', '1oav', '3dkm', '1mbj', '4up0', '2y3l', '3qmi', '3ph2', '5w0g', '3h0h', '1lqx', '5zds', '4qkl', '2yv4', '2pk8', '2drt', '4u9e', '3ce7', '1b69', '1mfl', '6bes', '2pxb', '1ypb', '2jp8', '1tpg', '1yui', '4he5', '5gzb', '1j7a', '2p5k', '4lbb', '1zx3', '1q4v', '2zqe', '6pti', '3w8v', '1k48', '2buo', '2eaq', '6m7m', '1eis', '3gk1', '3lbj', '5um3', '1j2m', '1s29', '1cfw', '1yo5', '1hhf', '2m6f', '2sxl', '4hjk', '2jku', '2bs5', '1w40', '2ewh', '5k2f', '3g9y', '2mlt', '3eun', '3dmw', '2xzz', '3h36', '3cq1', '4up5', '3u4n', '1ten', '3k6d', '1ff4', '2fht', '2sxl', '6nfr', '1odq', '4pqw', '3msi', '1f9p', '6h8f', '1oav', '1eoe', '1jnt', '6i0n', '5u9t', '4y1h', '1rgv', '3twe', '2fq5', '1gw3', '1mea', '1b0q', '5ytt', '1av2', '6n4p', '5jyq', '4r24', '4z7p', '3tys', '6niv', '5ihk', '5jjz', '2o2w', '2zga', '1q9b', '4rex', '2bn1', '3p49', '5eh6', '4bsp', '1tcg', '6q9u', '1k9p', '6h83', '5x3m', '3r3k', '1c6r', '1tos', '4b2h', '5tab', '1p9i', '1bfx', '1ybz', '3nx6', '3lmo', '3hms', '1tnm', '3o3k', '1i92', '5n35', '4jzp', '1s9z', '4iyf', '1zpa', '3ju0', '6dr5', '1esx', '6kzf', '4qkl', '6q6r', '1i92', '1rwj', '1kne', '3a39', '4w5y', '3ms6', '1rdv', '5en9', '1hgv', '1esx', '1bdk', '1qkf', '4agh', '2onq', '1ad7', '1j5j', '1q3z', '3hro', '3hyd', '1b0y', '3hzq', '1xvn', '1nk3', '2psr', '1hhz', '1chv', '2b3c', '4htm', '1jl9', '1drz', '6mrr', '3kyv', '2eaq', '6po6', '1sj4', '1dfy', '3off', '3ss2', '4hhf', '5sus', '1myk', '5xsl', '1sna', '4rcc', '1g1j', '2p2r', '4j3h', '1cc7', '3hyd', '5m4v', '2tci', '1qld', '5k2l', '5zck', '5kuj', '4kiv', '3p46', '3i40', '4qo4', '1l9l', '3cr4', '6a0c', '2jsb', '4r2a', '2k38', '3rzt', '1hcr', '1pan', '3jzs', '1tcg', '1bkv', '2y3k', '3hew', '1res', '1jxt', '4lbb', '2z0w', '1b0y', '1zdd', '2oqk', '1jic', '1kfm', '4mmj', '1yod', '5k2e', '3czc', '1itt', '3kyw', '1ku3', '6mha', '3n4y', '1pht', '5ytz', '6dr5', '1kb7', '1abq', '1bbl', '3hyd', '2gus', '3nx6', '3cr5', '6rxn', '5nfk', '1tuk', '3brl', '3ldd', '5x3m', '2izx', '3e56', '1egt', '1uti', '5x3n', '6i6w', '2xen', '1jru', '3cqt', '1go9', '6ir8', '2eyw', '1prb', '1eyt', '4gb0', '4gs3', '3q9i', '6f64', '3sel', '1g2s', '1nmg', '3ra6', '6h5k', '2sxl', '3gnb', '2xnr', '2hvp', '1go6', '6i1j', '1hh0', '5yph', '4zce', '2c0w', '2ooa', '1tos', '4bph', '5ebx', '4r24', '3rzt', '5y46', '2ffm', '1res', '2ldj', '1a7i', '1dfu', '5nnx', '3hro', '4rp6', '2nsn', '4o9f', '1cs9', '1aqa', '3ovj', '1nlo', '1orc', '6o5k', '1qwf', '6cmn', '5lff', '1u2f', '4xof', '4irg', '2tci', '1ir0', '1ncg', '1dxs', '4akj', '4mmj', '1txa', '1rrb', '3off', '4qkl', '5eon', '1eyt', '1rdg', '3ftk', '1pdr', '5yvx', '2g4m', '1cch', '5kl6', '3i18', '3u97', '2g7o', '4jl7', '5kui', '1cs9', '2c8r', '6c3g', '3b1l', '5d77', '1cfw', '1ij3', '1k6u', '4u3h', '1j2n', '3x0g', '1ypb', '4qo4', '6uyy', '5ihk', '4ncu', '3o3k', '4iri', '4h33', '2j8b', '1qke', '4i2l', '4xyo', '3ebx', '1ji9', '2e3i', '5gok', '1bti', '5yty', '6kj4', '2y5m', '3u97', '6boc', '3dhm', '3h8y', '5b0g', '1bf4', '1eis', '3l36', '1sne', '3ga8', '1dfy', '4kmf', '1gcm', '6sid', '1zu3', '1gbq', '1dtx', '3rdy', '1xv4', '3m1e', '1g4g', '1ijv', '5yuh', '1sso', '1eoe', '1yui', '1cti', '3g19', '2nrg', '2f2x', '3t2a', '3c3g', '6atm', '6iie', '6gqc', '2j6z', '3l8l', '6fgr', '3hjd', '1go6', '5o5i', '5nnx', '2ag3', '1use', '3ovl', '2xs2', '6nxz', '1fxd', '2jyp', '1p9g', '1g4g', '4unh', '4i67', '3t2a', '1mbj', '5d2s', '5hqi', '2hl7', '1aik', '1pga', '6fg4', '6fc6', '4pqw', '1hre', '3hz7', '5o0z', '1fyn', '1szt', '1u84', '2j6o', '3ss2', '4jjd', '4u9e', '1kth', '3hfe', '4h33', '2zqe', '6qjj', '1jkq', '6mw1', '3cmh', '2cc8', '4jve', '4rp6', '2y90', '2ymy', '1jic', '1xxz', '1jy9', '3zr8', '2brz', '6b79', '3lo9', '6qm1', '1ub9', '5fx0', '1sne', '3m0r', '1u2h', '1l4w', '4r0p', '1pk2', '1qkx', '1lvq', '1k6u', '1cxn', '3dmw', '1j2n', '2gts', '1e6h', '1tnm', '4l58', '3e56', '3pz7', '2o1k', '6dr5', '3g7a', '2nml', '2on8', '6f3x', '5z0w', '2lk9', '3ebx', '3rfi', '3zi3', '1pcn', '1mea', '1sdb', '1imx', '3m0s', '4i1l', '4qo4', '1yo5', '1bdk', '1qkx', '6eex', '6ber', '1abq', '1j2m', '1myk', '1r02', '1soc', '5xqu', '1nyh', '3njw', '1bw6', '4htm', '1pij', '1a70', '1go9', '1bk2', '5urt', '1pht', '1riy', '2yvi', '1edx', '1ubq', '5ejo', '4ivh', '4gs3', '2qmt', '1fac', '3ftr', '1w5g', '3fr1', '6q5i', '4itq', '1cti', '1qke', '1j8e', '1jzp', '2fd7', '4fiw', '1mhx', '5my7', '2h41', '4r0p', '4wk1', '2qnw', '4j8c', '4i5z', '1d7t', '1zu3', '1aba', '5uu4', '1b7v', '5w0h', '1hgz', '1d7t', '6qlc', '4uig', '6h83', '1t4f', '2ezd', '2es9', '1u84', '1brf', '2q79', '4ypc', '1wk2', '3fia', '1hme', '1hre', '1cc7', '3o7a', '6h8g', '1nra', '6ay8', '2brz', '5cgo', '2ccf', '3q9g', '2m6e', '2cwy', '2fq5', '5m4v', '1b0q', '4r2q', '3l36', '6cg3', '1djf', '5f53', '2zgg', '1et1', '4e6s', '1mhn', '1fk4', '3t7l', '6m7m', '2g4s', '1hmj', '1myk', '5urt', '3q2c', '2gw8', '5cyb', '4hrs', '1mny', '3qmc', '6e6n', '5sus', '2ma1', '3dxs', '3m1e', '1hbk', '4zce', '3adg', '3hvp', '1pi2', '1k76', '4rcc', '1bdk', '5gu9', '1qkf', '6cum', '4mdq', '4hti', '1sdb', '5er4', '6mos', '2era', '4cgc', '3m0s', '3kyx', '2ame', '3pz7', '4lmm', '2eyw', '6air', '2j8b', '1enm', '1idy', '3zii', '1jq0', '1jj8', '6a2h', '4rkg', '5cuk', '2mf8', '1dfs', '2ox2', '4np8', '6dj0', '3hrl', '3ud4', '5l8z', '2jp8', '1rdg', '1yui', '6ha4', '3gv3', '1sf0', '1jb6', '4zce', '2asc', '1xak', '5tdb', '1ng8', '2ozf', '3zr8', '2c3g', '3ovj', '5goc', '1yn4', '1nag', '2f4k', '4iyl', '4aqi', '3g19', '1u9u', '1bts', '2fq5', '1kuq', '5xqv', '5hpp', '4ypc', '2ewh', '1odq', '2hvf', '3rfi', '1uny', '1riy', '4y92', '5cyb', '1dur', '3hev', '5ejo', '1bh0', '1edm', '6i1j', '6ber', '3ngp', '6h8f', '6cll', '3fgh', '4p3v', '2ccn', '4gwt', '6ipz', '2cc7', '1edx', '1amb', '3pkn', '1mit', '1zve', '2hvf', '1mfl', '4id8', '2htj', '3lt9', '5n41', '5f1t', '5yty', '1tif', '3kp8', '5gzb', '3t2a', '2ezk', '6p4z', '2oo2', '6clk', '3zr8', '2c3g', '2oo2', '5mxz', '1gcc', '5goh', '5fwz', '3q1j', '1zim', '2cc8', '3nz3', '1jb6', '1tc3', '6mw1', '2ofs', '4hdl', '2rjy', '3q9g', '4zai', '1pgx', '6h8g', '5k2f', '1wja', '6rgi', '2zga', '2ldj', '3gny', '4qnd', '5lav', '3rm1', '1a70', '3nzl', '2y3k', '1an2', '2jp8', '3hfc', '2p6v', '2nqc', '1hd3', '2adx', '3dxs', '1uo3', '5b09', '1jxu', '1g1i', '2wkd', '4r2a', '1a1z', '3trg', '6q5q', '1cod', '2jk7', '1zgx', '5xpk', '1b2e', '1tos', '5tww', '1hmj', '6gzj', '1h59', '3hvp', '4i5z', '1k76', '4fiw', '2d9r', '4yb1', '3cq1', '1t9q', '3hev', '1nag', '1ale', '5f53', '1pan', '1w5g', '1k33', '1hh0', '1awj', '1q3z', '1s29', '3d2w', '6a2q', '3nij', '3het', '4lnp', '1xvr', '1r02', '4zlx', '2oo2', '3heu', '1box', '5cy0', '6rxn', '2g6f', '1cta', '1fp0', '5rxn', '3e56', '3t4g', '1w3e', '6cg5', '6qjj', '2hh7', '5h0m', '1j5d', '6g8e', '3h0h', '3sfm', '1mhx', '1j5j', '4e0l', '4jcg', '3tjy', '6p4z', '2oei', '1dp7', '5hpp', '4lbp', '2f60', '1qx8', '3e9f', '5hkr', '1iua', '1uo3', '7rxn', '1cta', '1t3j', '2fma', '6h83', '6bwz', '5a7l', '5gok', '1csa', '3ue7', '1zgx', '1gcc', '6s34', '1jv9', '2oei', '6mrs', '2xjh', '1idy', '1qr9', '4gwt', '3hrn', '1u9h', '3m48', '1j7r', '1hgz', '4xqm', '3fdt', '4hiv', '6d8j', '3dgl', '4fe6', '6miw', '1srl', '4y1h', '3r3k', '2d55', '4icb', '1xxz', '6qyr', '3c3g', '4hti', '1ku3', '1edx', '3cqt', '5mxz', '4zlx', '4q2m', '3t5s', '3dgo', '2esx', '6cew', '3qj6', '4iyf', '5x2e', '5kl6', '2icp', '2djh', '1azq', '1y0n', '3cu4', '2j97', '1hbk', '5z41', '185d', '1dfn', '1b7d', '4w5m', '1dul', '2icp', '1dur', '1tig', '2jyp', '4jl7', '2rna', '5jn0', '6cs9', '1qsu', '1csp', '2ns0', '3ftl', '4mjb', '1dsc', '4nio', '1onj', '1ab1', '6c3s', '1wjc', '2q79', '3cmh', '5o3j', '1et1', '3khq', '2aqf', '6qlc', '1ts9', '6g5e', '4x0s', '3ovl', '4mjb', '5goc', '5yph', '3m0s', '4l9u', '6dga', '5uu4', '1pi8', '4ikg', '1sp2', '5h0o', '2xf6', '4up0', '1drz', '1haa', '6f3x', '3try', '1fp0', '2fk2', '5d5u', '3hfe', '6eex', '1w5u', '2p2r', '3tz1', '1bbl', '3rjp', '4tut', '6fbk', '3tys', '2ezk', '5jn0', '1bkv', '4icb', '6a2q', '1g1i', '4e0m', '1az5', '3o70', '2cmp', '1egt', '3zii', '1tif', '4hqx', '1dul', '2rll', '1g9o', '4p3v', '1m2m', '5zjl', '3m0u', '4yud', '4cgq', '1sne', '1lpl', '1qld', '4g4m', '1lcc', '1pks', '2ers', '4ikg', '2y3k', '5d5e', '4es2', '1whp', '6ha2', '1k9p', '1uw1', '5d5u', '2f2w', '3mx7', '5xsl', '6bdg', '5um3', '3het', '4rp6', '1mhn', '1ynz', '2ygi', '3h01', '4hvv', '3trw', '1mk0', '4il7', '4pti', '4jzp', '5nnm', '1cq0', '2nlf', '2c0w', '1idg', '6air', '1bk2', '6atl', '2cgz', '4iri', '1mny', '3zi3', '2tci', '1neb', '1mrt', '1wd0', '1omy', '4rcb', '6ekb', '2ofs', '4aqo', '1fow', '5er5', '6dga', '4kmf', '4bv7', '1ptr', '1pdr', '1ad7', '1bh0', '3qj6', '2gn5', '5y20', '2y1b', '1ttz', '6i0a', '1fk4', '3ph2', '1ucs', '3ph2', '3lwh', '1km7', '5omd', '1nte', '4bvd', '3rm1', '4xfn', '3h36', '5um3', '2oxj', '2d55', '1cor', '1cq0', '1rdv', '2ccf', '5i11', '2fcf', '1ksm', '1tpg', '6gq5', '4hdd', '5t7r', '2xji', '1ptx', '1hcc', '2ma1', '6uyt', '5f1w', '4x0s', '3co6', '2rh2', '2bn1', '1t8k', '1emz', '1hrq', '3pzz', '1iuz', '1xy2', '4up0', '4qeg', '2egn', '4zhp', '4m6e', '1bi6', '3ny3', '4lg7', '6d8i', '1yk4', '4k7t', '4hp1', '6gpm', '1zim', '6h4l', '5inz', '5fwz', '1kfm', '2m6h', '3ftk', '2g13', '4cny', '3dgm', '1neb', '2ahp', '2mf8', '2oxj', '3dgn', '6sid', '6c3f', '2m7y', '3mut', '1cka', '2ab7', '1rru', '2onq', '1b3i', '5y20', '3kyv', '6p4z', '3e21', '1f7m', '3hey', '5pti', '2mf8', '1nte', '1qwf', '5k86', '1q9b', '6akm', '1pdq', '3e9f', '1ji9', '2kk9', '6qm1', '3cr5', '1eod', '1sj4', '2md3', '3dmw', '1ynz', '6mrr', '1uo0', '1ckt', '4id8', '2ot5', '1gw4', '5go7', '3ov8', '5kue', '1zve', '1uue', '2he4', '4dzm', '4hjk', '4htm', '4bv7', '6uhg', '4x9z', '2rbf', '4r2c', '4e6s', '2nls', '1ptr', '1qx8', '5ebx', '6fj7', '1ob4', '1gw4', '3f87', '1b5a', '2axi', '6ekb', '1brf', '6rgn', '5ol9', '6ff1', '3q1j', '6clg', '1uj0', '1ckt', '1rdv', '2pp6', '5o0z', '1hgz', '3gk4', '3a02', '3znf', '6gq2', '4f14', '4e82', '1rpb', '5pti', '1nag', '1nmg', '1mzl', '6clh', '1dfn', '3dgj', '3foj', '6o6d', '3q1d', '1azq', '5e5x', '3jzs', '1ij3', '6c4o', '3eg3', '3md5', '3asl', '3gk2', '4fe6', '3g2b', '6h9q', '4hc3', '4mo0', '1aqr', '4hg7', '4a7e', '3trw', '2jsb', '5bt2', '2w9q', '6izs', '1fk4', '1m2i', '2pk8', '1o06', '1bdd', '2lwc', '6mj7', '3l37', '6f3w', '6dr6', '1go6', '3f27', '1ynz', '6cfh', '5lhw', '2ab7', '1jxt', '1ls9', '2lk9', '1csq', '1aba', '1bti', '1alz', '1a1f', '4jzp', '1e6h', '6ipz', '2kql', '3cqt', '1aw3', '1aik', '2era', '1ale', '1k48', '2ovo', '2na5', '6mha', '6q5o', '2icp', '2ckx', '1ae2', '1mea', '1hre', '3pkn', '4kmf', '1byp', '4eo1', '3ga8', '1t8k', '4le9', '3ue7', '1b9w', '2kk9', '1a32', '2qmt', '2hvp', '1k33', '6g8e', '6mgn', '3zq8', '2poi', '1pk2', '1dp7', '6che', '5kl5', '1iua', '1cch', '6ir8', '4qeg', '1onj', '1tuk', '1hme', '2p2r', '3cr5', '2adx', '3t7l', '1zik', '1mzl', '3pis', '3znf', '2ag3', '2adx', '6h5k', '1bqx', '1hcc', '2rkn', '1l1v', '2ifo', '6av8', '3lo9', '1ncp', '4a7e', '4i1l', '3trw', '1czq', '2fgg', '2ccf', '1eoq', '3u4n', '3hew', '6d42', '6h8f', '6dj0', '1m20', '4jve', '3mth', '6pcy', '1bx7', '1pdr', '1xy4', '6fc6', '6ny0', '2pxl', '3ous', '1bk2', '6asd', '1b3i', '5goc', '2cc8', '3h31', '1sn1', '1b7j', '3h01', '1m20', '4ivh', '4icv', '6h9q', '1hhu', '2f60', '1qj0', '3a02', '3o3k', '3lnq', '2j52', '4ihn', '2gyz', '6m9j', '3q9g', '3dgl', '1h59', '1j5d', '1u3j', '6qyw', '5h9c', '1nlo', '6air', '1onj', '5ax2', '6g8c', '1t3j', '4j3h', '1wd0', '3tz1', '2q9v', '4r2q', '1qx8', '3nz3', '3sfm', '1ten', '3h36', '4zc3', '1hfg', '1b7j', '3ra6', '3nit', '1kne', '5h0m', '1cvq', '9pti', '1etf', '1ceu', '1lcc', '4dnn', '2ovo', '4n1v', '1djf', '2iwn', '5nmn', '4q2m', '2g4s', '5lu3', '5ytz', '1uue', '6shk', '1mk0', '1mog', '6rxn', '4e83', '2iwn', '1zx6', '5tdd', '4id8', '4fe6', '1z21', '3dgo', '1tg0', '5h0m', '3fr1', '1dtx', '8rxn', '5yp8', '3nir', '6o19', '1bc7', '6rgn', '3k7z', '1bbi', '3m0r', '1ts9', '1pks', '1csq', '6h9t', '4iyl', '1hd3', '1dlb', '3ms6', '1j5j', '4zhp', '1wk2', '2m73', '5n35', '4ifm', '2c0w', '1wjc', '5o0u', '1o06', '4eif', '1qlq', '6dny', '2aqf', '1bf4', '4jv9', '1r7c', '1esr', '1cvq', '5ki9', '5ngn', '3tbo', '1kb7', '1qjk', '6qjj', '5xsl', '6odg', '1xmk', '3kui', '3sgn', '1yod', '1pgx', '2iwq', '1uti', '4ozc', '4icv', '5i11', '3mpy', '1xy1', '6c3g', '2asc', '2xkm', '1pcn', '1j2x', '1rwd', '1cod', '2nle', '5cum', '3q8j', '5yph', '6gpm', '3sgo', '4oix', '4lwu', '1fk3', '4oh8', '2ygi', '3twf', '5bmi', '4o7q', '3rzt', '4npx', '4bvd', '7rxn', '1dfu', '1lfb', '1eis', '4hvv', '2o1k', '1chz', '5uzn', '5d5e', '5lxu', '3gwo', '3h34', '1k96', '2ygi', '4jjd', '2drt', '3rcp', '1hoe', '4n6j', '4p6k', '3gl6', '5ko0', '4oix', '5lav', '5mj1', '5los', '2ocs', '5nmn', '3ue7', '4hhf', '5tdb', '1jru', '3mur', '4g4l', '1t8k', '1b7v', '3g19', '6g8y', '1b0q', '2m6f', '1s9z', '6ber', '1zik', '1prm', '6at0', '3gk1', '1av2', '2omp', '3kui', '5jjz', '2msi', '3dgm', '2q3i', '5fwz', '2cc7', '4mo0', '6cew', '1a7y', '1use', '4ttl', '6g8c', '1hrq', '1gkh', '6j0h', '1hmj', '4bv7', '6dr6', '6uyy', '1ncp', '3r68', '1heg', '1fas', '3p46', '6c3g', '1imx', '1bd6', '1eof', '2g4s', '1u84', '5xr0', '1btq', '4ttl', '4lbb', '2ip6', '1k96', '4c3l', '1b7j', '6atm', '5o3j', '3h34', '1srl', '2j6o', '1az5', '4e0l', '1gkh', '6qyt', '3gk2', '1pak', '3gk5', '1emn', '4hg7', '2j97', '1xy1', '2r2z', '6bew', '4g14', '3gk2', '1ifp', '5mxy', '4z59', '6dce', '2z0w', '1a1f', '5tdd', '1k9b', '1bds', '3lt8', '6a2h', '4g4m', '1bbi', '1czq', '1g2z', '1bc8', '6a6c', '1r0f', '4gb0', '1kwj', '5hkn', '1jkq', '2jyp', '1use', '6gat', '4eo1', '1ylb', '1cc8', '1awx', '4rtu', '6i0n', '5b0g', '5x3m', '2g7o', '2m6h', '6ff1', '3m48', '2ho2', '1pij', '1l1v', '1swi', '3ipn', '2izq', '1w5l', '1dtx', '1cxn', '6cll', '5ki9', '1kfm', '3dhm', '5f1w', '6f64', '5m0w', '1btq', '1yo5', '3svi', '2f3a', '5eh6', '3tz1', '1bdd', '2md3', '3gk1', '5zk1', '5fo5', '1bfx', '6b79', '4rkg', '2fbu', '6kzf', '3lmo', '5xqu', '1fyn', '6nxz', '2xkm', '6g8y', '6dny', '1qwe', '3md4', '2nsn', '2mtx', '1c56', '3fdt', '6mos', '1k9b', '2r2z', '3e8v', '3mth', '4hg7', '2gyz', '5er5', '3dso', '1jy9', '3b1l', '3uw4', '2kv6', '2ame', '3qj6', '1gw3', '2eyw', '5d52', '3l36', '3ebx', '5k2e', '1zmk', '1czq', '2egn', '5ytv', '3t5s', '2m7y', '1qld', '1qkw', '3nz3', '4he5', '1hoe', '6q9u', '2rbf', '1bdd', '4iej', '5dli', '3g7a', '5cum', '4hiv', '3p49', '1q8h', '1k34', '9ins', '6b35', '1hme', '2u2f', '4hu5', '6m9j', '4m6e', '3pz7', '5tdd', '2cmp', '2o71', '1ceu', '1mog', '3hrn', '4r22', '1ab1', '4hrs', '1a8c', '2h41', '2rh2', '1enm', '5tww', '3l32', '1hzs', '1azg', '2ymy', '4c3l', '5hj1', '4ifm', '1wja', '2fbu', '3c0f', '1mbj', '4ytv', '4rik', '1aw3', '4r2a', '1r1g', '3l1g', '1sdb', '1pnn', '5w0g', '6bxx', '1yk4', '3zq8', '3m48', '3bt4', '3foj', '1gcm', '1qwe', '9pti', '1lvq', '2n7n', '5d5u', '5afg', '5txh', '4ckv', '1mn3', '2xnr', '5fx0', '1bcg', '2m73', '6maa', '2onq', '4i67', '1l9l', '5gzb', '1eoq', '2q9v', '3mx7', '1qlq', '1ncp', '5ly5', '4rty', '4e0m', '2mc5', '1aqa', '1jq0', '6egl', '6nmw', '1ynv', '1gw4', '4up5', '1egp', '3sfm', '4w71', '1a7i', '6q9u', '4hu5', '3md4', '3rjp', '3q1d', '4r2c', '3u97', '1pi8', '1kx2', '1byp', '2o2w', '1ca5', '6pti', '5goh', '3fea', '4yud', '2lwc', '3i40', '3ov8', '1ju8', '4dnn', '4iri', '1wd1', '3nit', '2fk2', '4uig', '2pxb', '6edf', '2ds7', '1kdu', '3try', '1mn3', '3eun', '4icb', '6rgi', '6kj4', '5er5', '1oav', '4npd', '2f3a', '1eyt', '1cti', '4g14', '3dmi', '2pko', '1yod', '6j0h', '6ha2', '5mxy', '6atm', '1j5m', '6boc', '5dkn', '5hqi', '6b79', '2yvi', '1dfn', '1b7d', '3h34', '3fea', '4qeg', '5sze', '5hkr', '5k2l', '1j7r', '4y1h', '3cp0', '1ob4', '1mzl', '2n7t', '6csl', '1a1u', '3f2e', '1xxz', '1odd', '1whp', '1q3l', '4iej', '1nct', '4ncu', '5e5x', '1idg', '1ksm', '4npx', '3off', '4gs3', '1w5u', '5h0o', '2nls', '1kth', '3u4n', '1bxm', '6q6r', '1dg0', '2ifn', '3ngk', '5e9p', '4hdl', '3lt8', '2kv6', '3t4g', '4yb1', '2kk9', '4r0p', '1hje', '6a2q', '2y90', '2g13', '3lo4', '4n6x', '1r5q', '3nx6', '1nyh', '5c11', '1hgv', '4nj0', '5lff', '6ay8', '6d8j', '1f7m', '4mdq', '2ame', '3q1d', '4pww', '6cro', '1mfl', '4xqm', '2f4k', '1dk1', '4irh', '1j2x', '1bqx', '4jv9', '5go7', '3adg', '5u9t', '1ij1', '1uti', '3efg', '2f4k', '1nra', '3m9a', '4cgc', '2fq3', '6dny', '1gd3', '1zmk', '4rty', '3d2w', '2djh', '2rna', '1lvq', '5txj', '1foy', '3svi', '1qlq', '5ko0', '4f26', '3o3z', '1w41', '1u9u', '1box', '4mhg', '1omb', '1sf0', '2okz', '5usv', '1uny', '2ewh', '1j75', '2ers', '3g0v', '1m2m', '2zeq', '1bti', '6e6n', '1frd', '3pmt', '4kiv', '5efm', '1bxm', '2ckx', '3ga8', '3pzz', '2plz', '1ptr', '1d1l', '5xqv', '4cny', '1cta', '1ae2', '5g25', '3lnq', '5d5e', '6akm', '1chz', '3oiz', '1y0n', '5l8z', '1nyh', '1f7y', '4xfn', '3ce7', '1amb', '5hqi', '4lwu', '1sn1', '3cu4', '6clh', '2p6v', '5o3j', '1qjk', '1omb', '5x2e', '6egl', '1g9o', '2htj', '4iej', '1qwe', '1z21', '2jvh', '1bc7', '5k2e', '3f2e', '3g2b', '5zjl', '4r22', '4e0m', '5jyq', '3f2e', '4e82', '4hjk', '6fj7', '3snz', '2nle', '5cy0', '1kb7', '1u2h', '1w5u', '2c3g', '6sid', '1uue', '1lpl', '5m4v', '4hqx', '6nxz', '1ij1', '6qyr', '1ir0', '4j8c', '1a3i', '2jku', '1cka', '1b9w', '1ubq', '3dso', '2qg1', '3q9i', '2zga', '6c3f', '1dph', '1srl', '4aqo', '1chv', '1soc', '6gqc', '2fma', '4pbd', '1rpb', '4lg7', '2asc', '4p6k', '6a2t', '1h59', '5hkn', '1xy2', '2zgg', '1xmk', '2omp', '5rxn', '5f1t', '4nio', '3b1l', '3x0g', '6bxv', '1u2f', '6cro', '5xr0', '1ad7', '6a2h', '1g2s', '4hhf', '1b4o', '3cq1', '3qdp', '2es9', '1qr9', '2kql', '1uw1', '1hsq', '6cle', '6hg7', '4i5z', '1gxg', '4y92', '6gq5', '3ghf', '1b7d', '6cs9', '5ly5', '1xv4', '5h9c', '1qd8', '1ab1', '6nmw', '1xy4', '1b2f', '1bi6', '2poi', '5zds', '1hfg', '1fow', '3loe', '1ir0', '2odc', '3nzl', '3oq7', '6gto', '1ynv', '6cmn', '4z7p', '1cod', '2pp6', '4xyo', '3nir', '1f7y', '2fbu', '1fp0', '1csa', '1a8c', '3zii', '6niv', '3ce7', '1rru', '1an2', '2u2f', '6kj4', '3fdr', '5kl6', '3m0u', '3d2w', '1r02', '1ca5', '4irh', '5tab', '1csa', '1etf', '1mnv', '1lfb', '1fac', '2w9q', '6b35', '1ju8', '1cag', '1nlp', '3bc4', '1kwj', '3kp8', '2soc', '1bfx', '1jzp', '2ifo', '4nio', '2na5', '2ifn', '3dso', '4l9u', '2cjn', '1bc8', '1tc3', '2ozf', '1qd8', '3h8y', '3orc', '4he6', '2ho2', '3svi', '3ds0', '6bhr', '1pnn', '2b6g', '1qh2', '4mno', '2ezh', '3ppd', '5xdp', '2ox2', '2knt', '1bh0', '2iji', '4il7', '6eex', '1d1l', '1alx', '1a3i', '1c75', '9ins', '1b5n', '2sam', '1dxs', '4zai', '6niv', '1df5', '2ccn', '5cgo', '1mag', '5yp8', '3onj', '3fgh', '4pbd', '1xv4', '4htj', '1alz', '3nir', '1bi6', '4cgq', '4e1h', '2cce', '2j6o', '2odc', '1ylb', '3gk4', '4hs2', '2qg1', '4xxl', '1pi2', '2g7o', '1eod', '4uby', '1fvm', '4x9z', '1k96', '3hfc', '2jvh', '5ome', '1szt', '2plz', '5kl5', '2ccb', '1hd3', '2he4', '2nrg', '1fw4', '3uw4', '1pnn', '1k48', '1a8c', '1cag', '5jx1', '4r2q', '1prm', '2d4d', '1iua', '2rll', '3lnq', '5ai2', '1mnv', '5y46', '4cny', '2p5k', '3o7a', '1csp', '2axi', '1pht', '1xvn', '2m7y', '3g9y', '3tbo', '6mrs', '1kfn', '2d9r', '3g7l', '3l1g', '3lwh', '1bd6', '2ezd', '4zhp', '6fj7', '5z0w', '1g2s', '5ai2', '4xfn', '6mj7', '3mth', '2ifn', '5txj', '1aw3', '2hvf', '4e71', '3hzq', '2xf6', '3g0v', '1f9p', '6d8i', '3co6', '6n2u', '6nfr', '3r68', '2cgz', '1xvr', '2jk7', '3oiz', '4rik', '1jxu', '2x6p', '6mos', '5zk1', '2jxg', '6gpm', '3g7a', '6mrr', '1edm', '1pdq', '3f27', '1pij', '1aba', '5n35', '1dfu', '1hzs', '1dsc', '3hz7', '5tdb', '4akj', '2q79', '1eof', '2nml', '1j75', '1l1v', '2ccb', '4n6x', '5d52', '1cor', '1g4g', '1go9', '1m59', '6boc', '2pp6', '1dul', '6fbk', '1cfw', '3rdy', '2soc', '3gk4', '4w5y', '1xvk', '1mit', '2cjn', '2c8r', '5yj8', '2xjh', '2fgg', '1ff4', '4hrs', '4uig', '1kne', '1rwj', '3pmt', '3dgj', '4ihn', '4mml', '1bcg', '4bsp', '3m0u', '2rbf', '2e3i', '2n7t', '1bts', '4rty', '1l4w', '1hq1', '2he4', '3njw', '2f2x', '4lwu', '6n4p', '3gnb', '4agh', '1ng8', '3g9y', '5xqu', '1l0i', '6h9t', '1coa', '1mag', '2ccn', '4mml', '6g5e', '1w3m', '1u9u', '6izs', '1ij3', '1azg', '1esr', '2ers', '5gu9', '6av8', '351c', '5et3', '3kp8', '1rrb', '2egn', '4iyf', '2qyw', '5f1t', '3lfp', '1aqr', '5aui', '2cwy', '1eoe', '3f87', '5et3', '5d52', '2bqq', '5fo5', '6c3s', '6bxx', '6gq2', '2xs7', '6h9t', '3oiz', '5kui', '1pak', '1bc8', '2xs2', '1fxd', '1k34', '1zdd', '6rgi', '5zjl', '2gn5', '6bhr', '4hti', '2gw8', '1pga', '1q8h', '5txj', '1heg', '1xy8', '1cor', '1egt', '4z7p', '2f2w', '1q3l', '4b2h', '3eb5', '3e8v', '3tjy', '4dzm', '1j2m', '2cc7', '4y2i', '1c7w', '1qj0', '4jpr', '2knt', '1haa', '1alz', '4lfq', '4z59', '2k38', '3rcp', '2p7r', '1fyn', '3ovl', '1bkv', '1mbe', '4pqw', '4oix', '5w0j', '4a4j', '2bqq', '1ywo', '2mue', '6a6l', '1hje', '3ous', '3md5', '6qlc', '3ngk', '1j5m', '5y46', '2b6g', '3md4', '2p5k', '5xpk', '1crn', '4xof', '4eo1', '1kx2', '4ttn', '3k0x', '6ay8', '1soc', '5bpo', '1jl9', '4f14', '4hp1', '1q3l', '2oxo', '4mdq', '5f53', '3t4g', '5hpp', '1xak', '1i0u', '4npx', '1a56', '4eif', '1avv', '1gxg', '1crn', '2o1k', '6atl', '1t4f', '6uyt', '3gbl', '5lxu', '1qkx', '4yud', '1r7c', '3ds0', '2ip6', '3eb5', '2fma', '2gts', '1xy8', '1k76', '2mlt', '4nj0', '6uhg', '3ov8', '1riy', '2nml', '1a1k', '5bpo', '6d8j', '1xvn', '1p9g', '1lcc', '3mur', '2wbs', '4g4l', '5h0o', '2iwn', '3m9a', '1t3j', '1neb', '3nit', '1bxu', '3rfi', '5my7', '5xr0', '4mhg', '2r2z', '4o9f', '6maa', '2fht', '1df5', '4ytv', '3i3z', '5nfk', '3dxs', '3g26', '1r0f', '1hip', '2h41', '1fk3', '2y5m', '5kl5', '1ncg', '5dli', '1w5g', '5w0h', '6cew', '9ins', '3dgn', '5x2e', '1rru', '2na5', '3kyw', '4eif', '1pcn', '2g66', '2ns0', '5k2l', '1zx3', '1tch', '1ywo', '1tig', '3dmi', '5ai2', '5dea', '1w5l', '6h84', '4rcb', '4y2i', '2d55', '3e21', '6i0a', '1tcg', '1alx', '1gcm', '3q8j', '4u3h', '1coa', '1lqx', '4ikg', '6at0', '2hh7', '3lo1', '5uu4', '2mc5', '1beo', '2sam', '1tig', '5laz', '5yuh', '4n6x', '2cce', '5z25', '1wit', '1b5a', '1cq0', '4rik', '1prb', '1gkh', '1zpa', '2hts', '1nra', '1drz', '4lg7', '5eon', '6q6r', '2ezh', '5lff', '1beo', '5afg', '2xnr', '3jsd', '6shk', '5x3n', '5y4u', '3u91', '5aui', '3trg', '6f3w', '1gd3', '6bxv', '1bd6', '3r3k', '1qsu', '3qmc', '6cll', '5my7', '4ttm', '5k86', '2cmp', '3ai6', '2ldj', '1nk3', '1skl', '2izx', '3hro', '1rwd', '2xzz', '1esx', '1ttz', '5aui', '3adg', '6cle', '1mhn', '3foj', '5t7r', '6ego', '1nct', '2fht', '1qke', '1csq', '1d9a', '2q9v', '1esr', '1chz', '4r24', '4jve', '1jxt', '3hew', '1psf', '5nv1', '1bxu', '1ts9', '5nnm', '4mmj', '1ifm', '1bnz', '4k59', '6ekb', '5w0j', '1omy', '4np8', '2ahp', '2bqq', '6h8d', '6gto', '6ir8', '5laz', '1bf4', '1uo0', '1r5q', '1bcg', '4a7e', '2ox2', '1frd', '1wd1', '1jv9', '1ypa', '5efm', '6q5q', '6pcy', '1ycr', '2mc5', '4uby', '3lo4', '4w5m', '4u12', '2rna', '3lfp', '1awj', '4hdl', '2qvo', '5c11', '6fg4', '1uj0', '2mtx', '3gbl', '4xyo', '6ako', '1qjk', '1pga', '1w41', '1qkw', '1dxs', '1kwj', '4oh8', '4ifm', '1sso', '6a2t', '5kuj', '1odd', '4rex', '4he6', '4rcb', '1a70', '6o19', '1df5', '3onj', '1bxm', '4hs2', '2izq', '5mj1', '1tc3', '2fcf', '1w40', '4n6j', '1a7i', '3jsd', '5o0u', '3ud4', '1heh', '6ha4', '1d9a', '2xf6', '3a39', '5ojt', '6dk5', '1skl', '6bhr', '1imx', '3sel', '6ny0', '1mbe', '1mb1', '2cgz', '6dr6', '1rrb', '1beo', '4tut', '4ozc', '3q2c', '1azg', '5nfk', '3hfe', '4xxl', '1yk4', '5hkn', '5mj1', '6bes', '1a56', '4w71', '3l1g', '351c', '3k6d', '1edm', '1xy4', '3e8v', '5w0g', '5cuk', '1o06', '5goh', '6hg7', '2y3l', '4z1r', '1q4v', '4nag', '1b2f', '1j47', '4tut', '4aqi', '4itq', '1j8e', '1k9p', '5ly5', '3o3z', '2on8', '5jbv', '3gv3', '6h84', '2g66', '2btx', '2y90', '1i0u', '5ytx', '1mag', '3m9a', '3mx7', '6n2u', '5ol9', '1jq0', '6q5i', '2btx', '4g14', '4jv9', '1i3w', '1aik', '2ci2', '6o5k', '8rxn', '2oxj', '5whp', '4unh', '5zck', '4lnp', '6ff1', '3pyj', '3dmi', '1b2f', '5ngn', '2e3i', '6edf', '1b0y', '3zi3', '1d1l', '1cc8', '6mgn', '4lmm', '5c11', '2zgg', '5whp', '1ij1', '3brl', '2ffm', '6b35', '5t1g', '3njw', '1oks', '1rgv', '4aqo', '4q2m', '2n7n', '3ipn', '2g6f', '1emz', '4j3h', '1zx3', '3pis', '1t9q', '6bdg', '4w5y', '1kfn', '5gua', '3p49', '1r1b', '5nv1', '3uw4', '3co6', '2nqc', '1rwj', '6cfh', '1j5d', '2f2w', '3kui', '4x9z', '6fbk', '2ccb', '2qmt', '1sso', '5k86', '3twf', '5omd', '6atl', '1i0u', '1u9h', '3hrn', '4m6e', '4k59', '1btq', '4uby', '1hbk', '1w3e', '2era', '1aqa', '2nsn', '6o6d', '6csl', '3tjy', '1ten', '2drx', '3ju0', '1jic', '185d', '1w5l', '2g66', '1a1u', '1pi8', '2ezh', '3twf', '5ojt', '3gnb', '5mxz', '3c0f', '6i1j', '1pi2', '5en9', '1foy', '5b0g', '2f3a', '1u3j', '4ivh', '5xdp', '3hjd', '1t2y', '6c3t', '5gua', '3iwl', '1nlp', '6c4o', '3lt9', '1ng8', '2y3l', '1hip', '6av8', '2o71', '2gyz', '3i3z', '5efm', '2kql', '3fia', '5ki9', '1mny', '2mue', '1a56', '2pk8', '2ifo', '6n4p', '1m59', '1qr9', '4rtu', '1msi', '3iwl', '1bbi', '3ss2', '2wbu', '2ahp', '5mxy', '6a6c', '8rxn', '5ome', '5cum', '5o0z', '6iie', '1r5q', '1a1u', '6e6n', '3tbo', '1hhf', '3ngk', '3q1j', '1gxu', '3hms', '1b5n', '3ngp', '1msi', '4ckv', '6clk', '3pcy', '6d42', '1jxu', '5o0u', '2hts', '1hgv', '1r1b', '1ub9', '5t1g', '6uhg', '5jbv', '3cmh', '1cc7', '1cvq', '1hsq', '4bvd', '5m0w', '6qyr', '2fd7', '6a0c', '3fia', '1f9p', '2hvp', '5d2s', '1hhz', '2bs5', '1itt', '1txa', '1hq1', '2fq3', '1ifp', '6s34', '1sna', '3l32', '1jb6', '1meq', '1c75', '6ha2', '4xxl', '3orc', '6g8c', '6ako', '1ijv', '1sap', '3ny3', '3ms6', '1ixu', '3q2c', '2k38', '1av2', '2xbd', '3ifm', '1fre', '1m59', '1a7y', '3loe', '1a1f', '2md3', '1j7a', '5w0j', '1zu3', '2ffm', '1b4o', '2ot5', '4e1h', '351c', '2odc', '5tww', '2buo', '6m9j', '1i3w', '4jpr', '1cch', '1sap', '1gd3', '4mml', '3eb5', '5cgo', '1egp', '6bes', '1ubq', '2kv6', '1xvk', '3ifm', '1fre', '1abq', '1awx', '1y0n', '2hl7', '6i0n', '3lwh', '3ngg', '5kue', '1w40', '2u2f', '1egp', '1ju8', '5bmi', '6dce', '6fg4', '2g4m', '5zds', '2fgg', '2ns0', '1kdu', '1ucs', '1e6h', '2q3i', '1gxu', '3gl6', '1cc8', '6cro', '3ds0', '5b09', '1nlp', '1a1k', '4r22', '5i11', '3oq7', '5y4u', '4f14', '2esx', '4ttl', '6f64', '1p9g', '2oxo', '3w8v', '6edf', '3mut', '1j47', '2msi', '5jx1', '4agh', '2fk2', '3qmc', '2d8e', '2rjy', '5y20', '6clg', '4mo0', '5h9c', '2jk7', '4nag', '2m6e', '1jzp', '6cfh', '6c3f', '1rpb', '4z1r', '2rjv', '1w41', '1wk2', '2djh', '6izs', '6gqc', '1fvm', '1ptx', '1psf', '5nv1', '2mlt', '6bwz', '4ytv', '3p46', '3snz', '3qdp', '3nij', '6o19', '2fd7', '1mrt', '3gv3', '5et3', '6mj7', '6q5o', '3bc4', '2y5m', '6d8i', '4i67', '1ub9', '5ytz', '3hev', '5zck', '2w9q', '1hhp', '2qnw', '1jkq', '1heg', '6a2t', '1mog', '4z1r', '1rop', '6evl', '4e82', '5ejo', '3pcy', '2ooa', '3u91', '1gxg', '2ozf', '6clg', '1pdq', '1nct', '3fr1', '1fw4', '4xof', '5m0w', '5omd', '5txh', '1uo3', '3dgm', '3gny', '5jyq', '1mk0', '5n41', '3m0r', '1s29', '1kp6', '6cg5', '1ixu', '1dsc', '3rdy', '4hc3', '1r1b', '3hrl', '3hjd', '3bc4', '4nj0', '2xs7', '2bs5', '6ipz', '5z41', '1awj', '4hvv', '5d77', '3hms', '1i92', '1a1z', '1alx', '1c56', '1m2i', '1r7c', '5eh6', '3ppd', '4ttm', '6miw', '3khq', '1fk3', '1sn1', '1sf0', '2mtx', '2qyw', '4es2', '1nmg', '2j52', '1k34', '1gcc', '5yj8', '1fas', '4pww', '6c4o', '1box', '6mrs', '5jjz', '3msi', '3jsd', '4lbp', '5t1g', '1nlo', '3u91', '3n4y', '1xy8', '1b2e', '2npl', '2ho2', '1zve', '2rll', '6h9q', '6bdg', '6c3s', '3brl', '3gny', '1qkf', '4n1v', '4hs2', '1avv', '3fdr', '5t7r', '1j75', '1z21', '4p3v', '2drt', '4hp1', '2f60', '3fgh', '1yn4', '1mbe', '1kth', '3mur', '1iuz', '2j52', '1yn4', '1hrq', '1b7v', '6a6l', '5pti', '1hhp', '1brf', '1bw6', '2rjv', '2ag3', '6bxx', '5er4', '1jj8', '4zey', '1wd0', '4mjb', '2xji', '1cs9', '5ko0', '5kui', '3ud4', '1g9o', '2qbv', '4g4m', '3ovj', '4msi', '3lfp', '5nnx', '1ale', '2btx', '1zgx', '1q4v', '1sip', '6h8d', '1hhz', '1hcr', '3fdr', '3a39', '4r2c', '1hhf', '4a4j', '6ny0', '1w3m', '1szt', '3kyv', '5d77', '1lou', '1tpg', '1bx7', '6at0', '2ymy', '1ucs', '9pti', '1mn3', '2n7n', '4y92', '2xen', '3g26', '3pyj', '3eun', '1sap', '2pxl', '3pmt', '1q3z', '3ldd', '1hhu', '2xkm', '4he5', '3efg', '3het', '5ytv', '1hh0', '1hhu', '2ckx', '1ylb', '2p7r', '4cgq', '2izq', '4rkg', '2es9', '4n1v', '1g2b', '1hoe', '2xzz', '2oxo', '1dg0', '2dob', '1km7', '3ftr', '1hfg', '1rgv', '1whp', '2qvo', '2cce', '2oei', '3msi', '4es2', '3ftr', '2m6e', '1l0i', '1fvm', '3ju0', '1ywo', '1dk1', '2gn5', '5nnm', '1zx6', '6gq5', '2g6f', '3cp0', '6h8g', '1frd', '6po6', '3dkm', '4rtu', '5gua', '1xy1', '2yv4', '1bds', '4rex', '3zq8', '3k0x', '3i18', '3o7a', '3n4y', '1foy', '1hcr', '3f27', '3eg3', '1kuq', '3fea', '2plz', '1ae2', '3heu', '3h8y', '6h8d', '3asl', '5whp', '2y1b', '2ovg', '3ppd', '2wbu', '4dzm', '1emz', '3o70', '1cka', '1uo0', '4ckv', '5zk1', '2d9r', '4h33', '5usv', '6evl', '4i1l', '2oqk', '1c6r', '6c3t', '2m6h', '3loe', '1ixu', '4iyl', '4msi', '5gu9', '3hey', '1awx', '2ab7', '5jn0', '3oq7', '4hc3', '5ytt', '4b2h', '5z25', '2d4d', '6s34', '4jl7', '2jku', '1jl9', '1qkw', '2qvo', '5jbv', '1qsu', '3pyj', '1tch', '5a7l', '1sip', '1omy', '4mno', '3ifm', '6uyt', '1l0i', '3trg', '1c6r', '1m8l', '2fq3', '4nag', '2z0w', '2mue', '1dlb', '5uzn', '3gwo', '5nmn', '4bph', '4wk1', '1prm', '4wk1', '1pk2', '5n41', '3m0p', '5afg', '6kzf', '3m0p', '1bbl', '7rxn', '1kdu', '1xak', '1uny', '5yvx', '1dk1', '6g5e', '1c7w', '4ncu', '1b69', '5hkr', '6g8e', '3i18', '2iwq', '2ezd', '1nte', '1jru', '4jpr', '1fwp', '2n7t', '6evl', '5gok', '6i6w', '3lo1', '4k59', '3w63', '6cg3', '3bt4', '6bwz', '3lo1', '5ihk', '1kp6', '2lwc', '4zc3', '2gw8', '6clh', '2aqf', '3rm1', '6cg5', '5ax2', '3pzz', '1wd1', '3hrl', '1g1j', '5urt', '3w8v', '6pcy', '1qd8', '5um1', '3bt4', '4qnd', '2m73', '2izx', '5lhw', '3hzq', '5lu3', '4np8', '1sp2', '1wja', '3try', '1j5m', '3g7l', '1cxn', '4up5', '2omp', '2okz', '6mw1', '4hdd', '1g2b', '5ytt', '3i3z', '1zim', '1ifm', '1b9w', '4e6s', '5usv', '2x6p', '1enm', '2gus', '5xdp', '2xji', '4ozc', '2buo', '2j8b', '6g8y', '2cjn', '1hje', '1heh', '1w3m', '4pbd', '2zeq', '2eyx', '5jx1', '1haa', '1ca5', '5ome', '1a32', '2eyx', '4l58', '5o5i', '2y1b', '4lnp', '1j2x', '3pkn', '6asd', '3w63', '5kue', '6h4l', '2qyw', '3x0g', '4e71', '4aqi', '4ttm', '5ojt', '3rcp', '5lu3', '1xy2', '6gto', '1qh2', '4x0s', '1c56', '3cu4', '1w5h', '2d8e', '5los', '3orc', '1u9h', '1hzs', '2ocs', '1wit', '1idy', '4o7q', '2qnw', '1ksm', '3ngg', '6dga', '5ebx', '1kp6', '3sgo', '6qyt', '1p9i', '1fre', '1k9b', '5u9t', '5o5i', '6ha4', '1iuz', '3dhm', '3l32', '2zeq', '5e9p', '1chv', '3g2b', '3q9i', '2eaq', '3w63', '2cwy', '6cmn', '2jxg', '2eyx', '2rjv', '6n2u', '4jcg', '4htj', '2rjy', '1rop', '3kyx', '1emn', '4il7', '4msi', '5yp8', '5um1', '1wjc', '3dgn', '3hz7', '3khq', '1r1g', '3hey', '2afe', '5xpk', '6q5i', '4akj', '2iwq', '5dea', '1dph', '4hiv', '1dfy', '4k7t', '1bts', '4lfq', '4xqm', '5lxu', '1hsq', '1ttz', '5txh', '3gk5', '5y4u', '1ob4', '6nmw', '4zai', '1c7w', '2ovg', '1m2m', '4ypc', '2m6f', '5en9', '1cbn', '1jv9', '4w5m', '1zmk', '6cf4', '3dgl', '6cle', '1m20', '1bqx', '6d42', '4qnd', '6bxv', '4cgc', '3md5', '4u12', '6cg3', '2drx', '2ovg', '1dg0', '6cf4', '3k7z', '4jjd', '2wkd', '1emn', '1ypa', '4mno', '2gts', '4jcg', '5yuh', '1swi', '2pxb', '1xvk', '3ftl', '6gzj', '1djf', '1j7r', '2ot5', '2on8', '6ego', '1t2y', '1fwp', '2pko', '3hvp', '3o70', '6maa', '4kiv', '3a02', '2xen', '1fxd', '1sna', '1sj4', '1bds', '6o6d', '2xs2', '5er4', '2ooa', '2fcf', '1a7y', '1jnt', '1ifp', '3k0x', '5z25', '1lfb', '4lbp', '2yvi', '4itq', '3dgj', '1m8l', '6csl', '1d9a', '2jvh', '1omb', '1meq', '3ngp', '4irg', '3pis', '2j6z', '5kuj', '1zpa', '1ypa', '4hu5', '6bew', '1g2z', '4zlx', '2xbd', '2ip6', '1kuq', '4c3l', '1pfi', '1dur', '1t9q', '1km7', '3ftl', '4hdd', '5cuk', '5fx0', '5cy0', '6nfr', '2hl7', '6fgr', '3dgo', '1jy9', '1mb1', '6akm', '4zey', '1b4o', '4l9u', '4ttn', '1g2z', '2pde', '1oks', '1m2i', '1crn', '4p6k', '4rcc', '1lqx', '4oh8', '1heh', '1prb', '4ihn', '1mrt', '6qm1', '5a7l', '2okz', '6bew', '4o7q', '2pde', '1q9b', '6ako', '6asd', '5cyb', '5l8z', '4htj', '2nqc', '1f7y', '1csp', '5lav', '2d4d', '1s9z', '2qg1', '1dlb', '2nls', '3r68', '4lmm', '5ytx', '3ny3', '2xs7', '1p9i', '1az5', '4he6', '1jnt', '3mpy', '1tnm', '4y2i', '1a32', '2bn1', '3snz', '2yv4', '2b3c', '1orc', '2soc', '1ybz', '6cf4', '2b3c', '6h84', '1nk3', '1a3i', '6h4l', '2psr', '3gk5', '1b2e', '1mb1', '3dkm', '3l8l', '1b5a', '1fow', '3lmo', '1zdd', '6miw', '1amb', '1wit', '1ceu', '1fas', '1swi', '4le9', '1xvr', '1ijv', '3qmi', '2ocs', '1mnv', '1dfs', '1ycr', '3asl', '1gbq', '5go7', '4k7t', '3qmi', '2bzf', '1k33', '3gl6', '6j0h', '1j7a', '3nzl', '2rkn', '1cad', '1cbn', '1dph', '4f26', '2pxl', '6f3w', '1fwp', '1ji9', '5yj8', '2g4m', '1eoq', '1ifm', '6mha', '1t2y', '2ds7', '3ous', '6dk5', '4irh', '6q5o', '5uzn', '3g7l', '4zey', '5los', '3onj', '6che', '4gwt', '3jzs', '1itt', '5inz', '1coa', '1ncg', '6i6w', '5sus', '4n6j', '2iji', '2drx', '3znf', '1zik', '4e83', '5e9p', '3rjp', '2rkn', '5k2f', '5bt2', '3k7z', '3kyx', '5ol9', '5fo5', '4icv', '1j8e', '6iie', '1lou', '4o9f', '3h31', '2pko', '5hj1', '1eod', '6a6c', '3c3g', '1ckt', '3c0f', '1l4w', '6m7m', '1q8h', '2p6v', '4dnn', '5bt2', '3o3z', '1bc7', '2wbs', '2msi', '2ezk', '4hqx', '1bxu', '6a0c', '4ttn', '3cr4', '3sel', '1cad', '6h5k', '2gus', '1gbq', '3t7l', '2afe', '6cum']\n",
      "4380\n"
     ]
    }
   ],
   "source": [
    "source_a = '/media/the_beast/A/mathisi_tests/data/sample_100/direct_neighbour/'\n",
    "tag_list = []\n",
    "tag_list.clear()\n",
    "for root, dirs, files in os.walk(source_a, topdown=False):\n",
    "    for name in files:\n",
    "        tag_list.append(name.split('_')[0])\n",
    "print(tag_list)\n",
    "print(len(tag_list))"
   ]
  },
  {
   "cell_type": "code",
   "execution_count": 42,
   "metadata": {},
   "outputs": [
    {
     "name": "stdout",
     "output_type": "stream",
     "text": [
      "['5oai', '1wm2', '5gob', '3e0e', '1j55', '1sh1', '1h98', '5k7n', '5umv', '1dft', '5fgm', '3r65', '2n28', '3po0', '2pnv', '4b6w', '2p4t', '2w4p', '316d', '2xdc', '2msa', '1cwz', '6ay7', '1ob6', '1dfe', '6bf3', '1ljo', '3ca7', '1e9w', '3j6c', '4nw3', '3lvx', '4rbx', '1zzk', '5mas', '1rh4', '5law', '2ab3', '1bdw', '5w4j', '5jbm', '1c8c', '1ifj', '2zw1', '1ca6', '1nmj', '1hhc', '1idi', '3mxh', '3sny', '4god', '5z02', '1i3j', '6a0a', '4ml2', '1unx', '1dn3', '6mpn', '1k8m', '3o3y', '1skn', '4hjd', '1tin', '2fk1', '2mty', '4bkg', '5wqr', '5uxt', '1mid', '4m1p', '6uyq', '1d5q', '5i6a', '4f2i', '1mid', '6h48', '4euy', '1gk7', '2dpr', '3i35', '5k07', '1hpi', '6g9g', '6rx1', '4eid', '2m1f', '3hmr', '2fi0', '2j6f', '1igv', '2fk1', '1gcn', '2jue', '1j2l', '4w5p', '2muf', '1e9w', '5dma', '1yx7', '2bb8', '4rp7', '5wlf', '1ifn', '1yg0', '5w9s', '4euy', '1b07', '3wit', '1dme', '1rb9', '2e1e', '1qqv', '5eka', '2jp3', '1wo9', '5kb1', '1zuu', '1hym', '4r8i', '6aty', '5suu', '1x8y', '1dn3', '1dgc', '5w9s', '5o75', '3qmb', '1ay3', '1wzb', '4bdx', '6ben', '3pdg', '1hta', '3nkj', '1jj6', '2akf', '4i9o', '1uha', '1fk1', '1opc', '5zkl', '2n7o', '1k8m', '4aeq', '1odp', '7pti', '3c3h', '4fc1', '4mn3', '6cfy', '3pdv', '2y9u', '1uln', '4xp8', '1tov', '4xyp', '1yjo', '4rwc', '1oot', '3l1x', '3uc8', '4p6j', '2hpj', '2jyl', '5d2q', '1irn', '1jxy', '5l23', '1unx', '1rju', '1j1v', '2crt', '1coi', '1unz', '6jcc', '2ab3', '1pid', '1bq8', '2rk5', '4oml', '1dfz', '1bl1', '1igv', '1cit', '5dsu', '1ym8', '3lae', '2gi9', '5w52', '6n7o', '5zxf', '6hvc', '2gi9', '3rz6', '4i9o', '3egu', '1jab', '4n7f', '3jzk', '1f03', '3bpu', '1bba', '1nnx', '1etn', '6cq7', '5joo', '2wrx', '4ovo', '3q9p', '5d5w', '1ccn', '1hta', '2msj', '1lr6', '2mua', '2rhf', '6cnu', '6kj1', '1h02', '3ca7', '6qqg', '3q9p', '1ifj', '4iye', '2il4', '2y2y', '5ke6', '1zyw', '1b5b', '1cnr', '2j70', '3u2b', '1lac', '4hbf', '5nfl', '1eds', '5gob', '6h48', '4hwj', '5oc5', '4nib', '6gs3', '5twi', '1i3j', '1ogw', '3fth', '1o51', '1pk4', '3trv', '4q2q', '4oz7', '6akk', '3iqq', '1uz9', '3w66', '6clt', '1yjo', '1bm8', '1rh4', '1bx8', '2xmf', '451c', '1dvc', '4qxx', '5sur', '1lxe', '2ws4', '2hi5', '2mss', '3kde', '1b01', '5fr6', '1jk4', '3ndq', '4xdx', '1gjg', '6q61', '1zzn', '4uu6', '1zy6', '3i35', '6clj', '6nla', '6h88', '5mgm', '4mls', '2f2v', '1iet', '4fxc', '4oml', '3bo2', '1dhg', '2fb0', '3w5x', '6nla', '2mc6', '5ilv', '4hb1', '1wtq', '4nib', '6dix', '4bnc', '4hbf', '1iu6', '1cre', '1gq0', '5exh', '2r8n', '1gxt', '2wrv', '1unm', '4wjn', '2b8i', '1ckb', '1t1d', '2xz2', '2x1f', '1b6w', '1irn', '5umv', '1ho2', '6be9', '2pxu', '1jek', '3dg1', '1ovx', '5l87', '3ifd', '6cls', '5oxh', '1ris', '5joo', '1yx7', '2i5m', '1fan', '3fth', '3p2x', '1tgg', '2iim', '2omm', '3lvx', '3sgm', '1jyu', '1bx8', '3ltc', '3egu', '1ppt', '4rof', '1ogw', '5kug', '4kvu', '5lfh', '4e1i', '1j1v', '1qvl', '5u5b', '1pk4', '6jnl', '1c0q', '2ol9', '3dwu', '1e5b', '6d2h', '2rb8', '6ava', '3iuf', '5dkq', '1lr8', '2mor', '6h85', '1seg', '3jrz', '3u23', '1cya', '1l9a', '2w4c', '3ulh', '2ju2', '6n7o', '1yu8', '2mrb', '4wpy', '1dvc', '1gdc', '4niz', '1zyw', '3lae', '5x1g', '3mi7', '1gzz', '2g6q', '3efu', '4kmg', '1r7j', '1zp8', '5hpr', '1fbr', '6cnu', '1uva', '6h8a', '3d9u', '2qic', '1hry', '1rlq', '6nb9', '2ywk', '1kl8', '4hvu', '4mdn', '2mor', '5nw3', '3kzd', '2m6d', '1k3h', '5twi', '173d', '2fj9', '2mc7', '3h5f', '3e8y', '1e9w', '1gdc', '1ow5', '3fe7', '4fu6', '1a1i', '4xal', '4omn', '6ben', '3u71', '3c3f', '4k75', '1zeq', '2f15', '6b17', '1fh1', '1p0r', '6g9g', '4euy', '1bpi', '5hck', '1y50', '2pne', '1dk3', '3cwi', '2j70', '4iye', '1lng', '1eig', '4znn', '4d3g', '5sut', '4jjb', '2wpy', '1hry', '3ait', '3nih', '4fc1', '1zeq', '4n1l', '3wcq', '2ab3', '2x5t', '1hh3', '1sn4', '1gv5', '3i5r', '1uo1', '4hn7', '4zmk', '1r7e', '3ait', '3nhd', '2m6d', '4hbf', '1q8b', '3bo2', '2pk4', '4fdb', '2e1f', '1xt7', '5iiw', '3hts', '1i3j', '5yc3', '1b07', '1lvr', '3bo4', '1b0x', '6ins', '6h88', '5msi', '1ehj', '2fi0', '1hhc', '1mkc', '1c53', '4jjc', '4pr6', '5yts', '6q5k', '3cwi', '2dpr', '1t7b', '4mls', '5yts', '5oll', '2lpf', '1unt', '6i09', '1hdp', '1rgj', '4qk7', '4crh', '1ubi', '4qxx', '1e9k', '4q8d', '5i5b', '1coi', '3kyy', '3ft7', '4zmk', '1nhm', '6uyr', '3e8y', '1hp9', '6f3v', '3fq9', '4b2k', '3rz6', '1tov', '5k07', '2c8q', '3hj2', '3w60', '1ffm', '1yri', '1uo4', '1ow5', '1ql1', '5kkv', '6dl1', '3r65', '5goj', '2yx8', '2jxi', '1k5o', '4d5m', '1wkx', '1ich', '1epi', '1mho', '6fc5', '1rh4', '4ddj', '4mn3', '3qii', '1gzy', '4f16', '3ge2', '1wfb', '4dzn', '1io6', '1yqb', '6ich', '3kqi', '1lng', '2wq0', '1who', '1gxt', '3d2n', '4oy5', '1utg', '1cc5', '4q8d', '5hsp', '6g55', '2mua', '1etl', '3nkj', '1ifj', '6qb2', '5a7u', '1io6', '1lqh', '4omn', '6kj1', '4j9c', '2jp3', '2g9e', '2bf9', '5u59', '5y18', '6mk8', '3g1e', '5xsg', '4qe9', '1nil', '4ab0', '1lb0', '4r7e', '4x3h', '2acy', '6ay7', '5y3c', '4n1l', '5kug', '1dxg', '3po8', '2erw', '5kkv', '3nhd', '6mpl', '3s0r', '1h98', '1baj', '3e4h', '1uo2', '6b17', '3a38', '1yd2', '3exy', '4w92', '6ei8', '3wcq', '3e7u', '1kqe', '2x1f', '4gif', '1gjf', '1jyu', '6od2', '1b2j', '4b2m', '3shb', '4r8i', '5wkd', '6nfs', '4hvw', '1gk7', '3s64', '5wd9', '4rtv', '2pq3', '4ynx', '1eva', '1sjf', '1tpm', '1ttg', '2m1f', '3idw', '1iqs', '4esf', '1j4m', '5bum', '2bk8', '1r7g', '3u5v', '4b2k', '5k9p', '2plh', '3il8', '4j9c', '6uyr', '2bf9', '4x1v', '4z0o', '3j0r', '4fdb', '6e33', '1dfz', '1wm3', '451c', '3c1p', '1j2l', '1jo4', '3luu', '4z0w', '1e6g', '4tl1', '1byz', '2pya', '1fk5', '1bo0', '6jza', '1y49', '1t7e', '4m1p', '1unt', '2o3g', '3pdv', '1px9', '2wnm', '6iqe', '1l3q', '3h33', '1pzw', '3e0e', '1lr9', '4s2q', '5nfm', '1r6j', '1bq9', '6axz', '2wnd', '6ats', '1rb4', '5uhr', '2jyl', '3ofw', '2cwr', '1uj8', '6cld', '3qmh', '1gk7', '3n32', '6ds6', '1sn4', '6fhd', '1fb7', '4gjf', '3h6c', '1off', '2mor', '2ywk', '2lpf', '4qq6', '6h89', '1uxc', '2o6n', '5kb0', '1dng', '4uut', '4z0w', '4nip', '3a0s', '3nih', '1q7o', '2ldc', '3zzr', '5d2q', '1utg', '5w4i', '1ei0', '1hp8', '1lac', '1jzb', '3zzp', '1r0g', '4tv0', '1u06', '1gzy', '1mp6', '2r1c', '5kl3', '2cc6', '2erl', '1ptq', '4oy5', '3t4r', '6i6e', '1or5', '1op1', '5hir', '3g1e', '2g0c', '6q5h', '1zdb', '4mn3', '1iyu', '4h8f', '2nmq', '2oqq', '6uyq', '3exc', '1pyz', '2jia', '1nyj', '4efx', '4r0w', '2hdz', '1tud', '1o51', '6de9', '2gnk', '1iet', '5d2q', '1nru', '1zaa', '3a0s', '2r9i', '6clt', '2z17', '1c0q', '4f42', '2e1f', '1upj', '4m9e', '1y0m', '4es3', '3swb', '3ov5', '2y1y', '4rtz', '4r0u', '3fpo', '2ajo', '2wor', '1hnr', '1ubi', '1cit', '5uxt', '1hh3', '6axz', '1lac', '2qti', '1seg', '2duy', '1pjd', '3azd', '6h8i', '2xsk', '1uo4', '5msi', '3kvq', '4lhf', '1idi', '4eic', '2mkn', '2eg2', '1yd5', '2oxk', '6ky4', '1uha', '1a7w', '1fk1', '4nj1', '1iu5', '6ctg', '1pdc', '6q5l', '6cmh', '5y18', '5suu', '2oai', '6g6a', '2d46', '4zqa', '1unm', '6avc', '1pwt', '2pxu', '4ncw', '4dzk', '1yd0', '1ef5', '1kl8', '1unt', '3oqa', '1qr8', '3ov5', '4gmq', '3kqi', '3bzq', '1u3y', '3ulc', '1ij2', '1smu', '3lo6', '4y0l', '1edk', '1tov', '3f4z', '5y3c', '1yg0', '1eq7', '1sh1', '1jxd', '1qjh', '1a1w', '3kzd', '5fwc', '316d', '3lk1', '2xz2', '4oaj', '3lde', '1u9p', '1b2g', '2cdt', '2wrx', '1era', '2y3j', '4hwj', '3irw', '4uu6', '2erw', '5w7v', '3bbz', '1k8m', '3h6c', '1t7h', '4by8', '2y9u', '3hmr', '3h8h', '6jza', '2ds6', '2ewt', '2onv', '2bzx', '1iq9', '2il4', '2wrv', '2ibj', '2hdz', '6nw1', '1joh', '6i31', '4h8f', '4ar5', '4xfo', '6be7', '6e6r', '1ifd', '1caa', '5ob1', '5o94', '1xy6', '1zv7', '2m6d', '6uyv', '1awy', '3zee', '6ava', '1iq9', '1jxw', '6fx3', '4n1l', '2o6n', '3u2b', '1uj8', '5a7u', '2d0s', '5kb0', '4gyx', '1kw4', '6cln', '6htl', '4h4n', '3go3', '6ins', '4tv0', '6i05', '1u3y', '4pas', '1tjb', '5yc3', '1iyu', '3a0v', '3rdn', '1nmj', '2qdq', '6be9', '2xz2', '2d4f', '4hp3', '4qe7', '4bs3', '2wnd', '5k2g', '3pdg', '5mpv', '4p4v', '6g6d', '1w2l', '1jo4', '5af5', '6mpn', '4hp3', '3ic4', '4nj1', '6bf3', '2eg2', '3i35', '1awy', '1dt4', '1xt7', '4h4n', '5kl2', '2af8', '6fm8', '2w0z', '1os6', '5nvg', '5yrx', '1j2l', '5gog', '1qr8', '3p2x', '1hha', '3al1', '5gy6', '1ho2', '3nds', '3idw', '4gwv', '1dft', '2pxk', '1wo9', '4i9o', '5de8', '3g27', '1azp', '1skn', '4bvc', '1eq7', '5nvg', '1ppt', '5e4x', '5fwb', '6clf', '6mmc', '4ou0', '3lgc', '5ycw', '1fw5', '3dsp', '4hlb', '5l9n', '2ptv', '5fwc', '3ons', '3s64', '6i6y', '1xof', '1fd8', '5yc3', '5yv7', '4prf', '5u6z', '5z9z', '2jgo', '3bn0', '1nyj', '6q5k', '1fhm', '3ofw', '1pi7', '2w4c', '6fx3', '4p0c', '4mdn', '1ifn', '2o31', '2w4f', '3po8', '4npn', '5dom', '1hpk', '4kmg', '2ccc', '1y50', '4fxc', '1aho', '1ca6', '3fq9', '3iqq', '1dvc', '1q3y', '3kiv', '1hh3', '2msj', '4ur4', '6s3f', '4h4n', '193d', '1qoj', '1hod', '6mpl', '5znx', '1dfz', '2ont', '3h5f', '5nnt', '2y2y', '1ctf', '1kbs', '4crh', '2hzc', '4gu2', '1j9n', '1ntn', '2r1c', '5uvr', '3ulc', '5lfh', '6uyp', '5znx', '4ar5', '4zyi', '1gzr', '4hvu', '3ree', '2f2v', '3kiv', '1wv8', '1ctx', '3ovo', '6o5w', '6q5k', '2acy', '1j5k', '4q2q', '4rtv', '1lr8', '2oj3', '6o2f', '1uo2', '6hao', '5m2k', '4f25', '2qff', '6h87', '1unz', '2nmq', '1i8c', '3ow9', '2mrb', '8ame', '3jzp', '2bb8', '2h46', '4hvw', '3svm', '4f2i', '1u9p', '4rtv', '1x8y', '4f2l', '3c3f', '6qqg', '2xeu', '6ay7', '3s6w', '1d6g', '1cw8', '4ou0', '2efa', '1unx', '6kzu', '3lqx', '1yri', '5klf', '3cec', '5ith', '2xus', '2igz', '6cld', '3ssu', '1kqe', '1qbf', '1bba', '6njg', '2fla', '5klf', '1jni', '2ins', '5sur', '3rd2', '6o2e', '2g9e', '1j5l', '1fsc', '4rbx', '4r2p', '4ur4', '6bf5', '6g55', '1fbr', '2ont', '4tl1', '6cbu', '1opc', '1aho', '4fu6', '5j0i', '3ce8', '6cbu', '1r0i', '4f25', '1a3j', '1etn', '1hnr', '1hpi', '1tkq', '3hon', '1u9p', '3p7k', '3msh', '4pz1', '2ju2', '1je4', '3u71', '5l23', '2jnr', '3dnc', '4wb4', '1dol', '4efx', '2q2k', '4rxn', '4qe9', '1kef', '1zeq', '1fca', '3tq2', '1bxv', '1xy6', '3q9h', '5d14', '1fh1', '1gvd', '1df4', '4qk7', '1gcn', '3lqx', '5od1', '2c60', '2jgo', '5j8p', '3hon', '6h85', '1p7e', '2oxk', '4esf', '1piq', '2qt4', '1wz5', '2eg1', '4hp2', '1hy8', '1joh', '6qrk', '1jjd', '1ixa', '3adj', '1kbs', '2ehs', '6hao', '4q63', '6nb9', '2x7z', '4gjf', '4k9f', '3cr2', '1j6q', '2bus', '4ddj', '1hha', '4ncw', '5e21', '2q2k', '4es1', '2rhf', '1caa', '5x1g', '1fan', '1bl1', '2cc6', '5msi', '3g21', '5mg9', '1a2s', '1lms', '4d3g', '3pdv', '1ris', '4neo', '5hck', '4tto', '3rjs', '3w19', '1oai', '5af5', '6njg', '6rx1', '3lde', '6jnl', '6i0q', '5l23', '3moj', '1mkn', '3o3y', '5iiw', '1qm7', '1pfp', '6nce', '2n28', '4r0r', '6cg4', '6iw3', '2rk2', '3nvh', '1gvd', '3sol', '1epi', '4iuf', '3t46', '1bl1', '5i55', '3ovo', '2oai', '1mkc', '4ipf', '6e33', '3adj', '1sjf', '4mpa', '6ogk', '1z1x', '1uo1', '6ds9', '4iye', '1sbu', '3qii', '2e3h', '1i27', '1biv', '5fw9', '3lbk', '6cmh', '1d8k', '1zdb', '2jgo', '6akp', '6m9i', '5fgm', '2ict', '3cw3', '4qe7', '4wol', '1hg7', '3zhi', '1imq', '4bkg', '2w4f', '3h6c', '3g21', '2ww6', '4qt7', '1j7b', '4e0n', '6fc5', '5awl', '5oxh', '4rof', '5usp', '4kmg', '3t46', '2ict', '1t7b', '4pz1', '2dsx', '1l5d', '1nfj', '1dk3', '4wjo', '1edk', '2cwr', '1ow5', '1zva', '1doq', '2oai', '6o2e', '4jjb', '1px9', '4npn', '1f03', '5jrt', '1h75', '6nw0', '1k18', '2xmf', '5d78', '1xok', '3w61', '3wmi', '4lh9', '2q33', '2o4t', '4es1', '3uxw', '4wk3', '1igv', '5dsu', '2mtw', '1ctf', '1dt4', '3kzd', '5oc6', '3sbn', '4n7f', '3mye', '2g6q', '4w5l', '1niz', '5d5w', '2y2y', '6clp', '3ce8', '4gwv', '3f2u', '4e0k', '1not', '6ats', '4i6o', '4x3i', '4eid', '1w53', '6njg', '1j55', '3lo6', '3muv', '3d9u', '5zx1', '1tpm', '5f0u', '1bb9', '2mc6', '3po0', '2ldc', '1xyi', '1fvq', '1be7', '1ni8', '1alf', '1imq', '3sj0', '4r2p', '1bpi', '1yd5', '3hmr', '2bvz', '6o5w', '6ats', '3exy', '5azz', '1dcd', '3gzl', '5k9p', '1gat', '4by8', '3b7h', '4dzk', '2jf1', '1fk5', '4xp8', '1hpk', '4iuz', '3lvx', '1pzw', '5lis', '1hod', '1svr', '1ixa', '1b2g', '3bzq', '6ben', '1nhm', '3adj', '6egm', '2xdc', '1ski', '3ic4', '1ctj', '7msi', '2oih', '5oxh', '6q5l', '1cph', '1gzi', '1dep', '4bkg', '5i5b', '3e7z', '6g6a', '1tor', '3hj2', '1tjb', '4es1', '4djg', '1unz', '4oaj', '5wiq', '1blu', '3f2u', '5uhr', '1qp2', '2ws1', '2stw', '3f50', '5o3s', '5awl', '2d0s', '5ob0', '3tu1', '1ubi', '1zaa', '6o2f', '1ho2', '6cdx', '3efu', '2g9e', '3bo4', '4i5y', '4lwd', '3kyy', '1xyi', '1h75', '2j53', '2pa1', '1zij', '2zta', '5tzm', '1zt3', '1kbe', '4rbx', '5i55', '3azd', '1mgw', '2fla', '3ge2', '2fb0', '3bpu', '1chc', '3b7h', '4ar5', '5iiw', '2pnv', '1b2j', '2bb8', '1smu', '1ij2', '4tzv', '1gjf', '6ds9', '5fb6', '1fna', '4bdx', '2hpj', '1skk', '2pnv', '2mc7', '5h3g', '1ixa', '1jav', '2gqv', '1yd1', '2jxi', '3zy1', '6nfs', '5ycq', '5oc5', '1wkx', '1fca', '1b2a', '4z0w', '1odp', '1pnj', '5wiq', '5fr6', '1lr8', '4zyi', '3w5x', '2il4', '1hsm', '5law', '3ulh', '1kdl', '2bop', '1wy3', '2g0c', '2ptv', '5i6a', '1yd4', '1wy4', '1jxy', '1d5q', '4xfo', '4i6o', '1zva', '1snb', '1hll', '3m0q', '3po0', '3jzp', '4mpa', '3nvh', '2rk2', '4krw', '2z17', '3w5z', '2o3g', '3lo6', '1ov9', '4niz', '3sj0', '2fi0', '6kj1', '4hqu', '1w7r', '1cq4', '1fk0', '5tda', '1lyp', '2ywk', '2pq3', '2yeo', '2rk2', '3loz', '6u2u', '6hao', '2jyl', '3q9p', '3dwu', '2mmu', '2e1f', '2d4f', '6asz', '3tnv', '3go3', '1lvr', '3wmq', '1jo4', '3jtg', '1uo2', '4wvs', '4by8', '2mc7', '1h02', '6iw3', '4qq6', '5e21', '2qdq', '6bf5', '5klc', '5yiu', '1gzz', '5tzm', '5eka', '1urr', '1df4', '2gf1', '1ni8', '2ewt', '1q8b', '4hqu', '3zee', '5l0m', '1yd1', '1fk0', '2j6f', '1jyu', '1ifk', '2mu8', '5u6z', '2ygs', '1mgw', '1a3j', '4ml2', '4hca', '4qe7', '6g8d', '4he7', '1zii', '1qm7', '6n7o', '6nce', '1b9p', '5ilv', '1ywp', '1ctj', '2dsx', '1rgj', '6dl0', '5dma', '3mye', '1be7', '5kvr', '5ke7', '4e0n', '1kdl', '1l3q', '1fyk', '1gzy', '3bbz', '1b2a', '5uxt', '2rk1', '3ndq', '3i5r', '4b2j', '5kb0', '1ywp', '2n7o', '3e7u', '3zvz', '6mpn', '2wq2', '1d6g', '3w19', '2hpj', '5g4d', '4pno', '3o2e', '5o94', '2hi5', '1cnr', '1c26', '6s3f', '2o4a', '2pxu', '1y50', '3ulc', '1fsv', '4cxl', '1y0m', '3fod', '4i6o', '3t4r', '1pwt', '4pas', '6msi', '4bvc', '2uux', '1wkx', '2mtw', '2wq0', '1mnb', '2o4a', '3e7z', '6aty', '1jbd', '2j6f', '3ge2', '1dcd', '3uc8', '1c8c', '2ccc', '3w66', '1wy4', '5lis', '3qmb', '2fdn', '1bta', '3zzo', '1qvl', '3i9q', '5goj', '3hjx', '1neg', '6ac5', '4aeq', '1sbu', '4p4y', '1hp9', '4r55', '1uo4', '3k3v', '1nmj', '1jkr', '3bpu', '6cq7', '1bq8', '5o75', '1fd8', '1e6g', '1hll', '2wl7', '4dmt', '2bn8', '1r7e', '1wct', '3dsp', '1tyl', '4ddj', '2bn3', '1jkp', '4s2q', '3w5z', '4ynx', '6dl1', '5e21', '1l2p', '1rju', '1snb', '1hod', '2o4t', '1jj6', '6avc', '3mi7', '1nnx', '2n28', '2j76', '2omm', '5mas', '3o3y', '2i5u', '1k18', '4hca', '4zj9', '4z3c', '3b4d', '3bbz', '4gu2', '2mss', '3fod', '6nw1', '1yzm', '4lfs', '1qvl', '1bax', '2h46', '1smu', '1idi', '1fes', '3iqq', '1q8b', '4tzv', '3bo3', '1ug4', '4k78', '1hsm', '1t1d', '1ifl', '6dkz', '1cw8', '3ctv', '3i8z', '1qpy', '1c0r', '5n9i', '1nfj', '1edw', '1p0r', '1gcn', '5d54', '3j0r', '5e0y', '2msa', '2iia', '1pen', '2jnr', '1mgw', '1c53', '2ds5', '4w67', '1snb', '6ky4', '1j5k', '2yxf', '1fes', '1lqh', '1gzr', '1ob6', '4w5l', '6ez7', '3wwl', '4jm1', '3adl', '7msi', '1lr7', '8ame', '1x6j', '6g6b', '3msh', '2hzc', '1pi7', '4zqa', '4f2l', '4qe9', '1cgd', '5w4i', '3shb', '1h0y', '3jzp', '6b17', '6oiz', '1c0r', '1qqv', '1mhu', '1dfe', '4hlr', '6gmt', '1f5e', '2mss', '1aie', '3nvf', '1seg', '3h0f', '1fb7', '3i9z', '6rk4', '1qpy', '1iet', '4ur4', '1sho', '6mk8', '1yd4', '3s0r', '2gkt', '4zyf', '1bax', '3nkj', '2n7o', '1tuc', '2w4p', '2gv2', '1nfj', '5n9h', '1b2a', '1bno', '4niz', '1fsv', '2ws4', '2k51', '5mgm', '6cbu', '3sgp', '1j7c', '4y2m', '5x3o', '2fb0', '2xeu', '4r2e', '3ov5', '5e5v', '1fyk', '4y0l', '1zp8', '1opz', '1cos', '6fce', '1iu5', '4qb0', '6be7', '5l0m', '5kl2', '1neg', '5oqz', '1fb7', '2drk', '2w4c', '1fhm', '3ldc', '5keb', '5jqf', '4krw', '4r0u', '5azz', '3swb', '4npe', '2yxm', '3lyw', '4wsp', '1gv5', '4ncv', '6a0a', '2pm1', '2n29', '5k92', '4z0o', '4onk', '4eid', '6rk4', '6clj', '3e7u', '4mgp', '3zhi', '3nhc', '6mxf', '5ke7', '3d2n', '3wmq', '6c4q', '6uyv', '6iw3', '3cr2', '1c26', '6bf5', '3fth', '1who', '1fes', '6c4q', '2hda', '2mtw', '1bby', '6nla', '1jxy', '4prf', '1oot', '1zzk', '1a1l', '5ycw', '2zgd', '4b2m', '6fpk', '1eds', '4i5y', '1sho', '2e1e', '4qxx', '3w61', '1hqb', '2o31', '1svr', '5f0u', '2pk4', '6s3f', '6qb2', '1ipg', '2yvr', '2p09', '6nce', '5o3s', '6dkz', '6q61', '3jzk', '6i05', '1a1w', '4p6j', '3ldc', '4hb1', '1jko', '2o4t', '1qpy', '2crt', '4wk3', '1coo', '1ovx', '5uhr', '4z58', '1iu5', '4p0c', '4x3i', '1uln', '5sur', '1imo', '4fdb', '6uyv', '1qow', '4xdx', '5kkv', '2ajo', '2xsk', '3m0q', '6fm8', '5pcy', '1ptq', '4gzn', '5uu2', '3ctv', '6cln', '1g3x', '1j7b', '5u59', '1zy6', '5oqz', '1cre', '4iyd', '3dml', '2ovc', '4haj', '4a20', '1opc', '4dzn', '6dix', '1je4', '1yd3', '2erl', '4iuf', '4axy', '3irw', '1azp', '5k07', '3h0f', '6ogk', '3tn2', '5h3g', '3q9h', '6h89', '5z6e', '1zv7', '4npe', '6h87', '3i9z', '2xmw', '3wwl', '6clt', '3qmh', '1mjc', '1pnd', '1ame', '1amt', '3cyo', '3g1e', '1bxv', '4y0l', '5nnt', '2rhf', '2pxk', '6i6y', '2xmf', '1dhg', '1uo1', '1jjd', '2oj3', '1jek', '5de5', '3n32', '1pzw', '6o2f', '3e7z', '4rp7', '2i5m', '4oml', '4gje', '6gmt', '4j9c', '4w67', '6q5h', '4uut', '4tto', '2p4t', '2plh', '2mua', '1alf', '1gvp', '2qff', '5n9h', '3trv', '2jia', '6g6a', '2r9i', '1yhb', '2i5u', '1hqb', '5mg9', '5oc4', '4pe7', '6ctg', '2bn8', '5e5v', '1lxh', '5l0m', '5o75', '4w92', '5i5a', '4gif', '1yd0', '4jjc', '1qxx', '2pm5', '5mgm', '2bop', '4hjd', '2pcy', '3ctv', '1d6g', '3n32', '3kyy', '1lvr', '1h0y', '6f3v', '5oqz', '1q3y', '2qic', '6ei8', '2rk5', '4a20', '3dg1', '1l2p', '1sbu', '4m9e', '6cmh', '3e0e', '1yri', '4w5p', '3wmj', '4znn', '5e0y', '1neh', '1al1', '5o3s', '3oqa', '2qt4', '5nfm', '2mz6', '1jwo', '6btk', '1l9a', '5k2g', '4g3b', '1ug4', '6mxf', '2stw', '3ssu', '3r65', '3s6w', '1r0i', '3a38', '2p09', '6ipy', '3kat', '1wm2', '2c60', '5w50', '2c60', '3ulh', '4jm1', '5eca', '6q5h', '2hgf', '1qr8', '2yx8', '1ij2', '4dzk', '1l0h', '6od2', '4djg', '4e0n', '4hlr', '1gzi', '4omn', '4f25', '1wo0', '3c1p', '1fjk', '3nds', '5xsg', '2ont', '6ich', '8ame', '1zzn', '1odr', '1ef5', '1j7c', '5w52', '1t7e', '1fvs', '1tor', '4qt7', '3jtz', '6mpm', '5tda', '4b6w', '1ogw', '5zkm', '3pdg', '2yxm', '4wb4', '2m6g', '1e5b', '2yeo', '3nvh', '4tl1', '1unm', '2wos', '3w66', '5e4x', '5l9n', '3gna', '1dxg', '2oih', '6ame', '6g6d', '1l3q', '2o9v', '1yjo', '4w5l', '1lxe', '6fx2', '2ww6', '1pid', '2pya', '1hta', '3eg2', '6jip', '4r0w', '2z17', '1yqb', '5kvr', '4q6h', '4f2j', '5i55', '1jkr', '5dom', '1n8u', '4kvu', '3b7h', '2bvz', '3i8z', '2o9s', '1kbe', '1enh', '5wkb', '1bax', '3ds1', '5k7n', '4j7e', '1a1w', '6clj', '1p7e', '5d54', '2y1y', '1era', '4i5y', '4wfw', '5usp', '3dsp', '1fbr', '3rjs', '4he7', '6m9i', '2ygs', '1ris', '1imq', '1mkn', '3c1p', '1unw', '4n6u', '6e33', '2muf', '4nib', '3dnc', '1mnb', '2b8g', '5d78', '1ffm', '1nhm', '4a20', '1chc', '6cg4', '5uu2', '6g9g', '6axz', '2r8n', '1neh', '1mzm', '4pe7', '1op1', '5yrx', '5i5a', '5hsp', '4hp3', '4r2r', '1op1', '1nre', '6htl', '4tzv', '4gu2', '2cc6', '1nru', '4eic', '4ame', '4jjc', '3t46', '1zuu', '1fw5', '3mxh', '2ds5', '3rd2', '1xok', '2xdc', '4wol', '4axy', '1rb4', '6dr4', '1b5m', '2y2a', '6gs3', '1zyv', '1x8y', '1c26', '1bm8', '6nw1', '2fj9', '3nvf', '1q7o', '1nil', '4nip', '1ntn', '2fk1', '7msi', '5bum', '4bnc', '1hy8', '6nw0', '1ops', '4jm1', '1ehj', '3ltd', '1epi', '5wlf', '2b8i', '1uoy', '4x9j', '4pz1', '1k18', '1ckb', '5ob0', '6fhd', '2d46', '1lxe', '2pcy', '2ona', '1lb0', '4iuz', '6m9i', '6g6d', '4x3i', '4o9l', '1e6g', '4r0r', '1i27', '6mpm', '4f2j', '2ams', '4m1p', '1b07', '6diy', '3bkf', '6dl0', '2d46', '5od1', '3kuj', '1fvq', '4ovo', '3lyw', '1edn', '1cit', '6c4v', '1bh7', '1pyz', '6rx1', '2x1f', '4omm', '5k92', '4eic', '1w7q', '6jza', '1fvs', '1rb9', '5nnt', '1tbn', '6b34', '1ov9', '1j4m', '1ycq', '6msi', '1g33', '1f5e', '5wkd', '1h0y', '1b9p', '1t7b', '5n9i', '1mho', '1a1l', '1wtq', '1rgj', '3wmj', '3sgp', '2y2a', '2xmw', '1blu', '2b0g', '5twi', '1qbf', '1tkq', '5hir', '3u23', '5k92', '2yxf', '4nkk', '2ona', '1lds', '5sut', '1ovx', '5u59', '1fk0', '4qb0', '2nmq', '1kqe', '5fw9', '4zqa', '1eds', '3f4z', '4ar6', '1id7', '3k9a', '2zgd', '2gv2', '1lds', '1u3y', '1ulr', '1ehd', '4r2e', '3q9h', '2fd9', '1lea', '3bzq', '4hn7', '6clf', '5ilv', '1a1i', '4zj9', '1oai', '3bn0', '2jxi', '2f15', '2x1a', '3j0r', '1y49', '1uva', '2b8g', '1ttg', '4rwc', '1r0g', '1ehj', '4rwc', '3lde', '6dr4', '4nw3', '1qp2', '5joo', '1ay3', '1bph', '1jxd', '5eca', '5i41', '4nsm', '1yd4', '4q63', '1qjh', '5n9i', '4k9f', '1upj', '4r7e', '1a2s', '1doq', '4x3x', '4w90', '2mkn', '3g27', '1lu0', '6m80', '5g4d', '1lms', '2o4a', '4p4y', '4kvu', '6mmc', '1jzb', '4onk', '4dmt', '1lr7', '2q2k', '1gzz', '3nvf', '4z0o', '2oqq', '3b09', '1yu8', '1g3x', '4ncw', '1xt7', '1l2p', '1kbe', '3e8y', '1baj', '6ez7', '4bdw', '3zzp', '1tuc', '1d5q', '1bdo', '1rlq', '5zys', '4ubz', '1b6w', '1byz', '1t7h', '5a7u', '1cei', '4x9j', '5w7v', '3loz', '2rk5', '2k51', '6u2u', '3gzl', '2xmw', '1eva', '5y3c', '3hjx', '1zva', '6i05', '4mt2', '3kde', '4hn7', '3kat', '4r2r', '1wct', '6cls', '4n6u', '4s2q', '2mrb', '1ctf', '3sgm', '4hjd', '1wfb', '4x1v', '5kb1', '3zp5', '1r0i', '5goj', '3i9q', '1nre', '6cq7', '4f42', '6fx2', '3i9q', '6be7', '4wbv', '2wnm', '4uno', '3ndq', '1mnb', '1odp', '6b34', '1qoj', '4mpa', '1lqh', '1pi7', '3a38', '3czt', '2c8q', '5gob', '2w4f', '2dpr', '6ins', '1cm2', '1jkp', '4zmk', '2af8', '5yiu', '1w53', '6nw0', '3bo2', '6clo', '4mls', '1ee7', '1m24', '1kef', '4r55', '3go0', '3kqi', '4crh', '4nsm', '1zac', '5kiu', '1b2g', '2wfu', '1ipg', '5j8p', '1w7q', '2j76', '1gjg', '173d', '1jxw', '3irw', '6h88', '3bs3', '5aps', '3fe7', '4iuf', '4x9j', '3azd', '4gmq', '1gq0', '5ycq', '1r7j', '1lea', '4aqj', '1l6h', '3w65', '1ctj', '4jjb', '3kde', '1yhb', '1tud', '4tto', '1upj', '3bo3', '2ayd', '2d4f', '2pm4', '6dl0', '6fce', '4ab0', '1bm8', '4fc1', '2gkt', '4efx', '2ams', '1biv', '6mpl', '6msi', '3lbk', '2gbn', '5x3o', '3svm', '1epg', '2pya', '3icb', '3cr2', '5pcy', '5zne', '1ag6', '5w4h', '2onv', '1dng', '1e9k', '1cyj', '1gq0', '1zj7', '2rb8', '1ei0', '4aeq', '1usm', '1h34', '1mid', '5z9z', '6jqs', '3sgm', '3eg2', '6qb2', '2o3g', '1hdp', '3ltb', '1ag6', '3sny', '4axy', '3ree', '2pne', '1zii', '3nhd', '5k7n', '1pwt', '1yd0', '1eot', '4q6h', '5kl2', '3h0f', '1y47', '5oc5', '4f16', '6i0q', '1dgc', '4rxn', '4f2l', '1tgg', '4gyx', '3po8', '1y47', '6cli', '1ob6', '3ofw', '2j53', '3zhi', '1hg7', '5oc4', '1dn3', '6qrk', '3im3', '1wri', '6i6e', '3ree', '1nxb', '2msa', '6jqs', '2gqv', '4lfs', '1cos', '1ag6', '2rk1', '1fsc', '173d', '4ipf', '5usp', '2cg6', '2cro', '1b2j', '1lyp', '5itj', '1f1f', '3msh', '1caa', '6h85', '1a7w', '1rlq', '5gy6', '2h3m', '1ifl', '4k9f', '1lds', '1xmt', '4oz7', '6i0q', '1kw4', '1bdw', '1qm7', '4pe7', '3sol', '5ycw', '3mi7', '1biv', '2dsx', '3a0s', '4omq', '5xsg', '5uvr', '1fjk', '3kuj', '1hym', '3b09', '6ava', '5oc6', '2igz', '1a7w', '2pa1', '5zne', '1xof', '3w61', '1cq4', '6cls', '5d5w', '3mxh', '3cw3', '2i5l', '4r55', '4hca', '5aps', '2pq3', '5k2g', '6g6b', '1j5l', '5u5b', '2eg2', '4r2d', '2w0z', '3k9a', '5klf', '4hp2', '1azp', '2y9u', '4ar6', '3adl', '1x6j', '5oc8', '1uz9', '3lk1', '2e1e', '4u7y', '1haf', '5gog', '4fkd', '4nip', '6c4q', '1eig', '3h8h', '6fm8', '5mg9', '2plh', '3j6c', '5oll', '1cei', '1irn', '2mmu', '1t1d', '5nfl', '1gdc', '1z1x', '1a1j', '5e4x', '1cyj', '6asz', '1dme', '2ayd', '6mk8', '1nxb', '1t8j', '1ops', '1mjc', '4ou0', '3bs3', '2ajo', '4lfs', '1yg0', '2qdq', '3dnc', '3ons', '3lo2', '5e0y', '1pjd', '1wo0', '1i8c', '4pas', '2x5t', '1mzm', '4zzd', '3gna', '1ug4', '6htl', '2tgf', '3hjx', '2wfv', '1doq', '2igz', '1yd3', '2mu8', '2gqv', '4d3g', '1eig', '1cw8', '1zy6', '5oai', '4x3h', '6ogk', '5oc4', '1dol', '1sol', '1epg', '6egm', '1zaa', '1ym8', '3jrz', '4hp2', '1yx7', '2fd9', '5j0i', '6cg4', '3loz', '4npe', '1jkp', '4god', '4z3c', '1wy3', '1k3h', '6gol', '1b0x', '1n8u', '2xsk', '3lyw', '2wq2', '1hhc', '5u5b', '5nw3', '4w92', '5kl7', '4prf', '4oy5', '1off', '1gxt', '1jbd', '2bus', '1sol', '1e5b', '1ckb', '5de5', '6rk4', '1f03', '3qmb', '4rgi', '1cq4', '5i5a', '1bq9', '1h98', '1p7e', '2cg6', '1z1v', '1o51', '2oxk', '1svr', '2x7z', '1zac', '1cre', '4omq', '3l1x', '1ski', '6jip', '6ei8', '6atv', '1mho', '4f98', '1edw', '1bh7', '4z3c', '3f50', '1cya', '1bph', '1kef', '2mz6', '6fx2', '1fk5', '4rtz', '1m24', '1u36', '4fkd', '1edn', '3ltd', '2j53', '1hp9', '1h34', '6ich', '4w5p', '1j4m', '2gpi', '4qq6', '1r7g', '3go0', '1ctx', '4fxc', '3f50', '2yxf', '3czt', '3jtg', '5zkm', '4oz7', '4xyp', '1etl', '1dep', '5j0i', '2ict', '2ccc', '4krw', '4znn', '1cgd', '5trb', '1hy8', '1g33', '6ame', '1b5b', '1enh', '3lbk', '6kzu', '3w5z', '5de8', '5azz', '4bnc', '6g55', '2wpy', '6de9', '1bby', '1yd3', '6ez7', '1tin', '3tn2', '2x7z', '6clp', '3h5f', '2x1a', '1hzn', '5jqf', '5jrt', '4r2r', '4mt2', '1j1v', '1j9n', '4xyp', '3jtz', '1chc', '2m6g', '2b0g', '4hlr', '3ow9', '1jzb', '3muv', '1hqb', '2iia', '2jf1', '4ar6', '3sj0', '4nw3', '2n09', '1uno', '3bkf', '1w7r', '5fwc', '6a0a', '2gbn', '1yzm', '2ds6', '6od2', '1l5d', '2x5g', '1amt', '4b2j', '5u6z', '4f2i', '5d78', '1uoy', '2j70', '1dme', '2h46', '1y0m', '2zta', '5i41', '1hp8', '1bb9', '1coi', '3d9u', '1mzm', '2pk4', '3dml', '2iim', '2w4p', '1piq', '1mp6', '6fhd', '1be7', '3o2e', '4bdx', '2f2v', '3cec', '1ifi', '6h87', '1npi', '2zpp', '1dxg', '6btk', '1ay3', '5keb', '1q3y', '6fpk', '6i6e', '6dr4', '2cg6', '1ich', '3i9z', '6e6r', '1eva', '5hck', '2x5t', '2mz6', '6ds6', '1dol', '3cwi', '3ons', '4r2d', '5l87', '1hp8', '5fw9', '1ich', '4hqu', '5oll', '4k75', '1uj8', '1fd8', '2yvr', '6qrk', '6uyp', '3ds1', '4omm', '5w50', '1lu0', '2bn3', '1or5', '2ovc', '1hpk', '3kvq', '2hdz', '4ar3', '3fq9', '4gwv', '2bzx', '6asz', '4omm', '1hha', '3j6c', '1fhm', '1yd1', '4ncv', '5dkq', '4rgi', '1l9a', '1zv7', '1jxd', '1jwo', '5sut', '5e5v', '2cwr', '1c8c', '1hzn', '4gzn', '1uno', '1a1i', '1e9k', '1cgd', '4ltt', '1cwz', '4q63', '1pdc', '3mye', '1pdc', '1lms', '1zdb', '2pa1', '2drk', '1nxb', '1qxx', '1d8k', '6q5l', '4zj9', '1r7e', '5z6e', '3swb', '1zj7', '1pfp', '5lfh', '3bn0', '1nil', '2qt4', '3p7k', '1u36', '6d2h', '5nw3', '4nsm', '1j9n', '1not', '1zyv', '1bta', '2ayd', '6hvc', '1iu6', '4aqj', '6cnu', '3s64', '1kbs', '4f98', '3qii', '1gjf', '2tgf', '1ffm', '1j8b', '1kiv', '1ycq', '451c', '1qp2', '2ygs', '1lxh', '1b6w', '5h3g', '3iuf', '3ic4', '5tdr', '1l5d', '4zyf', '5ke6', '2pst', '1jbd', '1qbf', '2erw', '6g8d', '1t2t', '2oqq', '4b2m', '5mas', '4qb0', '2ehs', '2mty', '2gpi', '1aoo', '2jf1', '4pno', '5umv', '2n29', '2duy', '2bf9', '4hlb', '4xal', '6gs3', '1bno', '1yd5', '6o4j', '193d', '6m80', '4pr6', '1aie', '2o9s', '3u71', '2fd9', '1mkn', '4wjn', '4o9l', '5tdr', '2wfu', '4npn', '1wzb', '5keb', '4y2m', '3idw', '1l0h', '1bph', '2j76', '4tv0', '1dhg', '6i6y', '1c0r', '1gvp', '6cfy', '3al1', '1bpi', '3e4h', '4uu6', '1z1v', '1r7j', '2mkn', '6cdx', '4nj1', '1urr', '4ar3', '1blu', '5hpr', '1a1j', '1r6j', '2wor', '1etn', '6ipy', '2bn3', '1nre', '3u5v', '6c4v', '1jk4', '4w67', '1ee7', '2gbn', '1who', '6gol', '4x3x', '2pcy', '2bop', '4w90', '5i41', '4bvc', '6o4j', '1iu6', '1gv5', '1fh1', '5fb6', '2r8n', '3rdn', '2d0s', '4e1i', '3sbn', '1off', '4f98', '4rgi', '1opz', '5od1', '6cld', '2gi9', '4m9e', '1dfe', '4haj', '5bum', '7pti', '1kw4', '2ldc', '3bs3', '1oot', '1qjh', '3zhm', '6aaw', '1sho', '2p09', '2o6n', '2m6g', '1bq8', '4uut', '1zij', '1w2l', '3jtz', '4rof', '3bkf', '1yd2', '1neq', '3bbg', '5ycq', '2xus', '4k75', '4oaj', '6mxf', '1bo0', '5ke8', '2bus', '5trb', '2akf', '3hon', '4fu6', '1kl8', '4dzn', '3go3', '1aoo', '6i31', '1bta', '6e6o', '3g21', '4k78', '1dt4', '4xdx', '1iq9', '1cc5', '1tpm', '1w7q', '5hsp', '5law', '3ldc', '4b2k', '6h8i', '5itj', '3rd2', '1awy', '1ifn', '2fj9', '3p2x', '4d5m', '1coo', '1unw', '3d2n', '1pen', '1tyl', '5af5', '3adl', '5aps', '4rtz', '5nfm', '4iuz', '5m2k', '5wd9', '2wos', '1sjf', '1k5o', '2f15', '3kvq', '2crt', '6h8a', '4r0w', '3dml', '1f1f', '5pcy', '1j7c', '1ame', '1lr6', '1gat', '3h33', '1ctx', '1ql1', '5o94', '1j55', '6e6r', '4yu8', '1cei', '2ibj', '1bh7', '4fqo', '5dsu', '1xmt', '5g4d', '3moj', '1d8k', '2tgf', '4hvw', '4xfo', '1zuu', '5ejw', '5l87', '4wjo', '1lea', '4fqo', '6e6o', '4r2p', '6ds9', '1ljo', '1hdp', '1g6x', '3ovo', '4haj', '1wfb', '1lng', '1jek', '4cxl', '5fwb', '3icb', '3zvz', '5gu8', '2fdn', '6uyp', '1fk1', '2pxk', '316d', '6g8d', '3eg2', '2ol9', '2pne', '3kuj', '1r7g', '1q7o', '4f16', '4f42', '2i5l', '3s6w', '1ycq', '2y1y', '4ubz', '1eot', '5gu8', '3ltd', '4gje', '6fc5', '3k9a', '5yv7', '6qqg', '1ifd', '4dmt', '4n7f', '5z02', '3zp5', '4omp', '1fsc', '2pm5', '1ehd', '1t2t', '2b8g', '1ym8', '3ca7', '1cya', '1j8b', '2gpi', '1epg', '2o31', '1a1l', '2zpp', '3ds1', '2mu8', '2ona', '1wm3', '1os6', '2jnr', '1or5', '2i5l', '4ncv', '2hi5', '5zkl', '6o4j', '2c8q', '3ft7', '1fvs', '2qic', '1ccn', '4god', '1haf', '1fw5', '1g6x', '1kiv', '5fr6', '1a1j', '2muf', '1lr9', '6h8i', '1gvp', '1cnr', '1bx8', '1xy6', '6jcc', '193d', '1io6', '5fb6', '1jni', '5oxe', '1sh1', '1tjb', '4ltt', '4qk7', '5itj', '3nds', '6aaw', '3il8', '3c3f', '5ejw', '2cro', '3rz6', '1uno', '1ifi', '1g33', '4ynx', '6ame', '4g3b', '1cph', '4lwd', '6uyq', '6fce', '1zii', '1ei0', '4hb6', '1ifk', '3sbn', '5ob1', '2xeu', '1gzr', '6aty', '2qti', '3jrz', '1y47', '2cdt', '5x1g', '1iqs', '3bo3', '3sd6', '1pnj', '1f5e', '1tor', '1je4', '3o2e', '2erl', '3k3v', '2h3m', '5gog', '3im3', '4gmq', '6evh', '3ltc', '1edk', '3fpo', '2efa', '1z1x', '4x1v', '2n29', '5ena', '1nnx', '3cw3', '4pr6', '2msj', '1etl', '3ifd', '3lgc', '5gu8', '1neh', '3lk1', '4djg', '4ame', '2q33', '1yzm', '6atv', '1uoy', '5kug', '1b0x', '1j6q', '4j7e', '1iyu', '6h89', '1cm2', '1jab', '6mpm', '2zpp', '2x5g', '6f3v', '4z58', '3rdn', '5jbm', '4omq', '2hzc', '6g6b', '2onv', '3tu1', '4z58', '1al1', '5kl7', '2alc', '4j7e', '2bk8', '3sgp', '2b0g', '2wyq', '5z02', '4hb6', '4lhf', '4r8i', '2y3j', '6o5w', '2r1c', '1pyz', '3svm', '1xof', '2m1f', '3ft7', '2zw1', '3k3v', '3tq2', '1cm2', '1jav', '2gf1', '2af8', '5kl7', '1cyj', '1dgc', '1bno', '4p4y', '1jj6', '2b8i', '1ttg', '5dkq', '5ena', '5nvg', '1unw', '5kl3', '6o2e', '3l1x', '1fca', '5eca', '4g3b', '2alc', '2e3h', '5tdr', '3uxw', '6atv', '4es3', '6akk', '3zzr', '1dep', '2e3h', '1yu8', '1c53', '2eg1', '1yqb', '1i8c', '5znx', '1ruw', '1ptq', '6cfy', '2bzx', '1bo0', '1fyk', '5awl', '2o9s', '1lu0', '1a3j', '4xal', '3m0q', '2mc6', '6ky4', '1hpi', '1j6q', '1jav', '3im3', '2gnk', '3fpo', '1ql1', '6egm', '1ntn', '1ulr', '2ins', '1jni', '3tq2', '1b5m', '2pm1', '2igd', '1j5l', '1ruw', '4q8d', '1kdl', '4yu8', '3zp5', '3b09', '4hvu', '5oc6', '1lr9', '5oai', '1fsv', '4ipf', '5wkb', '1qxx', '6q61', '1haf', '1h02', '1xmt', '3exy', '2n09', '1zt3', '1dft', '1niz', '4wpy', '4rxn', '1mhu', '1neq', '1neg', '2h3m', '1fan', '2ws1', '4iyd', '2ws0', '1nru', '6oiz', '2gv2', '1ee7', '2rb8', '1ifi', '1urr', '2eg1', '1ifl', '1imo', '4fqo', '1bby', '1imo', '5ke7', '1not', '1ifk', '4mgp', '1uxc', '5i0c', '4x3h', '1bb9', '1cph', '1jko', '6jip', '4p4v', '4p0c', '5lis', '4w90', '6iqe', '5trb', '4rp7', '1era', '2n09', '4u7y', '6cli', '5hir', '3qmh', '3lgc', '1id7', '1tkq', '6akk', '2bn8', '2gkt', '5k9p', '6h81', '4gyx', '6fpk', '1eq7', '1pen', '1l6h', '3w65', '3w60', '1xyi', '5i6a', '6evh', '2ehs', '3b4d', '3exc', '3hts', '6ctg', '2fdn', '2ds6', '3uc8', '1bq9', '1hnr', '5exh', '4gje', '2ins', '1ccn', '4wbv', '4b6w', '1a2s', '4r2e', '1yd2', '6c4v', '5uu2', '1pid', '5zne', '4hwj', '1lr7', '5j8p', '4ar3', '2ds5', '1mjc', '1gvd', '3u2b', '1m24', '3i5r', '5mpv', '1alf', '1gat', '2k51', '3efu', '4zzd', '6jnl', '1r0g', '4y2m', '5l9n', '1usm', '1dmc', '1mhu', '2i5u', '3e4h', '1zj7', '1rju', '1ef5', '2gf1', '2pm4', '3jtg', '3zzo', '5klc', '4neo', '5kiu', '1pnj', '1xok', '5z6e', '1b01', '1gzi', '5ith', '1w7r', '1uz9', '1k3h', '1bba', '2jue', '3icb', '1aho', '3zhm', '4r0u', '4kmc', '1hym', '1pk4', '5i0c', '4xp8', '6fx3', '3bbg', '2ptv', '1pnd', '2fla', '3hts', '5tda', '2efa', '3i8z', '4pno', '4lwd', '4hlb', '4k78', '3a0v', '1n8u', '4bs3', '5tzm', '1zac', '1utg', '2cro', '5i5b', '4uno', '1lb0', '3lqx', '1coo', '4iyd', '4ltt', '2wl7', '4hb6', '6dl1', '3lae', '1g6x', '5uvr', '4ab0', '5f0u', '1odr', '4wsp', '3czt', '1qqv', '5yts', '1lyp', '6gmt', '1ame', '3sol', '1lr6', '6iqe', '4mgp', '5yrx', '1bxv', '1ulr', '1os6', '1pfp', '1oai', '2xus', '6clf', '6clo', '1ppt', '6diy', '1jjd', '5fgm', '6bf3', '6cdx', '2mmu', '2ws0', '1k5o', '6i09', '1tyl', '1wct', '5jqf', '2stw', '5ke8', '2oj3', '1hll', '4ml2', '3tu1', '1baj', '1hg7', '2zgd', '6m80', '3bbg', '5kl3', '6hvc', '1npi', '6jcc', '3hj2', '5eka', '6oiz', '5ke6', '1dmc', '5jrt', '1bdo', '3ltb', '6cln', '1cc5', '4gif', '2r9i', '5gy6', '5n9h', '3al1', '1u06', '1al1', '1qoj', '4gzn', '5zys', '4kmc', '1jkr', '6uyr', '3wit', '2yxm', '4n6u', '4lh9', '6diy', '6b34', '5zkm', '1j7b', '1gjg', '2mty', '3ifd', '1aie', '5dma', '3wmi', '6dkz', '1odr', '1hzn', '1yhb', '4aqj', '3u5v', '6akp', '1dng', '3w65', '3tnv', '5zkl', '1tud', '1dcd', '1j8b', '1gmk', '4u7y', '1y49', '4lh9', '5d14', '4e0k', '5oc8', '3cec', '4r2d', '5zxf', '1mp6', '6kzu', '1aoo', '2hda', '4r7e', '1w2l', '1r6j', '4f2j', '1amt', '1usm', '3w5x', '4h8f', '3trv', '3iuf', '6btk', '1sn4', '4he7', '2q33', '2ol9', '6clo', '6evh', '1id7', '1f1f', '2acy', '3f2u', '2omm', '2g0c', '2lpf', '1bdw', '3shb', '3nih', '2y3j', '1t8j', '5d14', '1jwo', '2p4t', '4omp', '1ov9', '6gol', '1l0h', '3fod', '1uha', '4o9l', '1yp5', '1nyj', '4q2q', '1h75', '3sd6', '1uln', '1iqs', '1wri', '1i27', '1zt3', '2wyq', '5m2k', '1z1v', '1x6j', '1tin', '1uxc', '1ski', '6ac5', '1enh', '5oxe', '1ruw', '3ssu', '4es3', '5de8', '6i09', '3il8', '1t7h', '5hpr', '3luu', '1pjd', '1skk', '3go0', '2jp3', '6dix', '1qow', '1t2t', '1hsm', '2rk1', '1jxw', '5yv7', '5kiu', '5ob1', '1b9p', '1px9', '4neo', '3gna', '4q6h', '2akf', '1ops', '2cdt', '1cwz', '1ehd', '6h81', '1b5m', '3ce8', '2o9v', '1npi', '1gmk', '1edn', '1niz', '5fwb', '7pti', '1fna', '4bdw', '1t7e', '1ca6', '1kiv', '3g27', '5yiu', '4wvs', '6de9', '3h33', '1zp8', '6e6o', '3sny', '1gmk', '3nhc', '6akp', '2duy', '6aaw', '3lo2', '4mt2', '5x3o', '5ke8', '5oc8', '6h8a', '3ait', '5de5', '3oqa', '2pst', '3bo4', '5wqr', '1p0r', '2igd', '4b2j', '1ywp', '1tgg', '2pst', '6ds6', '2x5g', '6u2u', '5y18', '1u06', '5jbm', '2pm4', '6clp', '3u23', '2uux', '3w60', '5ob0', '4e0k', '1ljo', '1u36', '1piq', '5oxe', '2ewt', '5exh', '3zy1', '2ju2', '4omp', '1skn', '4onk', '1bdo', '1hry', '6nb9', '3dwu', '1rb4', '3kat', '5zx1', '4p6j', '4nkk', '2bk8', '2pm1', '3dg1', '1b5b', '1tuc', '4ubz', '6ac5', '4p4v', '6cli', '1ni8', '1t8j', '1zij', '5ith', '1sol', '2alc', '2yx8', '6be9', '1fjk', '1joh', '2x1a', '4kmc', '3gzl', '1neq', '1l6h', '1lxh', '6ipy', '2hgf', '3zhm', '1jk4', '5kvr', '2iim', '3tn2', '1w53', '2pm5', '1fna', '4wfw', '4esf', '2jia', '6h81', '4nkk', '3ltb', '3fe7', '4uno', '3ow9', '1h34', '5d54', '5ena', '2ams', '1uva', '5mpv', '4fkd', '4bs3', '5klc', '2ovc', '1wv8', '1pnd', '3ltc', '3f4z', '4lhf', '1ipg', '6h48', '1eot', '3s0r', '4hb1', '2bvz', '3c3h', '1jab', '6mmc', '4qt7', '1tbn', '4gjf', '3b4d', '3uxw', '2i5m', '6nfs', '2iia', '3muv', '3egu', '3cyo', '2o9v', '1wz5', '3t4r', '1fvq', '4yu8', '3lo2', '5suu', '1byz', '1c0q', '1b01', '1j5k', '2jue', '1skk', '4ovo', '1qow', '3a0v', '2ibj', '2yvr', '3rjs', '2hgf', '2hda', '5kb1', '1rb9', '5nfl', '1opz', '4d5m', '1jko', '4x3x', '3jzk', '1dk3', '4ame', '5ejw', '2g6q', '3luu', '2drk', '5dom', '1yp5', '3kiv', '3p7k', '3h8h', '4bdw', '2yeo', '3tnv', '5w4j', '3c3h', '1edw', '4mdn', '6d2h', '3cyo', '2gnk', '5z9z', '4r0r', '1tbn', '3moj', '5i0c', '1yp5', '4cxl', '1cos', '2y2a', '1mkc', '6jqs', '6i31', '1dmc', '5w4h', '2qti', '2wfv', '3zee', '4wk3', '2igd', '3w19', '2oih', '6avc', '2uux', '2w0z', '3nhc', '1g3x', '1ifd', '2qff', '3sd6', '4e1i', '1df4', '3exc']\n",
      "4427\n"
     ]
    }
   ],
   "source": [
    "source_b = '/media/the_beast/A/mathisi_tests/data/sample_100/testset/direct_neighbour/'\n",
    "test_tag_list = []\n",
    "test_tag_list.clear()\n",
    "for root, dirs, files in os.walk(source_b, topdown=False):\n",
    "    for name in files:\n",
    "        test_tag_list.append(name.split('_')[0])\n",
    "print(test_tag_list)\n",
    "print(len(test_tag_list))"
   ]
  },
  {
   "cell_type": "code",
   "execution_count": 43,
   "metadata": {},
   "outputs": [
    {
     "name": "stdout",
     "output_type": "stream",
     "text": [
      "0\n"
     ]
    }
   ],
   "source": [
    "duplicates = []\n",
    "duplicates.clear()\n",
    "for t in test_tag_list:\n",
    "    if t in tag_list:\n",
    "#         print(f\"Duplicate: {t}\")\n",
    "        duplicates.append(t)\n",
    "print(len(duplicates))"
   ]
  },
  {
   "cell_type": "code",
   "execution_count": 39,
   "metadata": {},
   "outputs": [
    {
     "name": "stdout",
     "output_type": "stream",
     "text": [
      "Dataset size is: 1500\n",
      "\n"
     ]
    }
   ],
   "source": [
    "input_path = '/media/the_beast/disk/protein_folding/amino_acid_tags/'\n",
    "target_length = 100\n",
    "dataset_size = 1500\n",
    "check_path = '/media/the_beast/A/mathisi_tests/data/sample_100/direct_neighbour/'\n",
    "\n",
    "counter = []\n",
    "test2_tag = []\n",
    "test2_tag.clear()\n",
    "counter.clear()\n",
    "duplicate_list = []\n",
    "duplicate_list.clear()\n",
    "\n",
    "for root, dirs, files in os.walk(check_path, topdown=False):\n",
    "    for name in files:\n",
    "        duplicate_list.append(name.split('_')[0])\n",
    "        \n",
    "for root, dirs, files in os.walk(input_path, topdown=False):\n",
    "    for name in files:\n",
    "        if name.split('_')[0] in duplicate_list:\n",
    "            pass\n",
    "        else:\n",
    "            with open(input_path + name) as f:\n",
    "                count = sum(1 for line in f)\n",
    "                if count != 0:\n",
    "                    if len(counter) > dataset_size - 1:\n",
    "                        break\n",
    "                    else:\n",
    "                        if count <= target_length:\n",
    "                            counter.append(count)\n",
    "                            test2_tag.append(name.split('_')[0])\n",
    "print(f\"Dataset size is: {len(test2_tag)}\\n\")"
   ]
  },
  {
   "cell_type": "code",
   "execution_count": 40,
   "metadata": {},
   "outputs": [
    {
     "name": "stdout",
     "output_type": "stream",
     "text": [
      "0\n"
     ]
    }
   ],
   "source": [
    "duplicates = []\n",
    "duplicates.clear()\n",
    "for t in test2_tag:\n",
    "    if t in tag_list:\n",
    "#         print(f\"Duplicate: {t}\")\n",
    "        duplicates.append(t)\n",
    "print(len(duplicates))"
   ]
  },
  {
   "cell_type": "code",
   "execution_count": null,
   "metadata": {},
   "outputs": [],
   "source": []
  },
  {
   "cell_type": "markdown",
   "metadata": {},
   "source": [
    "### Transfer files form train set to test set"
   ]
  },
  {
   "cell_type": "code",
   "execution_count": null,
   "metadata": {},
   "outputs": [],
   "source": [
    "import os\n",
    "import shutil\n",
    "import numpy as np"
   ]
  },
  {
   "cell_type": "code",
   "execution_count": null,
   "metadata": {},
   "outputs": [],
   "source": [
    "random_sample = np.random.randint(low=1, high=43132, size=101)\n",
    "print(random_sample)"
   ]
  },
  {
   "cell_type": "code",
   "execution_count": null,
   "metadata": {},
   "outputs": [],
   "source": [
    "i = 0\n",
    "file_path = '/media/the_beast/A/mathisi_tests/data/nearest_neighbour_8/'\n",
    "destination_path = '/media/the_beast/A/mathisi_tests/data/testset/nearest_neighbour_8/'\n",
    "for root, dirs, files in os.walk(file_path, topdown=False):\n",
    "    for name in files:\n",
    "        if 'labels' in name:\n",
    "            i += 1\n",
    "            if i in random_sample:\n",
    "                shutil.move(file_path + name.split('_')[0] + '_adjacency-matrix.pickle', destination_path)\n",
    "                shutil.move(file_path + name.split('_')[0] + '_features.pickle', destination_path)\n",
    "                shutil.move(file_path + name.split('_')[0] + '_labels.pickle', destination_path)"
   ]
  },
  {
   "cell_type": "code",
   "execution_count": null,
   "metadata": {},
   "outputs": [],
   "source": []
  },
  {
   "cell_type": "code",
   "execution_count": null,
   "metadata": {},
   "outputs": [],
   "source": []
  },
  {
   "cell_type": "code",
   "execution_count": null,
   "metadata": {},
   "outputs": [],
   "source": []
  }
 ],
 "metadata": {
  "kernelspec": {
   "display_name": "Python 3",
   "language": "python",
   "name": "python3"
  },
  "language_info": {
   "codemirror_mode": {
    "name": "ipython",
    "version": 3
   },
   "file_extension": ".py",
   "mimetype": "text/x-python",
   "name": "python",
   "nbconvert_exporter": "python",
   "pygments_lexer": "ipython3",
   "version": "3.7.7"
  }
 },
 "nbformat": 4,
 "nbformat_minor": 4
}
